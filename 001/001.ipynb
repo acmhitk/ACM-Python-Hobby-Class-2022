{
  "nbformat": 4,
  "nbformat_minor": 0,
  "metadata": {
    "colab": {
      "name": "001.ipynb",
      "provenance": []
    },
    "kernelspec": {
      "name": "python3",
      "display_name": "Python 3"
    },
    "language_info": {
      "name": "python"
    }
  },
  "cells": [
    {
      "cell_type": "markdown",
      "source": [
        "# ACM Python Hobby - Introduction to Python 001"
      ],
      "metadata": {
        "id": "Z29oR5oXgq_L"
      }
    },
    {
      "cell_type": "markdown",
      "source": [
        "## Jupyter Notebook"
      ],
      "metadata": {
        "id": "sDbuPEEiggti"
      }
    },
    {
      "cell_type": "markdown",
      "source": [
        "The Jupyter Notebook is an open source web application that you can use to create and share documents that contain live code, equations, visualizations, and text."
      ],
      "metadata": {
        "id": "CxTW5YCCgYv_"
      }
    },
    {
      "cell_type": "markdown",
      "source": [
        "## Part 1 - Python Operators \n",
        "\n",
        "- Arithmetic: `+` `-` `*` `/` `%` `**` `//`\n",
        "- Conditional: `==` `>` `<` `!=` `<=` `>=`\n",
        "- Logical: `and` `or` `not`"
      ],
      "metadata": {
        "id": "hJkIfMNZtPmh"
      }
    },
    {
      "cell_type": "markdown",
      "source": [
        "This tutorial covers the following topics:\n",
        "\n",
        "- Python Arithmetic Operators\n",
        "- Solving multi-step math problems using variables\n",
        "- Taking simple input\n",
        "- Evaluating conditions using Python\n",
        "- Combining conditions with logical operators"
      ],
      "metadata": {
        "id": "ayjzkZj0u-AO"
      }
    },
    {
      "cell_type": "markdown",
      "source": [
        "### Python Arithmetic Operators\n",
        "\n",
        "![](https://github.com/acmhitk/ACM-Python-Hobby-Class-2022/blob/main/assets/operators.png?raw=true)"
      ],
      "metadata": {
        "id": "be9Y6ln6ktuy"
      }
    },
    {
      "cell_type": "code",
      "execution_count": 1,
      "metadata": {
        "colab": {
          "base_uri": "https://localhost:8080/"
        },
        "id": "yqdcEJPZHyye",
        "outputId": "b73bfecc-dfc9-4455-a395-870da37a2c87"
      },
      "outputs": [
        {
          "output_type": "execute_result",
          "data": {
            "text/plain": [
              "1215"
            ]
          },
          "metadata": {},
          "execution_count": 1
        }
      ],
      "source": [
        "# Addition\n",
        "\n",
        "2 + 5 + 8 + 1000 + 200"
      ]
    },
    {
      "cell_type": "code",
      "source": [
        "# Subtraction\n",
        "\n",
        "5 - 8 - 7"
      ],
      "metadata": {
        "colab": {
          "base_uri": "https://localhost:8080/"
        },
        "id": "44-uEuBrqYGj",
        "outputId": "d613e38f-ddc0-4f08-8087-77afe6d2d3ae"
      },
      "execution_count": 2,
      "outputs": [
        {
          "output_type": "execute_result",
          "data": {
            "text/plain": [
              "-10"
            ]
          },
          "metadata": {},
          "execution_count": 2
        }
      ]
    },
    {
      "cell_type": "code",
      "source": [
        "# Multiplication\n",
        "\n",
        "5 * 8"
      ],
      "metadata": {
        "colab": {
          "base_uri": "https://localhost:8080/"
        },
        "id": "85a2HcwkqhYO",
        "outputId": "a671e89e-5556-4faf-8f65-2b8f741c4b4a"
      },
      "execution_count": 3,
      "outputs": [
        {
          "output_type": "execute_result",
          "data": {
            "text/plain": [
              "40"
            ]
          },
          "metadata": {},
          "execution_count": 3
        }
      ]
    },
    {
      "cell_type": "code",
      "source": [
        "# Division (Please note: It performs float division)\n",
        "\n",
        "1871 / 78"
      ],
      "metadata": {
        "colab": {
          "base_uri": "https://localhost:8080/"
        },
        "id": "rJA5PlG7qyfU",
        "outputId": "d10a2562-c665-4090-854a-a78564fe73ef"
      },
      "execution_count": 4,
      "outputs": [
        {
          "output_type": "execute_result",
          "data": {
            "text/plain": [
              "23.987179487179485"
            ]
          },
          "metadata": {},
          "execution_count": 4
        }
      ]
    },
    {
      "cell_type": "code",
      "source": [
        "# Modulus - Returns the remainder\n",
        "\n",
        "18 % 5"
      ],
      "metadata": {
        "colab": {
          "base_uri": "https://localhost:8080/"
        },
        "id": "oo_XOqnSq4cf",
        "outputId": "4e05b21e-6160-4b86-dc84-62354a16259b"
      },
      "execution_count": 5,
      "outputs": [
        {
          "output_type": "execute_result",
          "data": {
            "text/plain": [
              "3"
            ]
          },
          "metadata": {},
          "execution_count": 5
        }
      ]
    },
    {
      "cell_type": "code",
      "source": [
        "# Exponentiation\n",
        "\n",
        "456 ** 456"
      ],
      "metadata": {
        "colab": {
          "base_uri": "https://localhost:8080/"
        },
        "id": "OShJC4tvuMET",
        "outputId": "3fa8dfbb-365e-4714-a300-ea55f4ef0077"
      },
      "execution_count": 6,
      "outputs": [
        {
          "output_type": "execute_result",
          "data": {
            "text/plain": [
              "3075871973802350122919772248486810453179882160061821378289466776658172317672698487579442469933152629766136423664245917259419103575968021888464541910796204383226791656378897055931168352559989435064585092293407089214792554892348840661429095905338070152326011251467896223008406422231207058844638419852610520628737186931434650773818539031181156578438078750050841787076204425803840951225637528623310286038386973455753908978877598542066376484065770489233740135205819512135091362102709355017899099432525753918081634325868448872689557443291437393241005058756685470354465922000288623367633026018971106832090191894178474800993921784022758665971949900165418092243094650288059416656148104436264537433344869835339521464108708465678845132027928400422737873563364973093125530472006948162902457640768740466182602428506153916927749487461840892352981296397508689052680004032270809872233823977879502295876063986004794369624190823191207494537902871526299752350004255190289786483430677256797243806410827410790893469450810184874334616630671899180803497908474400440365427363616862415161115493664955486110650283608244077355790040100591180407542116469464503987798572837426109262466148517559232300346029905673587076983060993219549101817856"
            ]
          },
          "metadata": {},
          "execution_count": 6
        }
      ]
    },
    {
      "cell_type": "code",
      "source": [
        "# Division (Please note: It performs floor division)\n",
        "\n",
        "18 // 5"
      ],
      "metadata": {
        "colab": {
          "base_uri": "https://localhost:8080/"
        },
        "id": "mLVagDF7ub9R",
        "outputId": "3fda2ca3-b904-406d-9811-70f6f2651851"
      },
      "execution_count": 7,
      "outputs": [
        {
          "output_type": "execute_result",
          "data": {
            "text/plain": [
              "3"
            ]
          },
          "metadata": {},
          "execution_count": 7
        }
      ]
    },
    {
      "cell_type": "markdown",
      "source": [
        "As you might expect, operators like `/` and `*` take precedence over other operators like `+` and `-` as per mathematical conventions. You can use parentheses, i.e. `(` and `)`, to specify the order in which operations are performed."
      ],
      "metadata": {
        "id": "dFkRjK9pvahj"
      }
    },
    {
      "cell_type": "code",
      "source": [
        "((8 + 5) * (1 - 5)) / (4 ** 3)"
      ],
      "metadata": {
        "colab": {
          "base_uri": "https://localhost:8080/"
        },
        "id": "GXUiQV7DwCf9",
        "outputId": "20fe197c-0655-47a5-d0e7-49be6652575d"
      },
      "execution_count": 8,
      "outputs": [
        {
          "output_type": "execute_result",
          "data": {
            "text/plain": [
              "-0.8125"
            ]
          },
          "metadata": {},
          "execution_count": 8
        }
      ]
    },
    {
      "cell_type": "code",
      "source": [
        "8 + 5 * 1 - 5 / 4 ** 3"
      ],
      "metadata": {
        "colab": {
          "base_uri": "https://localhost:8080/"
        },
        "id": "syOFl2KwwH4w",
        "outputId": "b43ddb06-b066-491f-881a-7c4a0bfc14eb"
      },
      "execution_count": 9,
      "outputs": [
        {
          "output_type": "execute_result",
          "data": {
            "text/plain": [
              "12.921875"
            ]
          },
          "metadata": {},
          "execution_count": 9
        }
      ]
    },
    {
      "cell_type": "markdown",
      "source": [
        "### Solving multi-step math problems using variables"
      ],
      "metadata": {
        "id": "BfjifYV3wqKE"
      }
    },
    {
      "cell_type": "markdown",
      "source": [
        "> A shopkeeper sells a box of chocolate for Rs.580 and makes a 15% profit. If it sells 480 such boxes, how much total profit does it make?\n",
        "\n",
        "We can list out the information provided and gradually convert the word problem into a mathematical expression that can be evaluated using Python. \n",
        "\n",
        "*Cost of 1 box of chocolate (Rs)* = 580\n",
        "\n",
        "*Profit margin* = 15% = .15\n",
        "\n",
        "*Profit per box ($)* = profit margin * cost of 1 box = .15 * 580\n",
        "\n",
        "*No. of box* = 480\n",
        "\n",
        "*Total profit* = no. of bags * profit per bag = 480 * (.15 * 580)"
      ],
      "metadata": {
        "id": "NzQqFMwC8S7-"
      }
    },
    {
      "cell_type": "code",
      "source": [
        "480 * (.15 * 580)"
      ],
      "metadata": {
        "colab": {
          "base_uri": "https://localhost:8080/"
        },
        "id": "QKgvQLUHwPXY",
        "outputId": "e3d6afbb-a210-4a2c-a22e-e51b899d6d0a"
      },
      "execution_count": 10,
      "outputs": [
        {
          "output_type": "execute_result",
          "data": {
            "text/plain": [
              "41760.0"
            ]
          },
          "metadata": {},
          "execution_count": 10
        }
      ]
    },
    {
      "cell_type": "markdown",
      "source": [
        "**Introducing Variables**\n",
        "\n",
        "![](https://github.com/acmhitk/ACM-Python-Hobby-Class-2022/blob/main/assets/variables.png?raw=true)\n",
        "\n",
        "In real life, we use names to refer to the people and things around us. \n",
        "Think about your life without a name. It would not be pleasant as there would be series of **Him, me, I, you......**\n",
        "\n",
        "Variables in computer programs have the same roles: they are names we give to things, so we do not have to re-describe them every time we use them. And the fun thing is we can call them anything we want! In fact, computer programs can be quite fun to read because of all these names. So let’s try some variables"
      ],
      "metadata": {
        "id": "AYAXYMO3-BVS"
      }
    },
    {
      "cell_type": "code",
      "source": [
        "cost_of_a_box = 580\n",
        "\n",
        "# costOfABox\n",
        "\n",
        "profit_margin = .15\n",
        "\n",
        "number_of_box = 480\n",
        "\n",
        "profit_per_bag = cost_of_a_box * profit_margin\n",
        "\n",
        "total_profit = number_of_box * profit_per_bag"
      ],
      "metadata": {
        "id": "lMmhe6OA9MSD"
      },
      "execution_count": 11,
      "outputs": []
    },
    {
      "cell_type": "code",
      "source": [
        "total_profit"
      ],
      "metadata": {
        "colab": {
          "base_uri": "https://localhost:8080/"
        },
        "id": "bJA21jMMADLz",
        "outputId": "c329ad11-4477-4b0a-91bc-9d4f1ff0f1b1"
      },
      "execution_count": 12,
      "outputs": [
        {
          "output_type": "execute_result",
          "data": {
            "text/plain": [
              "41760.0"
            ]
          },
          "metadata": {},
          "execution_count": 12
        }
      ]
    },
    {
      "cell_type": "code",
      "source": [
        "print(\"The shopkeeper makes a total profit of Rs.\", total_profit)"
      ],
      "metadata": {
        "colab": {
          "base_uri": "https://localhost:8080/"
        },
        "id": "nTbLKhE7AEmp",
        "outputId": "1b53e9c5-075f-4d2f-db8d-74ea40de7543"
      },
      "execution_count": 13,
      "outputs": [
        {
          "output_type": "stream",
          "name": "stdout",
          "text": [
            "The shopkeeper makes a total profit of Rs. 41760.0\n"
          ]
        }
      ]
    },
    {
      "cell_type": "markdown",
      "source": [
        "**Rules for Python variables:**\n",
        "\n",
        "- A variable name must start with a **letter** or the **underscore** character\n",
        "- A variable name **cannot start with a number**\n",
        "- A variable name can only contain **alpha-numeric characters and underscores** (A-z, 0-9, and _ )\n",
        "- Variable names are **case-sensitive** (age, Age and AGE are three different variables)\n",
        "\n",
        "Read more about the conventions here: https://www.python.org/dev/peps/pep-0008/\n"
      ],
      "metadata": {
        "id": "_J711pnkJQvd"
      }
    },
    {
      "cell_type": "code",
      "source": [
        "total = 45\n",
        "TOTAL"
      ],
      "metadata": {
        "colab": {
          "base_uri": "https://localhost:8080/",
          "height": 200
        },
        "id": "hKKnhkxPPknX",
        "outputId": "b0f58c79-81f1-4889-8fed-4fa2167e18fa"
      },
      "execution_count": 14,
      "outputs": [
        {
          "output_type": "error",
          "ename": "NameError",
          "evalue": "ignored",
          "traceback": [
            "\u001b[0;31m---------------------------------------------------------------------------\u001b[0m",
            "\u001b[0;31mNameError\u001b[0m                                 Traceback (most recent call last)",
            "\u001b[0;32m<ipython-input-14-704746301f8e>\u001b[0m in \u001b[0;36m<module>\u001b[0;34m()\u001b[0m\n\u001b[1;32m      1\u001b[0m \u001b[0mtotal\u001b[0m \u001b[0;34m=\u001b[0m \u001b[0;36m45\u001b[0m\u001b[0;34m\u001b[0m\u001b[0;34m\u001b[0m\u001b[0m\n\u001b[0;32m----> 2\u001b[0;31m \u001b[0mTOTAL\u001b[0m\u001b[0;34m\u001b[0m\u001b[0;34m\u001b[0m\u001b[0m\n\u001b[0m",
            "\u001b[0;31mNameError\u001b[0m: name 'TOTAL' is not defined"
          ]
        }
      ]
    },
    {
      "cell_type": "markdown",
      "source": [
        "### Taking simple input"
      ],
      "metadata": {
        "id": "vjUc3VHtHMWd"
      }
    },
    {
      "cell_type": "markdown",
      "source": [
        "Now, consider, you want to calculate the profit for a different set of user given values. How will you do that?"
      ],
      "metadata": {
        "id": "97IUoPhkFgMr"
      }
    },
    {
      "cell_type": "code",
      "source": [
        "my_first_input = input(\"Enter a value: \")"
      ],
      "metadata": {
        "colab": {
          "base_uri": "https://localhost:8080/"
        },
        "id": "JZe8lI44FPts",
        "outputId": "a966944f-cba7-42e6-aa16-298677e5fbd9"
      },
      "execution_count": 15,
      "outputs": [
        {
          "name": "stdout",
          "output_type": "stream",
          "text": [
            "Enter a value: 5\n"
          ]
        }
      ]
    },
    {
      "cell_type": "code",
      "source": [
        "my_first_input"
      ],
      "metadata": {
        "colab": {
          "base_uri": "https://localhost:8080/",
          "height": 36
        },
        "id": "zrl99eyHF4Nu",
        "outputId": "bd074d90-1e66-4d2e-9c5a-4adbe915100a"
      },
      "execution_count": 17,
      "outputs": [
        {
          "output_type": "execute_result",
          "data": {
            "text/plain": [
              "'5'"
            ],
            "application/vnd.google.colaboratory.intrinsic+json": {
              "type": "string"
            }
          },
          "metadata": {},
          "execution_count": 17
        }
      ]
    },
    {
      "cell_type": "code",
      "source": [
        "my_second_input = input(\"Enter another value: \")"
      ],
      "metadata": {
        "colab": {
          "base_uri": "https://localhost:8080/"
        },
        "id": "Jt0quqtmF-lF",
        "outputId": "8c3e4c52-e0a6-44a6-ae72-0c696286a5db"
      },
      "execution_count": 18,
      "outputs": [
        {
          "name": "stdout",
          "output_type": "stream",
          "text": [
            "Enter another value: 8\n"
          ]
        }
      ]
    },
    {
      "cell_type": "code",
      "source": [
        "my_second_input"
      ],
      "metadata": {
        "colab": {
          "base_uri": "https://localhost:8080/",
          "height": 36
        },
        "id": "bmzM4ZLTGEZJ",
        "outputId": "151ed16d-c86a-40be-c184-1eb3e544ac0a"
      },
      "execution_count": 19,
      "outputs": [
        {
          "output_type": "execute_result",
          "data": {
            "text/plain": [
              "'8'"
            ],
            "application/vnd.google.colaboratory.intrinsic+json": {
              "type": "string"
            }
          },
          "metadata": {},
          "execution_count": 19
        }
      ]
    },
    {
      "cell_type": "code",
      "source": [
        "my_first_input + my_second_input"
      ],
      "metadata": {
        "colab": {
          "base_uri": "https://localhost:8080/",
          "height": 36
        },
        "id": "9aCCfxQNGKWC",
        "outputId": "27e6688f-70c4-4a8f-a102-21aa06b11ce2"
      },
      "execution_count": 20,
      "outputs": [
        {
          "output_type": "execute_result",
          "data": {
            "text/plain": [
              "'58'"
            ],
            "application/vnd.google.colaboratory.intrinsic+json": {
              "type": "string"
            }
          },
          "metadata": {},
          "execution_count": 20
        }
      ]
    },
    {
      "cell_type": "markdown",
      "source": [
        "😖 What happened??!!\n",
        "\n",
        "Python consideres the input values as string type. But to perform artihmatic operations you need them to be integer type. Lets see how to do that"
      ],
      "metadata": {
        "id": "E9tDqH6jGPUO"
      }
    },
    {
      "cell_type": "code",
      "source": [
        "my_first_input = int(input(\"Enter a value: \"))\n",
        "\n",
        "# int(\"1000\")"
      ],
      "metadata": {
        "colab": {
          "base_uri": "https://localhost:8080/"
        },
        "id": "y8RZdFN1GN76",
        "outputId": "2ca4546d-0b37-4017-d6be-5daffc5f4037"
      },
      "execution_count": 21,
      "outputs": [
        {
          "name": "stdout",
          "output_type": "stream",
          "text": [
            "Enter a value: 1000\n"
          ]
        }
      ]
    },
    {
      "cell_type": "code",
      "source": [
        "my_second_input = int(input(\"Enter another value: \"))"
      ],
      "metadata": {
        "colab": {
          "base_uri": "https://localhost:8080/"
        },
        "id": "ffqWorW1Gxvq",
        "outputId": "f58d7ca5-2dea-4c94-8abd-52fe9e900086"
      },
      "execution_count": 22,
      "outputs": [
        {
          "name": "stdout",
          "output_type": "stream",
          "text": [
            "Enter another value: 5\n"
          ]
        }
      ]
    },
    {
      "cell_type": "code",
      "source": [
        "my_first_input + my_second_input"
      ],
      "metadata": {
        "colab": {
          "base_uri": "https://localhost:8080/"
        },
        "id": "fb3KimEiG21H",
        "outputId": "9a386c54-274c-44cd-cff9-2aced1d82547"
      },
      "execution_count": 23,
      "outputs": [
        {
          "output_type": "execute_result",
          "data": {
            "text/plain": [
              "1005"
            ]
          },
          "metadata": {},
          "execution_count": 23
        }
      ]
    },
    {
      "cell_type": "markdown",
      "source": [
        "Now, lets convert our math problem to make it accept user input"
      ],
      "metadata": {
        "id": "Q6Bi1BDxHWnh"
      }
    },
    {
      "cell_type": "code",
      "source": [
        "cost_of_a_box = float(input())"
      ],
      "metadata": {
        "colab": {
          "base_uri": "https://localhost:8080/"
        },
        "id": "pvfBkdxwHxFq",
        "outputId": "ce8627cc-6747-49d7-927c-bcc9abbc07ad"
      },
      "execution_count": 24,
      "outputs": [
        {
          "name": "stdout",
          "output_type": "stream",
          "text": [
            "500.8\n"
          ]
        }
      ]
    },
    {
      "cell_type": "code",
      "source": [
        "profit_margin = float(input())"
      ],
      "metadata": {
        "colab": {
          "base_uri": "https://localhost:8080/"
        },
        "id": "AX9Apy7oH-Nq",
        "outputId": "5b3c51d7-8ee4-455a-9876-3c5047efb0fa"
      },
      "execution_count": 25,
      "outputs": [
        {
          "name": "stdout",
          "output_type": "stream",
          "text": [
            "5.6\n"
          ]
        }
      ]
    },
    {
      "cell_type": "code",
      "source": [
        "number_of_box = int(input())"
      ],
      "metadata": {
        "colab": {
          "base_uri": "https://localhost:8080/"
        },
        "id": "SJsurmxQIEOO",
        "outputId": "e9c09c1c-d9d5-4c24-89c5-7f7d5d1a3d46"
      },
      "execution_count": 26,
      "outputs": [
        {
          "name": "stdout",
          "output_type": "stream",
          "text": [
            "100\n"
          ]
        }
      ]
    },
    {
      "cell_type": "code",
      "source": [
        "# Perform the required calculations\n",
        "profit_per_bag = cost_of_a_box * profit_margin\n",
        "total_profit = number_of_box * profit_per_bag\n",
        "\n",
        "# Display the result\n",
        "print(\"The shopkeeper makes a total profit of Rs.\", total_profit)"
      ],
      "metadata": {
        "colab": {
          "base_uri": "https://localhost:8080/"
        },
        "id": "yCRWoVfjHGhp",
        "outputId": "a8348a9d-2e6a-4c04-e8c9-d30cd8404e28"
      },
      "execution_count": 27,
      "outputs": [
        {
          "output_type": "stream",
          "name": "stdout",
          "text": [
            "The shopkeeper makes a total profit of Rs. 280448.0\n"
          ]
        }
      ]
    },
    {
      "cell_type": "markdown",
      "source": [
        "### Evaluating conditions using Python\n",
        "\n",
        "Apart from arithmetic operations, Python also provides several operations for comparing numbers & variables.\n",
        "\n",
        "| Operator    | Description                                                     |\n",
        "|-------------|-----------------------------------------------------------------|\n",
        "| `==`        | Check if operands are equal                                     |\n",
        "| `!=`        | Check if operands are not equal                                 |\n",
        "| `>`         | Check if left operand is greater than right operand             |\n",
        "| `<`         | Check if left operand is less than right operand                |\n",
        "| `>=`        | Check if left operand is greater than or equal to right operand |\n",
        "| `<=`        | Check if left operand is less than or equal to right operand    |\n",
        "\n",
        "The result of a comparison operation is either `True` or `False` (note the uppercase `T` and `F`). These are special keywords in Python. Let's try out some experiments with comparison operators."
      ],
      "metadata": {
        "id": "phZ2MpBWIVbh"
      }
    },
    {
      "cell_type": "code",
      "source": [
        "my_favorite_number = 5\n",
        "\n",
        "my_least_favorite_number = 3\n",
        "\n",
        "a_neutral_number = 6"
      ],
      "metadata": {
        "id": "BHvfC5NhIOm4"
      },
      "execution_count": 28,
      "outputs": []
    },
    {
      "cell_type": "code",
      "source": [
        "# Equality check\n",
        "my_favorite_number == 5"
      ],
      "metadata": {
        "colab": {
          "base_uri": "https://localhost:8080/"
        },
        "id": "jwkfoy_DLbhH",
        "outputId": "4681e447-c31f-42a8-f174-d580c5a649c1"
      },
      "execution_count": 29,
      "outputs": [
        {
          "output_type": "execute_result",
          "data": {
            "text/plain": [
              "True"
            ]
          },
          "metadata": {},
          "execution_count": 29
        }
      ]
    },
    {
      "cell_type": "code",
      "source": [
        "# Equality check\n",
        "my_favorite_number == a_neutral_number"
      ],
      "metadata": {
        "colab": {
          "base_uri": "https://localhost:8080/"
        },
        "id": "sebdShT2Lh--",
        "outputId": "62221afc-bab5-4645-8abe-0bd3f2be5b2e"
      },
      "execution_count": 30,
      "outputs": [
        {
          "output_type": "execute_result",
          "data": {
            "text/plain": [
              "False"
            ]
          },
          "metadata": {},
          "execution_count": 30
        }
      ]
    },
    {
      "cell_type": "code",
      "source": [
        "# Not equal check\n",
        "a_neutral_number != 3"
      ],
      "metadata": {
        "colab": {
          "base_uri": "https://localhost:8080/"
        },
        "id": "OfTting6delS",
        "outputId": "be9357e6-0fc9-472c-f908-db42285920f8"
      },
      "execution_count": 31,
      "outputs": [
        {
          "output_type": "execute_result",
          "data": {
            "text/plain": [
              "True"
            ]
          },
          "metadata": {},
          "execution_count": 31
        }
      ]
    },
    {
      "cell_type": "code",
      "source": [
        "# Less than or equal check\n",
        "3 + 10 <= 13"
      ],
      "metadata": {
        "colab": {
          "base_uri": "https://localhost:8080/"
        },
        "id": "XVeDQrpEdkge",
        "outputId": "9149744a-bf57-4296-c32c-c33ea93900e3"
      },
      "execution_count": 32,
      "outputs": [
        {
          "output_type": "execute_result",
          "data": {
            "text/plain": [
              "True"
            ]
          },
          "metadata": {},
          "execution_count": 32
        }
      ]
    },
    {
      "cell_type": "code",
      "source": [
        "# Less than\n",
        "3 + 10 < 13"
      ],
      "metadata": {
        "colab": {
          "base_uri": "https://localhost:8080/"
        },
        "id": "hfLhh_uYdpjt",
        "outputId": "4faf9009-3816-4d29-c770-30658e773a7d"
      },
      "execution_count": 33,
      "outputs": [
        {
          "output_type": "execute_result",
          "data": {
            "text/plain": [
              "False"
            ]
          },
          "metadata": {},
          "execution_count": 33
        }
      ]
    },
    {
      "cell_type": "code",
      "source": [
        "# Assign cost of chocolates\n",
        "cost_of_chocolate = 500\n",
        "\n",
        "# Store the result in a boolean variable\n",
        "is_chocolate_expensive = cost_of_chocolate >= 450\n",
        "\n",
        "# Display result\n",
        "print(\"Is the chocolate expensive?: \", is_chocolate_expensive)"
      ],
      "metadata": {
        "colab": {
          "base_uri": "https://localhost:8080/"
        },
        "id": "-bIepwqPrMi7",
        "outputId": "b2404b72-8c96-4f4d-9633-b0867e6ae282"
      },
      "execution_count": 34,
      "outputs": [
        {
          "output_type": "stream",
          "name": "stdout",
          "text": [
            "Is the chocolate expensive?:  True\n"
          ]
        }
      ]
    },
    {
      "cell_type": "markdown",
      "source": [
        "## Combining conditions with logical operators\n",
        "\n",
        "The logical operators `and`, `or` and `not` operate upon conditions and `True` & `False` values (also known as *booleans*). `and` and `or` operate on two conditions, whereas `not` operates on a single condition.\n",
        "\n",
        "The `and` operator returns `True` when both the conditions evaluate to `True`. Otherwise, it returns `False`.\n",
        "\n",
        "| `a`     | `b`    | `a and b` |\n",
        "|---------|--------|-----------|\n",
        "|  `True` | `True` | `True`    |\n",
        "|  `True` | `False`| `False`   |\n",
        "|  `False`| `True` | `False`   |\n",
        "|  `False`| `False`| `False`   |"
      ],
      "metadata": {
        "id": "yVA-78DfssEM"
      }
    },
    {
      "cell_type": "code",
      "source": [
        "my_favorite_number"
      ],
      "metadata": {
        "colab": {
          "base_uri": "https://localhost:8080/"
        },
        "id": "0EdYo7CIsP0z",
        "outputId": "86d1df28-0910-49c2-c581-fb8037b782b5"
      },
      "execution_count": 35,
      "outputs": [
        {
          "output_type": "execute_result",
          "data": {
            "text/plain": [
              "5"
            ]
          },
          "metadata": {},
          "execution_count": 35
        }
      ]
    },
    {
      "cell_type": "code",
      "source": [
        "my_favorite_number > 0 and my_favorite_number <= 3"
      ],
      "metadata": {
        "colab": {
          "base_uri": "https://localhost:8080/"
        },
        "id": "cMzWDc1A5mOH",
        "outputId": "a5236def-42aa-4511-8606-507e2460b47e"
      },
      "execution_count": 36,
      "outputs": [
        {
          "output_type": "execute_result",
          "data": {
            "text/plain": [
              "False"
            ]
          },
          "metadata": {},
          "execution_count": 36
        }
      ]
    },
    {
      "cell_type": "code",
      "source": [
        "my_favorite_number > 0 and my_favorite_number >= 3"
      ],
      "metadata": {
        "colab": {
          "base_uri": "https://localhost:8080/"
        },
        "id": "oEu0pX6O5rPn",
        "outputId": "4c1c72fb-9f53-4370-c21c-50ff629afcd4"
      },
      "execution_count": 37,
      "outputs": [
        {
          "output_type": "execute_result",
          "data": {
            "text/plain": [
              "True"
            ]
          },
          "metadata": {},
          "execution_count": 37
        }
      ]
    },
    {
      "cell_type": "code",
      "source": [
        "False and True"
      ],
      "metadata": {
        "colab": {
          "base_uri": "https://localhost:8080/"
        },
        "id": "L0MjcqiD51L5",
        "outputId": "f13da117-cbb8-42a6-adf9-66c651b04e2a"
      },
      "execution_count": 38,
      "outputs": [
        {
          "output_type": "execute_result",
          "data": {
            "text/plain": [
              "False"
            ]
          },
          "metadata": {},
          "execution_count": 38
        }
      ]
    },
    {
      "cell_type": "markdown",
      "source": [
        "The `or` operator returns `True` if at least one of the conditions evaluates to `True`. It returns `False` only if both conditions are `False`.\n",
        "\n",
        "| `a`     | `b`    | `a or b`  |\n",
        "|---------|--------|-----------|\n",
        "|  `True` | `True` | `True`    |\n",
        "|  `True` | `False`| `True`    |\n",
        "|  `False`| `True` | `True`    |\n",
        "|  `False`| `False`| `False`   |\n"
      ],
      "metadata": {
        "id": "zEdhrc_95-sy"
      }
    },
    {
      "cell_type": "code",
      "source": [
        "a_neutral_number"
      ],
      "metadata": {
        "colab": {
          "base_uri": "https://localhost:8080/"
        },
        "id": "eOg-vMOe59vQ",
        "outputId": "d6e5af76-001c-429b-a098-b84c32db5276"
      },
      "execution_count": 39,
      "outputs": [
        {
          "output_type": "execute_result",
          "data": {
            "text/plain": [
              "6"
            ]
          },
          "metadata": {},
          "execution_count": 39
        }
      ]
    },
    {
      "cell_type": "code",
      "source": [
        "a_neutral_number == 3 or my_favorite_number < 0"
      ],
      "metadata": {
        "colab": {
          "base_uri": "https://localhost:8080/"
        },
        "id": "P2pM7BT-6GmR",
        "outputId": "55ffab33-763f-4aac-83a4-744e8b69844d"
      },
      "execution_count": 40,
      "outputs": [
        {
          "output_type": "execute_result",
          "data": {
            "text/plain": [
              "False"
            ]
          },
          "metadata": {},
          "execution_count": 40
        }
      ]
    },
    {
      "cell_type": "code",
      "source": [
        "True or False"
      ],
      "metadata": {
        "colab": {
          "base_uri": "https://localhost:8080/"
        },
        "id": "U4dlKAWU6JqZ",
        "outputId": "3f090de7-ea92-4b56-c21a-aa48712d562c"
      },
      "execution_count": 41,
      "outputs": [
        {
          "output_type": "execute_result",
          "data": {
            "text/plain": [
              "True"
            ]
          },
          "metadata": {},
          "execution_count": 41
        }
      ]
    },
    {
      "cell_type": "code",
      "source": [
        "False or False"
      ],
      "metadata": {
        "colab": {
          "base_uri": "https://localhost:8080/"
        },
        "id": "o0fWZHfY6OJb",
        "outputId": "5c1368e4-ca09-43e4-9c55-a424ecf17f67"
      },
      "execution_count": 42,
      "outputs": [
        {
          "output_type": "execute_result",
          "data": {
            "text/plain": [
              "False"
            ]
          },
          "metadata": {},
          "execution_count": 42
        }
      ]
    },
    {
      "cell_type": "code",
      "source": [
        "# Combined\n",
        "\n",
        "(2 > 3 and 4 <= 5) or not (my_favorite_number < 0 and True)\n",
        "# False or not(False)\n",
        "# False or True"
      ],
      "metadata": {
        "colab": {
          "base_uri": "https://localhost:8080/"
        },
        "id": "LqdIjQSi9lwV",
        "outputId": "4a976111-87d3-44bb-e2d4-e0b7f6e35f50"
      },
      "execution_count": 43,
      "outputs": [
        {
          "output_type": "execute_result",
          "data": {
            "text/plain": [
              "True"
            ]
          },
          "metadata": {},
          "execution_count": 43
        }
      ]
    },
    {
      "cell_type": "markdown",
      "source": [
        "## Part 2 - Variables and Data Types in Python"
      ],
      "metadata": {
        "id": "QtApjjML-QJp"
      }
    },
    {
      "cell_type": "markdown",
      "source": [
        "This tutorial covers the following topics:\n",
        "\n",
        "- Storing information using variables\n",
        "- Primitive data types in Python: Integer, Float, Boolean, None and String\n",
        "- Built-in data structures in Python: List, Tuple and Dictionary\n",
        "- Methods and operators supported by built-in data types"
      ],
      "metadata": {
        "id": "hb1nI4a2-42m"
      }
    },
    {
      "cell_type": "markdown",
      "source": [
        "Lets assign my favourite color to a variable"
      ],
      "metadata": {
        "id": "B3IKGymB_MQk"
      }
    },
    {
      "cell_type": "code",
      "source": [
        "my_favorite_color = \"blue\""
      ],
      "metadata": {
        "id": "LiQd7qUZ9uWV"
      },
      "execution_count": 44,
      "outputs": []
    },
    {
      "cell_type": "markdown",
      "source": [
        "You can check the type of the variables using the **type** keyword"
      ],
      "metadata": {
        "id": "G1bSxsMB_V9k"
      }
    },
    {
      "cell_type": "code",
      "source": [
        "type(my_favorite_color)"
      ],
      "metadata": {
        "colab": {
          "base_uri": "https://localhost:8080/"
        },
        "id": "cZKwAIVz_G1j",
        "outputId": "a5198722-ad4d-4ff7-924b-e12ae8787e59"
      },
      "execution_count": 45,
      "outputs": [
        {
          "output_type": "execute_result",
          "data": {
            "text/plain": [
              "str"
            ]
          },
          "metadata": {},
          "execution_count": 45
        }
      ]
    },
    {
      "cell_type": "markdown",
      "source": [
        "**Assigning to multiple variables simultaneously**\n",
        "\n",
        "A variable is created using an assignment statement. It begins with the variable's name, followed by the assignment operator `=` followed by the value to be stored within the variable.  Note that the assignment operator `=` is different from the equality comparison operator `==`.\n",
        "\n",
        "You can also assign values to multiple variables in a single statement by separating the variable names and values with commas."
      ],
      "metadata": {
        "id": "l4zFmrra_sGO"
      }
    },
    {
      "cell_type": "code",
      "source": [
        "animal_1, animal_2 = \"Dog\", \"Cat\""
      ],
      "metadata": {
        "id": "YSSZp5Hy_gaL"
      },
      "execution_count": 46,
      "outputs": []
    },
    {
      "cell_type": "code",
      "source": [
        "animal_1"
      ],
      "metadata": {
        "colab": {
          "base_uri": "https://localhost:8080/",
          "height": 36
        },
        "id": "Fx-zGTpI_kae",
        "outputId": "4834297a-94e0-492f-ddc4-8ee7bb7c99f5"
      },
      "execution_count": 47,
      "outputs": [
        {
          "output_type": "execute_result",
          "data": {
            "text/plain": [
              "'Dog'"
            ],
            "application/vnd.google.colaboratory.intrinsic+json": {
              "type": "string"
            }
          },
          "metadata": {},
          "execution_count": 47
        }
      ]
    },
    {
      "cell_type": "markdown",
      "source": [
        "You can assign the same value to multiple variables by chaining multiple assignment operations within a single statement."
      ],
      "metadata": {
        "id": "6FhB_TIrAvxO"
      }
    },
    {
      "cell_type": "code",
      "source": [
        "animal_1 = animal_3 = \"Dog\""
      ],
      "metadata": {
        "id": "FqoqTZhQAlBU"
      },
      "execution_count": 48,
      "outputs": []
    },
    {
      "cell_type": "code",
      "source": [
        "animal_3"
      ],
      "metadata": {
        "colab": {
          "base_uri": "https://localhost:8080/",
          "height": 36
        },
        "id": "PL2sT2qNA-ft",
        "outputId": "d26c6a3b-6553-43b7-a94f-789bd7f20255"
      },
      "execution_count": 49,
      "outputs": [
        {
          "output_type": "execute_result",
          "data": {
            "text/plain": [
              "'Dog'"
            ],
            "application/vnd.google.colaboratory.intrinsic+json": {
              "type": "string"
            }
          },
          "metadata": {},
          "execution_count": 49
        }
      ]
    },
    {
      "cell_type": "markdown",
      "source": [
        "### Built-in data types in Python\n",
        "\n",
        "Any data or information stored within a Python variable has a *type*. You can view the type of data stored within a variable using the `type` function as said previously.\n",
        "\n",
        "Python has several built-in data types for storing different kinds of information in variables. Following are some commonly used data types:\n",
        "\n",
        "1. Integer\n",
        "2. Float\n",
        "3. Boolean\n",
        "4. None\n",
        "5. String\n",
        "6. List\n",
        "7. Tuple\n",
        "8. Dictionary\n",
        "\n",
        "<img src=\"https://github.com/acmhitk/ACM-Python-Hobby-Class-2022/blob/main/assets/data_type.png?raw=true\" width=\"800\"/>\n",
        "\n",
        "Integer, float, boolean, None, and string are *primitive data types* because they represent a single value. Other data types like list, tuple, and dictionary are often called *data structures* or *containers* because they hold multiple pieces of data together.\n"
      ],
      "metadata": {
        "id": "88i81UDDBSMQ"
      }
    },
    {
      "cell_type": "markdown",
      "source": [
        "#### Integer\n",
        "\n",
        "Integers represent positive or negative whole numbers, from negative infinity to infinity. Note that integers should not include decimal points. Integers have the type `int`."
      ],
      "metadata": {
        "id": "VYVFRuwfCR1I"
      }
    },
    {
      "cell_type": "code",
      "source": [
        "number_1 = 85\n",
        "number_2 = 58"
      ],
      "metadata": {
        "id": "qoVATVMpA_hm"
      },
      "execution_count": 50,
      "outputs": []
    },
    {
      "cell_type": "code",
      "source": [
        "-number_1**number_2"
      ],
      "metadata": {
        "colab": {
          "base_uri": "https://localhost:8080/"
        },
        "id": "1vHnsk-5KFea",
        "outputId": "59077c67-88aa-4de8-805d-48bbc5936eea"
      },
      "execution_count": 51,
      "outputs": [
        {
          "output_type": "execute_result",
          "data": {
            "text/plain": [
              "-8059306850307519511922216673631716148483975480133718775447964899424212505130160622002222226001322269439697265625"
            ]
          },
          "metadata": {},
          "execution_count": 51
        }
      ]
    },
    {
      "cell_type": "markdown",
      "source": [
        "Unlike some other programming languages, integers in Python can be arbitrarily large (or small). There's no lowest or highest value for integers, and there's just one `int` type (as opposed to `short`, `int`, `long`, `long long`, `unsigned int`, etc. in C/C++/Java)."
      ],
      "metadata": {
        "id": "ZzqCUGXwLGi4"
      }
    },
    {
      "cell_type": "markdown",
      "source": [
        "#### Float\n",
        "\n",
        "Floats (or floating-point numbers) are numbers with a decimal point. There are no limits on the value or the number of digits before or after the decimal point. Floating-point numbers have the type `float`."
      ],
      "metadata": {
        "id": "pd2iKfGeLjBy"
      }
    },
    {
      "cell_type": "code",
      "source": [
        "pi = 3.141592653589793238"
      ],
      "metadata": {
        "id": "Hoi9xae3KLhy"
      },
      "execution_count": 52,
      "outputs": []
    },
    {
      "cell_type": "code",
      "source": [
        "100 / pi"
      ],
      "metadata": {
        "colab": {
          "base_uri": "https://localhost:8080/"
        },
        "id": "Spwl4EYcLrnx",
        "outputId": "cac7c138-b4f5-4387-88ce-b7ceb3f3742a"
      },
      "execution_count": 53,
      "outputs": [
        {
          "output_type": "execute_result",
          "data": {
            "text/plain": [
              "31.830988618379067"
            ]
          },
          "metadata": {},
          "execution_count": 53
        }
      ]
    },
    {
      "cell_type": "markdown",
      "source": [
        "Floating point numbers can also be written using the scientific notation with an \"e\" to indicate the power of 10."
      ],
      "metadata": {
        "id": "FStTjwj0MUeo"
      }
    },
    {
      "cell_type": "code",
      "source": [
        "one_hundredth = 1e-2"
      ],
      "metadata": {
        "id": "fJ0S9VOyL0Me"
      },
      "execution_count": 54,
      "outputs": []
    },
    {
      "cell_type": "code",
      "source": [
        "one_hundredth"
      ],
      "metadata": {
        "colab": {
          "base_uri": "https://localhost:8080/"
        },
        "id": "t11AyCIZMYgf",
        "outputId": "66f2caff-0002-4d47-ebb2-47ca1a3e881f"
      },
      "execution_count": 55,
      "outputs": [
        {
          "output_type": "execute_result",
          "data": {
            "text/plain": [
              "0.01"
            ]
          },
          "metadata": {},
          "execution_count": 55
        }
      ]
    },
    {
      "cell_type": "markdown",
      "source": [
        "While performing arithmetic operations, integers are automatically converted to `float`s if any of the operands is a `float`. Also, the division operator `/` always returns a `float`, even if both operands are integers. Use the `//` operator if you want the result of the division to be an `int`."
      ],
      "metadata": {
        "id": "6JPs0ZGvTaIS"
      }
    },
    {
      "cell_type": "code",
      "source": [
        "type(10/2)"
      ],
      "metadata": {
        "colab": {
          "base_uri": "https://localhost:8080/"
        },
        "id": "ViphFVe0MbCk",
        "outputId": "dc3de291-de17-460a-aa32-7ed307dfa6dc"
      },
      "execution_count": 56,
      "outputs": [
        {
          "output_type": "execute_result",
          "data": {
            "text/plain": [
              "float"
            ]
          },
          "metadata": {},
          "execution_count": 56
        }
      ]
    },
    {
      "cell_type": "code",
      "source": [
        "type(10//2)"
      ],
      "metadata": {
        "colab": {
          "base_uri": "https://localhost:8080/"
        },
        "id": "te4DXxVPTqHm",
        "outputId": "78b2e049-09da-41c5-bb04-4286a36cf3d7"
      },
      "execution_count": 57,
      "outputs": [
        {
          "output_type": "execute_result",
          "data": {
            "text/plain": [
              "int"
            ]
          },
          "metadata": {},
          "execution_count": 57
        }
      ]
    },
    {
      "cell_type": "markdown",
      "source": [
        "#### Boolean\n",
        "\n",
        "Booleans represent one of 2 values: `True` and `False`. Booleans have the type `bool`.\n",
        "Booleans are generally the result of a comparison operation, e.g., `==`, `>=`, etc."
      ],
      "metadata": {
        "id": "C4nOXnhZUXiC"
      }
    },
    {
      "cell_type": "code",
      "source": [
        "1 < 2"
      ],
      "metadata": {
        "colab": {
          "base_uri": "https://localhost:8080/"
        },
        "id": "2eNh-lijTrgs",
        "outputId": "6b2fcbcf-9dbd-4567-f5b2-cb293c3568c4"
      },
      "execution_count": 58,
      "outputs": [
        {
          "output_type": "execute_result",
          "data": {
            "text/plain": [
              "True"
            ]
          },
          "metadata": {},
          "execution_count": 58
        }
      ]
    },
    {
      "cell_type": "markdown",
      "source": [
        "**Important**\n",
        "\n",
        "Any value in Python can be converted to a Boolean using the `bool` function. \n",
        "\n",
        "Only the following values evaluate to `False` (they are often called *falsy* values):\n",
        "\n",
        "1. The value `False` itself\n",
        "2. The integer `0`\n",
        "3. The float `0.0`\n",
        "4. The empty value `None`\n",
        "5. The empty text `\"\"`\n",
        "6. The empty list `[]`\n",
        "7. The empty tuple `()`\n",
        "8. The empty dictionary `{}`\n",
        "9. The empty set `set()`\n",
        "10. The empty range `range(0)`\n",
        "\n",
        "Everything else evaluates to `True` (a value that evaluates to `True` is often called a *truthy* value)."
      ],
      "metadata": {
        "id": "ZIKsOCYhVV-_"
      }
    },
    {
      "cell_type": "code",
      "source": [
        "bool(1.5)"
      ],
      "metadata": {
        "colab": {
          "base_uri": "https://localhost:8080/"
        },
        "id": "3sCNUiFKUHWV",
        "outputId": "6a01c0c2-cef9-4a4a-b636-68c0c0b88527"
      },
      "execution_count": 59,
      "outputs": [
        {
          "output_type": "execute_result",
          "data": {
            "text/plain": [
              "True"
            ]
          },
          "metadata": {},
          "execution_count": 59
        }
      ]
    },
    {
      "cell_type": "code",
      "source": [
        "some_number = 0.0\n",
        "bool(some_number)"
      ],
      "metadata": {
        "colab": {
          "base_uri": "https://localhost:8080/"
        },
        "id": "BSohRrSeUpoI",
        "outputId": "5519c9da-0989-4895-fbb8-d01b29f35ea6"
      },
      "execution_count": 60,
      "outputs": [
        {
          "output_type": "execute_result",
          "data": {
            "text/plain": [
              "False"
            ]
          },
          "metadata": {},
          "execution_count": 60
        }
      ]
    },
    {
      "cell_type": "code",
      "source": [
        "bool(True), bool(1), bool(2.0), bool(\"hello\"), bool([1,2]), bool((2,3)), bool(range(10))"
      ],
      "metadata": {
        "colab": {
          "base_uri": "https://localhost:8080/"
        },
        "id": "n7kDtI-dZNBi",
        "outputId": "9945b389-7f9c-4cbb-9245-17578fcc752d"
      },
      "execution_count": 61,
      "outputs": [
        {
          "output_type": "execute_result",
          "data": {
            "text/plain": [
              "(True, True, True, True, True, True, True)"
            ]
          },
          "metadata": {},
          "execution_count": 61
        }
      ]
    },
    {
      "cell_type": "markdown",
      "source": [
        "#### None\n",
        "\n",
        "The None type includes a single value `None`, used to indicate the absence of a value. `None` has the type `NoneType`. It is often used to declare a variable whose value may be assigned later."
      ],
      "metadata": {
        "id": "nWlzMbPlbhhR"
      }
    },
    {
      "cell_type": "code",
      "source": [
        "nothing = None\n",
        "type(nothing)"
      ],
      "metadata": {
        "colab": {
          "base_uri": "https://localhost:8080/"
        },
        "id": "xas0S59zvM08",
        "outputId": "0ae10c55-1680-4756-ae81-51f2f44c90fc"
      },
      "execution_count": 62,
      "outputs": [
        {
          "output_type": "execute_result",
          "data": {
            "text/plain": [
              "NoneType"
            ]
          },
          "metadata": {},
          "execution_count": 62
        }
      ]
    },
    {
      "cell_type": "markdown",
      "source": [
        "#### String - Basics\n",
        "\n",
        "A string is used to represent text (*a string of characters*) in Python. Strings must be surrounded using quotations (either the single quote `'` or the double quote `\"`). Strings have the type `string`."
      ],
      "metadata": {
        "id": "uSgIKW-dvIPq"
      }
    },
    {
      "cell_type": "code",
      "source": [
        "text = \"Have a nice day!\" "
      ],
      "metadata": {
        "id": "xOYewy2nbFjm"
      },
      "execution_count": 63,
      "outputs": []
    },
    {
      "cell_type": "markdown",
      "source": [
        "To use a double quote within a string written with double quotes, *escape* the inner quotes by prefixing them with the `\\` character."
      ],
      "metadata": {
        "id": "iJHWjpiivjyk"
      }
    },
    {
      "cell_type": "code",
      "source": [
        "another_text = \"He said, \\\"Have a nice day!\\\".\""
      ],
      "metadata": {
        "id": "nkp7CQlDvdCU"
      },
      "execution_count": 64,
      "outputs": []
    },
    {
      "cell_type": "code",
      "source": [
        "another_text"
      ],
      "metadata": {
        "colab": {
          "base_uri": "https://localhost:8080/",
          "height": 36
        },
        "id": "-tCMG7GMvn_c",
        "outputId": "008a690b-37d3-4e09-d68b-002b7b689950"
      },
      "execution_count": 65,
      "outputs": [
        {
          "output_type": "execute_result",
          "data": {
            "text/plain": [
              "'He said, \"Have a nice day!\".'"
            ],
            "application/vnd.google.colaboratory.intrinsic+json": {
              "type": "string"
            }
          },
          "metadata": {},
          "execution_count": 65
        }
      ]
    },
    {
      "cell_type": "markdown",
      "source": [
        "Strings created using single or double quotes must begin and end on the same line. To create multiline strings, use three single quotes `'''` or three double quotes `\"\"\"` to begin and end the string. Line breaks are represented using the newline character `\\n`."
      ],
      "metadata": {
        "id": "QOTLYcqlv9Qt"
      }
    },
    {
      "cell_type": "code",
      "source": [
        "a_music_pun = \"\"\"\n",
        "Two windmills are standing in a field and one asks the other, \n",
        "\"What kind of music do you like?\"  dsadsadas\n",
        "\n",
        "The other says, \n",
        "\"I'm a big metal fan.\" hfjkdsfhjksdfhkj\n",
        "\"\"\"\n",
        "\n",
        "# fsdfdsfsdsdgsd\n",
        "# fdfsdf"
      ],
      "metadata": {
        "id": "ek99md1CvymH"
      },
      "execution_count": 66,
      "outputs": []
    },
    {
      "cell_type": "code",
      "source": [
        "print(a_music_pun)"
      ],
      "metadata": {
        "colab": {
          "base_uri": "https://localhost:8080/"
        },
        "id": "XS5Cfy5jwCKU",
        "outputId": "2c738019-4e42-40da-d9b2-b037ee57996f"
      },
      "execution_count": 67,
      "outputs": [
        {
          "output_type": "stream",
          "name": "stdout",
          "text": [
            "\n",
            "Two windmills are standing in a field and one asks the other, \n",
            "\"What kind of music do you like?\"  dsadsadas\n",
            "\n",
            "The other says, \n",
            "\"I'm a big metal fan.\" hfjkdsfhjksdfhkj\n",
            "\n"
          ]
        }
      ]
    },
    {
      "cell_type": "markdown",
      "source": [
        "You can check the length of a string using the `len` function."
      ],
      "metadata": {
        "id": "Ei9NQVKewMbf"
      }
    },
    {
      "cell_type": "code",
      "source": [
        "len(a_music_pun)"
      ],
      "metadata": {
        "colab": {
          "base_uri": "https://localhost:8080/"
        },
        "id": "FPGlCrChwEFW",
        "outputId": "03406a90-dace-4320-f29f-d52fb0a2eb96"
      },
      "execution_count": 68,
      "outputs": [
        {
          "output_type": "execute_result",
          "data": {
            "text/plain": [
              "167"
            ]
          },
          "metadata": {},
          "execution_count": 68
        }
      ]
    },
    {
      "cell_type": "markdown",
      "source": [
        "A string can be converted into a list of characters using `list` function."
      ],
      "metadata": {
        "id": "HqEZRhuIwZRy"
      }
    },
    {
      "cell_type": "code",
      "source": [
        "text_1 = \"I love chocolates\""
      ],
      "metadata": {
        "id": "JoM3AivZwQqc"
      },
      "execution_count": 69,
      "outputs": []
    },
    {
      "cell_type": "code",
      "source": [
        "mylist = list(text_1.split())\n"
      ],
      "metadata": {
        "id": "QQJgmSeRwXnb"
      },
      "execution_count": 70,
      "outputs": []
    },
    {
      "cell_type": "code",
      "source": [
        "mylist"
      ],
      "metadata": {
        "colab": {
          "base_uri": "https://localhost:8080/"
        },
        "id": "YaRzIaf9wkDN",
        "outputId": "0879cced-ee1b-4ee0-8af1-0dcba03dffb4"
      },
      "execution_count": 71,
      "outputs": [
        {
          "output_type": "execute_result",
          "data": {
            "text/plain": [
              "['I', 'love', 'chocolates']"
            ]
          },
          "metadata": {},
          "execution_count": 71
        }
      ]
    },
    {
      "cell_type": "markdown",
      "source": [
        "Find out on your own, what will happen if you do not use the split()"
      ],
      "metadata": {
        "id": "AK9Zyis8wqWa"
      }
    },
    {
      "cell_type": "markdown",
      "source": [
        "Strings also support several list operations, which are discussed in the next section. We'll look at a couple of examples here.\n",
        "\n",
        "You can access individual characters within a string using the `[]` indexing notation. Note the character indices go from `0` to `n-1`, where `n` is the length of the string."
      ],
      "metadata": {
        "id": "N9-WGl5ixOMi"
      }
    },
    {
      "cell_type": "code",
      "source": [
        "today = \"Saturday\"\n",
        "\n",
        "# S a t u r d a y\n",
        "# 0 1 2 3 4 5 6 7"
      ],
      "metadata": {
        "id": "t3-m8ivLwlWN"
      },
      "execution_count": 72,
      "outputs": []
    },
    {
      "cell_type": "code",
      "source": [
        "today[0]"
      ],
      "metadata": {
        "colab": {
          "base_uri": "https://localhost:8080/",
          "height": 36
        },
        "id": "Cu-62pVPxLp_",
        "outputId": "49cf596b-57ac-4d6a-a0f3-eab2c164e51c"
      },
      "execution_count": 73,
      "outputs": [
        {
          "output_type": "execute_result",
          "data": {
            "text/plain": [
              "'S'"
            ],
            "application/vnd.google.colaboratory.intrinsic+json": {
              "type": "string"
            }
          },
          "metadata": {},
          "execution_count": 73
        }
      ]
    },
    {
      "cell_type": "code",
      "source": [
        "today[7]"
      ],
      "metadata": {
        "colab": {
          "base_uri": "https://localhost:8080/",
          "height": 36
        },
        "id": "UkeS6RMRxUCm",
        "outputId": "115e2b40-ddf5-4f00-b09d-1ed5b1d11bbe"
      },
      "execution_count": 74,
      "outputs": [
        {
          "output_type": "execute_result",
          "data": {
            "text/plain": [
              "'y'"
            ],
            "application/vnd.google.colaboratory.intrinsic+json": {
              "type": "string"
            }
          },
          "metadata": {},
          "execution_count": 74
        }
      ]
    },
    {
      "cell_type": "markdown",
      "source": [
        "You can access a part of a string using by providing a `start:end` range instead of a single index in `[]`."
      ],
      "metadata": {
        "id": "PoPwyQERxgmy"
      }
    },
    {
      "cell_type": "code",
      "source": [
        "today[5:8]"
      ],
      "metadata": {
        "colab": {
          "base_uri": "https://localhost:8080/",
          "height": 36
        },
        "id": "k4Ye9976xWMf",
        "outputId": "836455a6-22e9-462c-cbfd-fe8076889e9f"
      },
      "execution_count": 75,
      "outputs": [
        {
          "output_type": "execute_result",
          "data": {
            "text/plain": [
              "'day'"
            ],
            "application/vnd.google.colaboratory.intrinsic+json": {
              "type": "string"
            }
          },
          "metadata": {},
          "execution_count": 75
        }
      ]
    },
    {
      "cell_type": "markdown",
      "source": [
        "You can also check whether a string contains a some text using the `in` operator. "
      ],
      "metadata": {
        "id": "Q-N0oeqFxvXV"
      }
    },
    {
      "cell_type": "code",
      "source": [
        "'day' in today"
      ],
      "metadata": {
        "colab": {
          "base_uri": "https://localhost:8080/"
        },
        "id": "O-HgMmhFxYzm",
        "outputId": "c443baea-6036-4e68-f348-2d27e45269ed"
      },
      "execution_count": 76,
      "outputs": [
        {
          "output_type": "execute_result",
          "data": {
            "text/plain": [
              "True"
            ]
          },
          "metadata": {},
          "execution_count": 76
        }
      ]
    },
    {
      "cell_type": "markdown",
      "source": [
        "Two or more strings can be joined or *concatenated* using the `+` operator. Be careful while concatenating strings, sometimes you may need to add a space character `\" \"` between words.\n",
        "\n",
        "You can also create custom functions to pre-process strings.\n",
        "\n",
        "Think of a usecase where you might need to pre-process text"
      ],
      "metadata": {
        "id": "MjiqKvf9x3j9"
      }
    },
    {
      "cell_type": "markdown",
      "source": [
        "Strings in Python have many built-in *methods* that are used to manipulate them. Let's try out some common string methods.\n",
        "\n",
        "> **Methods**: Methods are functions associated with data types and are accessed using the `.` notation e.g. `variable_name.method()` or `\"a string\".method()`. Methods are a powerful technique for associating common operations with values of specific data types.\n",
        "\n",
        "The `.lower()`, `.upper()` and `.capitalize()` methods are used to change the case of the characters."
      ],
      "metadata": {
        "id": "-Mlut_23ypjA"
      }
    },
    {
      "cell_type": "code",
      "source": [
        "# Print the string in upper case\n",
        "\"saturday\".upper()"
      ],
      "metadata": {
        "colab": {
          "base_uri": "https://localhost:8080/",
          "height": 36
        },
        "id": "l89kvUCBxxtr",
        "outputId": "30e517e2-d58d-4eed-d8f5-44b7b6b5175f"
      },
      "execution_count": 77,
      "outputs": [
        {
          "output_type": "execute_result",
          "data": {
            "text/plain": [
              "'SATURDAY'"
            ],
            "application/vnd.google.colaboratory.intrinsic+json": {
              "type": "string"
            }
          },
          "metadata": {},
          "execution_count": 77
        }
      ]
    },
    {
      "cell_type": "code",
      "source": [
        "\"monday\".capitalize() # changes first character to uppercase"
      ],
      "metadata": {
        "colab": {
          "base_uri": "https://localhost:8080/",
          "height": 36
        },
        "id": "lPSnGN6Myv1E",
        "outputId": "846d4200-75d3-4b81-c229-cbda7ef6eb17"
      },
      "execution_count": 78,
      "outputs": [
        {
          "output_type": "execute_result",
          "data": {
            "text/plain": [
              "'Monday'"
            ],
            "application/vnd.google.colaboratory.intrinsic+json": {
              "type": "string"
            }
          },
          "metadata": {},
          "execution_count": 78
        }
      ]
    },
    {
      "cell_type": "markdown",
      "source": [
        "More such functions will be added in the Advanced Version of the Notebook"
      ],
      "metadata": {
        "id": "XpkKlW-ky3li"
      }
    },
    {
      "cell_type": "markdown",
      "source": [
        "#### List - Basics\n",
        "\n",
        "A list in Python is an ordered collection of values. Lists can hold values of different data types and support operations to add, remove, and change values. Lists have the type `list`.\n",
        "\n",
        "To create a list, enclose a sequence of values within square brackets `[` and `]`, separated by commas."
      ],
      "metadata": {
        "id": "DLxw_b9szHnu"
      }
    },
    {
      "cell_type": "code",
      "source": [
        "fruits = ['apple', 'banana', 'cherry']"
      ],
      "metadata": {
        "id": "XmNY4BuKyy_A"
      },
      "execution_count": 79,
      "outputs": []
    },
    {
      "cell_type": "markdown",
      "source": [
        "Let's try creating a list containing values of different data types, including another list.\n",
        "\n",
        "Heterogeneous List"
      ],
      "metadata": {
        "id": "xN0PpgzFzWs3"
      }
    },
    {
      "cell_type": "code",
      "source": [
        "a_list = [23, 'hello', None, 3.14, fruits, 3 <= 5]"
      ],
      "metadata": {
        "id": "EIE_ld9PzNsZ"
      },
      "execution_count": 80,
      "outputs": []
    },
    {
      "cell_type": "code",
      "source": [
        "a_list"
      ],
      "metadata": {
        "colab": {
          "base_uri": "https://localhost:8080/"
        },
        "id": "y0j8xYIEzfpR",
        "outputId": "bd8a5398-b2fb-45bc-8c13-17032a3fc20e"
      },
      "execution_count": 81,
      "outputs": [
        {
          "output_type": "execute_result",
          "data": {
            "text/plain": [
              "[23, 'hello', None, 3.14, ['apple', 'banana', 'cherry'], True]"
            ]
          },
          "metadata": {},
          "execution_count": 81
        }
      ]
    },
    {
      "cell_type": "code",
      "source": [
        "len(a_list)"
      ],
      "metadata": {
        "colab": {
          "base_uri": "https://localhost:8080/"
        },
        "id": "uuzu_nCfzg-Y",
        "outputId": "dcc4643b-7d67-46e6-9094-1cbbaee422dc"
      },
      "execution_count": 82,
      "outputs": [
        {
          "output_type": "execute_result",
          "data": {
            "text/plain": [
              "6"
            ]
          },
          "metadata": {},
          "execution_count": 82
        }
      ]
    },
    {
      "cell_type": "code",
      "source": [
        "len(a_list[4])"
      ],
      "metadata": {
        "colab": {
          "base_uri": "https://localhost:8080/"
        },
        "id": "pxOwICm5zkow",
        "outputId": "76a8b7cb-15f7-4956-901f-ce282ea2655d"
      },
      "execution_count": 83,
      "outputs": [
        {
          "output_type": "execute_result",
          "data": {
            "text/plain": [
              "3"
            ]
          },
          "metadata": {},
          "execution_count": 83
        }
      ]
    },
    {
      "cell_type": "markdown",
      "source": [
        "Remember the fruits list"
      ],
      "metadata": {
        "id": "BTsWqv3M0VJn"
      }
    },
    {
      "cell_type": "code",
      "source": [
        "fruits"
      ],
      "metadata": {
        "colab": {
          "base_uri": "https://localhost:8080/"
        },
        "id": "a6vj8xYuzoyY",
        "outputId": "0ad51899-7734-4c3a-9782-d27988d2163c"
      },
      "execution_count": 84,
      "outputs": [
        {
          "output_type": "execute_result",
          "data": {
            "text/plain": [
              "['apple', 'banana', 'cherry']"
            ]
          },
          "metadata": {},
          "execution_count": 84
        }
      ]
    },
    {
      "cell_type": "code",
      "source": [
        "# Reverse the list\n",
        "# [ <first element to include> : <first element to exclude> : <step> ]\n",
        "fruits[::-1]"
      ],
      "metadata": {
        "colab": {
          "base_uri": "https://localhost:8080/"
        },
        "id": "iik5_Hvb0XlT",
        "outputId": "82ebb588-7074-4c6d-b04c-67fc0c5de34d"
      },
      "execution_count": 85,
      "outputs": [
        {
          "output_type": "execute_result",
          "data": {
            "text/plain": [
              "['cherry', 'banana', 'apple']"
            ]
          },
          "metadata": {},
          "execution_count": 85
        }
      ]
    },
    {
      "cell_type": "code",
      "source": [
        "\"apple\"[::-1]"
      ],
      "metadata": {
        "colab": {
          "base_uri": "https://localhost:8080/",
          "height": 36
        },
        "id": "U0AKOT6eYIml",
        "outputId": "74256401-3d8b-45f3-adfd-147427deebb4"
      },
      "execution_count": 86,
      "outputs": [
        {
          "output_type": "execute_result",
          "data": {
            "text/plain": [
              "'elppa'"
            ],
            "application/vnd.google.colaboratory.intrinsic+json": {
              "type": "string"
            }
          },
          "metadata": {},
          "execution_count": 86
        }
      ]
    },
    {
      "cell_type": "markdown",
      "source": [
        "Amazing right? Just one line!!"
      ],
      "metadata": {
        "id": "o6T80iOn0ecm"
      }
    },
    {
      "cell_type": "code",
      "source": [
        "# Python supports negative index\n",
        "\n",
        "fruits[-1]\n",
        "# 'apple', 'banana', 'cherry', 'apple', 'banana', 'cherry' \n",
        "#    0        1         2       \n",
        "#   -3       -2        -1         0        1        2\n"
      ],
      "metadata": {
        "colab": {
          "base_uri": "https://localhost:8080/",
          "height": 36
        },
        "id": "94S9ZdUd0c3I",
        "outputId": "0aa44ee7-96f9-44b7-eb64-785d3cca6dec"
      },
      "execution_count": 87,
      "outputs": [
        {
          "output_type": "execute_result",
          "data": {
            "text/plain": [
              "'cherry'"
            ],
            "application/vnd.google.colaboratory.intrinsic+json": {
              "type": "string"
            }
          },
          "metadata": {},
          "execution_count": 87
        }
      ]
    },
    {
      "cell_type": "markdown",
      "source": [
        "#### Tuple - Basics\n",
        "\n",
        "Tuples are used to store multiple items in a single variable.\n",
        "A tuple is a collection which is ordered and unchangeable.\n",
        "\n",
        "To create a Tuple, enclose a sequence of values within round brackets `(` and `)`, separated by commas.\n",
        "\n",
        "**Note: The key difference between the tuples and lists is that while the tuples are immutable objects the lists are mutable. This means that tuples cannot be changed while the lists can be modified**"
      ],
      "metadata": {
        "id": "SYemC2mYG2OF"
      }
    },
    {
      "cell_type": "code",
      "source": [
        "mytuple = (\"apple\", \"banana\", \"cherry\")\n",
        "print(mytuple)"
      ],
      "metadata": {
        "colab": {
          "base_uri": "https://localhost:8080/"
        },
        "id": "1KWWrX-UHQRK",
        "outputId": "79f6928a-d26b-48c3-ef76-7de33de50977"
      },
      "execution_count": 89,
      "outputs": [
        {
          "output_type": "stream",
          "name": "stdout",
          "text": [
            "('apple', 'banana', 'cherry')\n"
          ]
        }
      ]
    },
    {
      "cell_type": "code",
      "source": [
        "mytuple[0] = 'mango'"
      ],
      "metadata": {
        "colab": {
          "base_uri": "https://localhost:8080/",
          "height": 180
        },
        "id": "zhcLa2M2Iike",
        "outputId": "d98524b1-360b-4d1d-fff9-e2778c38cc89"
      },
      "execution_count": 90,
      "outputs": [
        {
          "output_type": "error",
          "ename": "TypeError",
          "evalue": "ignored",
          "traceback": [
            "\u001b[0;31m---------------------------------------------------------------------------\u001b[0m",
            "\u001b[0;31mTypeError\u001b[0m                                 Traceback (most recent call last)",
            "\u001b[0;32m<ipython-input-90-3950aaac0a5f>\u001b[0m in \u001b[0;36m<module>\u001b[0;34m()\u001b[0m\n\u001b[0;32m----> 1\u001b[0;31m \u001b[0mmytuple\u001b[0m\u001b[0;34m[\u001b[0m\u001b[0;36m0\u001b[0m\u001b[0;34m]\u001b[0m \u001b[0;34m=\u001b[0m \u001b[0;34m'mango'\u001b[0m\u001b[0;34m\u001b[0m\u001b[0;34m\u001b[0m\u001b[0m\n\u001b[0m",
            "\u001b[0;31mTypeError\u001b[0m: 'tuple' object does not support item assignment"
          ]
        }
      ]
    },
    {
      "cell_type": "markdown",
      "source": [
        "#### Dictionaries - Basics\n",
        "\n",
        "Dictionaries are used to store data values in key:value pairs.\n",
        "\n",
        "A dictionary is a collection which is ordered (python 3.7 and above), changeable and do not allow duplicates."
      ],
      "metadata": {
        "id": "p5_QTQ2DJsYW"
      }
    },
    {
      "cell_type": "code",
      "source": [
        "!python --version"
      ],
      "metadata": {
        "colab": {
          "base_uri": "https://localhost:8080/"
        },
        "id": "lPIEdbCWKJja",
        "outputId": "a3eff6db-c5e0-46a5-fa69-1bf6162bffe3"
      },
      "execution_count": 104,
      "outputs": [
        {
          "output_type": "stream",
          "name": "stdout",
          "text": [
            "Python 3.7.13\n"
          ]
        }
      ]
    },
    {
      "cell_type": "code",
      "source": [
        "thisdict = {\n",
        "  \"brand\": \"Ford\",\n",
        "  \"model\": \"Mustang\",\n",
        "  \"year\": 1964\n",
        "}\n",
        "print(thisdict[\"brand\"])"
      ],
      "metadata": {
        "colab": {
          "base_uri": "https://localhost:8080/"
        },
        "id": "lWHNOE2KK06U",
        "outputId": "5f7618d8-6e8b-4d7d-e351-0d23363ade82"
      },
      "execution_count": 105,
      "outputs": [
        {
          "output_type": "stream",
          "name": "stdout",
          "text": [
            "Ford\n"
          ]
        }
      ]
    },
    {
      "cell_type": "markdown",
      "source": [
        "Duplicate values will be overwritten"
      ],
      "metadata": {
        "id": "ekVxVFHJNae3"
      }
    },
    {
      "cell_type": "code",
      "source": [
        "thisdict = {\n",
        "  \"brand\": \"Ford\",\n",
        "  \"model\": \"Mustang\",\n",
        "  \"year\": 1964,\n",
        "  \"year\": 2020\n",
        "}\n",
        "print(thisdict)"
      ],
      "metadata": {
        "colab": {
          "base_uri": "https://localhost:8080/"
        },
        "id": "sqYplGDsNePP",
        "outputId": "2bc314e2-7827-415b-f4cf-340820074481"
      },
      "execution_count": 106,
      "outputs": [
        {
          "output_type": "stream",
          "name": "stdout",
          "text": [
            "{'brand': 'Ford', 'model': 'Mustang', 'year': 2020}\n"
          ]
        }
      ]
    },
    {
      "cell_type": "markdown",
      "source": [
        "Hope you all enjoyed it!\n",
        "\n",
        "In the upcoming session we will learn advanced usage and functions on String, List, Tuple and Dictionary.\n",
        "\n",
        "We will also explore If-else statements and Loops\n",
        "\n",
        "Thank you so much for reading!\n",
        "\n",
        "![](https://github.com/acmhitk/ACM-Python-Hobby-Class-2022/blob/main/assets/thanks.png?raw=true)"
      ],
      "metadata": {
        "id": "XrIq5ueI19iq"
      }
    }
  ]
}