{
  "nbformat": 4,
  "nbformat_minor": 0,
  "metadata": {
    "colab": {
      "name": "001.ipynb",
      "provenance": []
    },
    "kernelspec": {
      "name": "python3",
      "display_name": "Python 3"
    },
    "language_info": {
      "name": "python"
    }
  },
  "cells": [
    {
      "cell_type": "markdown",
      "source": [
        "# ACM Python Hobby - Introduction to Python 001"
      ],
      "metadata": {
        "id": "Z29oR5oXgq_L"
      }
    },
    {
      "cell_type": "markdown",
      "source": [
        "## Jupyter Notebook"
      ],
      "metadata": {
        "id": "sDbuPEEiggti"
      }
    },
    {
      "cell_type": "markdown",
      "source": [
        "The Jupyter Notebook is an open source web application that you can use to create and share documents that contain live code, equations, visualizations, and text."
      ],
      "metadata": {
        "id": "CxTW5YCCgYv_"
      }
    },
    {
      "cell_type": "markdown",
      "source": [
        "## Part 1 - Python Operators \n",
        "\n",
        "- Arithmetic: `+` `-` `*` `/` `%` `**` `//`\n",
        "- Conditional: `==` `>` `<` `!=` `<=` `>=`\n",
        "- Logical: `and` `or` `not`"
      ],
      "metadata": {
        "id": "hJkIfMNZtPmh"
      }
    },
    {
      "cell_type": "markdown",
      "source": [
        "This tutorial covers the following topics:\n",
        "\n",
        "- Python Arithmetic Operators\n",
        "- Solving multi-ste math problems using variables\n",
        "- Taking simple input\n",
        "- Evaluating conditions using Python\n",
        "- Combining conditions with logical operators"
      ],
      "metadata": {
        "id": "ayjzkZj0u-AO"
      }
    },
    {
      "cell_type": "markdown",
      "source": [
        "### Python Arithmetic Operators\n",
        "\n",
        "![](https://github.com/acmhitk/ACM-Python-Hobby-Class-2022/blob/main/assets/operators.png?raw=true)"
      ],
      "metadata": {
        "id": "be9Y6ln6ktuy"
      }
    },
    {
      "cell_type": "code",
      "execution_count": 1,
      "metadata": {
        "colab": {
          "base_uri": "https://localhost:8080/"
        },
        "id": "yqdcEJPZHyye",
        "outputId": "70222608-040c-4a44-b29c-5dffd1253f61"
      },
      "outputs": [
        {
          "output_type": "execute_result",
          "data": {
            "text/plain": [
              "15"
            ]
          },
          "metadata": {},
          "execution_count": 1
        }
      ],
      "source": [
        "# Addition\n",
        "\n",
        "2 + 5 + 8"
      ]
    },
    {
      "cell_type": "code",
      "source": [
        "# Subtraction\n",
        "\n",
        "5 - 8 - 7"
      ],
      "metadata": {
        "colab": {
          "base_uri": "https://localhost:8080/"
        },
        "id": "44-uEuBrqYGj",
        "outputId": "284a24b5-b8a2-4221-8729-41ce83961380"
      },
      "execution_count": 3,
      "outputs": [
        {
          "output_type": "execute_result",
          "data": {
            "text/plain": [
              "-10"
            ]
          },
          "metadata": {},
          "execution_count": 3
        }
      ]
    },
    {
      "cell_type": "code",
      "source": [
        "# Multiplication\n",
        "\n",
        "5 * 8"
      ],
      "metadata": {
        "colab": {
          "base_uri": "https://localhost:8080/"
        },
        "id": "85a2HcwkqhYO",
        "outputId": "2c49ec73-7fd1-44ab-ddd7-475b23ecb873"
      },
      "execution_count": 4,
      "outputs": [
        {
          "output_type": "execute_result",
          "data": {
            "text/plain": [
              "40"
            ]
          },
          "metadata": {},
          "execution_count": 4
        }
      ]
    },
    {
      "cell_type": "code",
      "source": [
        "# Division (Please note: It performs float division)\n",
        "\n",
        "1871 / 78"
      ],
      "metadata": {
        "colab": {
          "base_uri": "https://localhost:8080/"
        },
        "id": "rJA5PlG7qyfU",
        "outputId": "78997b27-c144-45c0-af7c-6b2a477a847a"
      },
      "execution_count": 11,
      "outputs": [
        {
          "output_type": "execute_result",
          "data": {
            "text/plain": [
              "23.987179487179485"
            ]
          },
          "metadata": {},
          "execution_count": 11
        }
      ]
    },
    {
      "cell_type": "code",
      "source": [
        "# Modulus - Returns the remainder\n",
        "\n",
        "18 % 5"
      ],
      "metadata": {
        "colab": {
          "base_uri": "https://localhost:8080/"
        },
        "id": "oo_XOqnSq4cf",
        "outputId": "085e633d-78ff-4513-b1e7-b8a3d9d90d3d"
      },
      "execution_count": 6,
      "outputs": [
        {
          "output_type": "execute_result",
          "data": {
            "text/plain": [
              "3"
            ]
          },
          "metadata": {},
          "execution_count": 6
        }
      ]
    },
    {
      "cell_type": "code",
      "source": [
        "# Exponentiation\n",
        "\n",
        "2 ** 8"
      ],
      "metadata": {
        "colab": {
          "base_uri": "https://localhost:8080/"
        },
        "id": "OShJC4tvuMET",
        "outputId": "09e2417b-7821-4f8b-9775-2626f0557432"
      },
      "execution_count": 7,
      "outputs": [
        {
          "output_type": "execute_result",
          "data": {
            "text/plain": [
              "256"
            ]
          },
          "metadata": {},
          "execution_count": 7
        }
      ]
    },
    {
      "cell_type": "code",
      "source": [
        "# Division (Please note: It performs floor division)\n",
        "\n",
        "18 // 5"
      ],
      "metadata": {
        "colab": {
          "base_uri": "https://localhost:8080/"
        },
        "id": "mLVagDF7ub9R",
        "outputId": "8473a2c4-61ee-4a56-bab9-9aee361e2ad2"
      },
      "execution_count": 9,
      "outputs": [
        {
          "output_type": "execute_result",
          "data": {
            "text/plain": [
              "3"
            ]
          },
          "metadata": {},
          "execution_count": 9
        }
      ]
    },
    {
      "cell_type": "markdown",
      "source": [
        "As you might expect, operators like `/` and `*` take precedence over other operators like `+` and `-` as per mathematical conventions. You can use parentheses, i.e. `(` and `)`, to specify the order in which operations are performed."
      ],
      "metadata": {
        "id": "dFkRjK9pvahj"
      }
    },
    {
      "cell_type": "code",
      "source": [
        "((8 + 5) * (1 - 5)) / (4 ** 3)"
      ],
      "metadata": {
        "colab": {
          "base_uri": "https://localhost:8080/"
        },
        "id": "GXUiQV7DwCf9",
        "outputId": "3934571d-4cb2-4d97-f80c-b16e5b3cc3ea"
      },
      "execution_count": 12,
      "outputs": [
        {
          "output_type": "execute_result",
          "data": {
            "text/plain": [
              "-0.8125"
            ]
          },
          "metadata": {},
          "execution_count": 12
        }
      ]
    },
    {
      "cell_type": "code",
      "source": [
        "8 + 5 * 1 - 5 / 4 ** 3"
      ],
      "metadata": {
        "colab": {
          "base_uri": "https://localhost:8080/"
        },
        "id": "syOFl2KwwH4w",
        "outputId": "1e093aa4-c898-4316-9061-04c6fdaadfcc"
      },
      "execution_count": 16,
      "outputs": [
        {
          "output_type": "execute_result",
          "data": {
            "text/plain": [
              "12.921875"
            ]
          },
          "metadata": {},
          "execution_count": 16
        }
      ]
    },
    {
      "cell_type": "markdown",
      "source": [
        "### Solving multi-step math problems using variables"
      ],
      "metadata": {
        "id": "BfjifYV3wqKE"
      }
    },
    {
      "cell_type": "markdown",
      "source": [
        "> A shopkeeper sells a box of chocolate for Rs.580 and makes a 15% profit. If it sells 480 such boxes, how much total profit does it make?\n",
        "\n",
        "We can list out the information provided and gradually convert the word problem into a mathematical expression that can be evaluated using Python. \n",
        "\n",
        "*Cost of 1 box of chocolate (Rs)* = 580\n",
        "\n",
        "*Profit margin* = 15% = .15\n",
        "\n",
        "*Profit per box ($)* = profit margin * cost of 1 box = .15 * 580\n",
        "\n",
        "*No. of box* = 480\n",
        "\n",
        "*Total profit* = no. of bags * profit per bag = 480 * (.15 * 580)"
      ],
      "metadata": {
        "id": "NzQqFMwC8S7-"
      }
    },
    {
      "cell_type": "code",
      "source": [
        "480 * (.15 * 580)"
      ],
      "metadata": {
        "colab": {
          "base_uri": "https://localhost:8080/"
        },
        "id": "QKgvQLUHwPXY",
        "outputId": "12f2d297-b494-423f-cf81-b8e4a9352191"
      },
      "execution_count": 1,
      "outputs": [
        {
          "output_type": "execute_result",
          "data": {
            "text/plain": [
              "41760.0"
            ]
          },
          "metadata": {},
          "execution_count": 1
        }
      ]
    },
    {
      "cell_type": "markdown",
      "source": [
        "**Introducing Variables**\n",
        "\n",
        "![](https://github.com/acmhitk/ACM-Python-Hobby-Class-2022/blob/main/assets/variables.png?raw=true)\n",
        "\n",
        "In real life, we use names to refer to the people and things around us. \n",
        "Think about your life without a name. It would not be pleasant as there would be series of **Him, me, I, you......**\n",
        "\n",
        "Variables in computer programs have the same roles: they are names we give to things, so we do not have to re-describe them every time we use them. And the fun thing is we can call them anything we want! In fact, computer programs can be quite fun to read because of all these names. So let’s try some variables"
      ],
      "metadata": {
        "id": "AYAXYMO3-BVS"
      }
    },
    {
      "cell_type": "code",
      "source": [
        "cost_of_a_box = 580\n",
        "\n",
        "profit_margin = .15\n",
        "\n",
        "number_of_box = 480\n",
        "\n",
        "profit_per_bag = cost_of_a_box * profit_margin\n",
        "\n",
        "total_profit = number_of_box * profit_per_bag"
      ],
      "metadata": {
        "id": "lMmhe6OA9MSD"
      },
      "execution_count": 2,
      "outputs": []
    },
    {
      "cell_type": "code",
      "source": [
        "total_profit"
      ],
      "metadata": {
        "colab": {
          "base_uri": "https://localhost:8080/"
        },
        "id": "bJA21jMMADLz",
        "outputId": "794fa367-e662-4675-8b8e-d02dfcf95fcf"
      },
      "execution_count": 3,
      "outputs": [
        {
          "output_type": "execute_result",
          "data": {
            "text/plain": [
              "41760.0"
            ]
          },
          "metadata": {},
          "execution_count": 3
        }
      ]
    },
    {
      "cell_type": "code",
      "source": [
        "print(\"The shopkeeper makes a total profit of Rs.\", total_profit)"
      ],
      "metadata": {
        "colab": {
          "base_uri": "https://localhost:8080/"
        },
        "id": "nTbLKhE7AEmp",
        "outputId": "a3d6081b-a6b9-4d5e-d0fa-0899acdb82e3"
      },
      "execution_count": 4,
      "outputs": [
        {
          "output_type": "stream",
          "name": "stdout",
          "text": [
            "The shopkeeper makes a total profit of Rs. 41760.0\n"
          ]
        }
      ]
    },
    {
      "cell_type": "markdown",
      "source": [
        "**Rules for Python variables:**\n",
        "\n",
        "- A variable name must start with a **letter** or the **underscore** character\n",
        "- A variable name **cannot start with a number**\n",
        "- A variable name can only contain **alpha-numeric characters and underscores** (A-z, 0-9, and _ )\n",
        "- Variable names are **case-sensitive** (age, Age and AGE are three different variables)\n",
        "\n",
        "Read more about the conventions here: https://www.python.org/dev/peps/pep-0008/\n"
      ],
      "metadata": {
        "id": "_J711pnkJQvd"
      }
    },
    {
      "cell_type": "markdown",
      "source": [
        "### Taking simple input"
      ],
      "metadata": {
        "id": "vjUc3VHtHMWd"
      }
    },
    {
      "cell_type": "markdown",
      "source": [
        "Now, consider, you want to calculate the profit for a different set of user given values. How will you do that?"
      ],
      "metadata": {
        "id": "97IUoPhkFgMr"
      }
    },
    {
      "cell_type": "code",
      "source": [
        "my_first_input = input(\"Enter a value: \")"
      ],
      "metadata": {
        "colab": {
          "base_uri": "https://localhost:8080/"
        },
        "id": "JZe8lI44FPts",
        "outputId": "dd8da1e9-c287-4473-c696-708fd5bd2d50"
      },
      "execution_count": 5,
      "outputs": [
        {
          "name": "stdout",
          "output_type": "stream",
          "text": [
            "Enter a value: 5\n"
          ]
        }
      ]
    },
    {
      "cell_type": "code",
      "source": [
        "my_first_input"
      ],
      "metadata": {
        "colab": {
          "base_uri": "https://localhost:8080/",
          "height": 36
        },
        "id": "zrl99eyHF4Nu",
        "outputId": "72f6cc65-fbe1-4bed-bea2-ede2f8e980d7"
      },
      "execution_count": 6,
      "outputs": [
        {
          "output_type": "execute_result",
          "data": {
            "application/vnd.google.colaboratory.intrinsic+json": {
              "type": "string"
            },
            "text/plain": [
              "'5'"
            ]
          },
          "metadata": {},
          "execution_count": 6
        }
      ]
    },
    {
      "cell_type": "code",
      "source": [
        "my_second_input = input(\"Enter another value: \")"
      ],
      "metadata": {
        "colab": {
          "base_uri": "https://localhost:8080/"
        },
        "id": "Jt0quqtmF-lF",
        "outputId": "b44e092b-eb23-46fc-c3db-22274ed99a98"
      },
      "execution_count": 8,
      "outputs": [
        {
          "name": "stdout",
          "output_type": "stream",
          "text": [
            "Enter another value: 8\n"
          ]
        }
      ]
    },
    {
      "cell_type": "code",
      "source": [
        "my_second_input"
      ],
      "metadata": {
        "colab": {
          "base_uri": "https://localhost:8080/",
          "height": 36
        },
        "id": "bmzM4ZLTGEZJ",
        "outputId": "59fa5a6c-b5b0-40cb-cc5d-7b75684db297"
      },
      "execution_count": 9,
      "outputs": [
        {
          "output_type": "execute_result",
          "data": {
            "application/vnd.google.colaboratory.intrinsic+json": {
              "type": "string"
            },
            "text/plain": [
              "'8'"
            ]
          },
          "metadata": {},
          "execution_count": 9
        }
      ]
    },
    {
      "cell_type": "code",
      "source": [
        "my_first_input + my_second_input"
      ],
      "metadata": {
        "colab": {
          "base_uri": "https://localhost:8080/",
          "height": 36
        },
        "id": "9aCCfxQNGKWC",
        "outputId": "ece28d79-8f0c-4d8c-c071-6c75baf1600c"
      },
      "execution_count": 10,
      "outputs": [
        {
          "output_type": "execute_result",
          "data": {
            "application/vnd.google.colaboratory.intrinsic+json": {
              "type": "string"
            },
            "text/plain": [
              "'58'"
            ]
          },
          "metadata": {},
          "execution_count": 10
        }
      ]
    },
    {
      "cell_type": "markdown",
      "source": [
        "😖 What happened??!!\n",
        "\n",
        "Python consideres the input values as string type. But to perform artihmatic operations you need them to be integer type. Lets ssee how to do that"
      ],
      "metadata": {
        "id": "E9tDqH6jGPUO"
      }
    },
    {
      "cell_type": "code",
      "source": [
        "my_first_input = int(input(\"Enter a value: \"))"
      ],
      "metadata": {
        "colab": {
          "base_uri": "https://localhost:8080/"
        },
        "id": "y8RZdFN1GN76",
        "outputId": "24be8c68-f548-4a26-eca0-f291ae9dfb07"
      },
      "execution_count": 11,
      "outputs": [
        {
          "name": "stdout",
          "output_type": "stream",
          "text": [
            "Enter a value: 5\n"
          ]
        }
      ]
    },
    {
      "cell_type": "code",
      "source": [
        "my_second_input = int(input(\"Enter another value: \"))"
      ],
      "metadata": {
        "colab": {
          "base_uri": "https://localhost:8080/"
        },
        "id": "ffqWorW1Gxvq",
        "outputId": "c92a6721-f986-4df5-97dc-49936a3d97d7"
      },
      "execution_count": 12,
      "outputs": [
        {
          "name": "stdout",
          "output_type": "stream",
          "text": [
            "Enter another value: 8\n"
          ]
        }
      ]
    },
    {
      "cell_type": "code",
      "source": [
        "my_first_input + my_second_input"
      ],
      "metadata": {
        "colab": {
          "base_uri": "https://localhost:8080/"
        },
        "id": "fb3KimEiG21H",
        "outputId": "9df3fcc5-2a8f-48da-d379-033d83a0fe42"
      },
      "execution_count": 13,
      "outputs": [
        {
          "output_type": "execute_result",
          "data": {
            "text/plain": [
              "13"
            ]
          },
          "metadata": {},
          "execution_count": 13
        }
      ]
    },
    {
      "cell_type": "markdown",
      "source": [
        "Now, lets convert our math problem to make it accept user input"
      ],
      "metadata": {
        "id": "Q6Bi1BDxHWnh"
      }
    },
    {
      "cell_type": "code",
      "source": [
        "cost_of_a_box = float(input())"
      ],
      "metadata": {
        "colab": {
          "base_uri": "https://localhost:8080/"
        },
        "id": "pvfBkdxwHxFq",
        "outputId": "72f2cfd2-8540-464d-9e53-06f68e203839"
      },
      "execution_count": 14,
      "outputs": [
        {
          "name": "stdout",
          "output_type": "stream",
          "text": [
            "580.15\n"
          ]
        }
      ]
    },
    {
      "cell_type": "code",
      "source": [
        "profit_margin = float(input())"
      ],
      "metadata": {
        "colab": {
          "base_uri": "https://localhost:8080/"
        },
        "id": "AX9Apy7oH-Nq",
        "outputId": "4a45462e-dcad-4797-d837-d3c003873d0b"
      },
      "execution_count": 15,
      "outputs": [
        {
          "name": "stdout",
          "output_type": "stream",
          "text": [
            ".15\n"
          ]
        }
      ]
    },
    {
      "cell_type": "code",
      "source": [
        "number_of_box = int(input())"
      ],
      "metadata": {
        "colab": {
          "base_uri": "https://localhost:8080/"
        },
        "id": "SJsurmxQIEOO",
        "outputId": "630338df-787e-4426-fd87-a9913f87e7b5"
      },
      "execution_count": 17,
      "outputs": [
        {
          "name": "stdout",
          "output_type": "stream",
          "text": [
            "500\n"
          ]
        }
      ]
    },
    {
      "cell_type": "code",
      "source": [
        "# Perform the required calculations\n",
        "profit_per_bag = cost_of_a_box * profit_margin\n",
        "total_profit = number_of_box * profit_per_bag\n",
        "\n",
        "# Display the result\n",
        "print(\"The shopkeeper makes a total profit of Rs.\", total_profit)"
      ],
      "metadata": {
        "colab": {
          "base_uri": "https://localhost:8080/"
        },
        "id": "yCRWoVfjHGhp",
        "outputId": "fddbbc20-39fa-4726-aef5-3a37634ced49"
      },
      "execution_count": 18,
      "outputs": [
        {
          "output_type": "stream",
          "name": "stdout",
          "text": [
            "The shopkeeper makes a total profit of Rs. 43511.25\n"
          ]
        }
      ]
    },
    {
      "cell_type": "markdown",
      "source": [
        "### Evaluating conditions using Python\n",
        "\n",
        "Apart from arithmetic operations, Python also provides several operations for comparing numbers & variables.\n",
        "\n",
        "| Operator    | Description                                                     |\n",
        "|-------------|-----------------------------------------------------------------|\n",
        "| `==`        | Check if operands are equal                                     |\n",
        "| `!=`        | Check if operands are not equal                                 |\n",
        "| `>`         | Check if left operand is greater than right operand             |\n",
        "| `<`         | Check if left operand is less than right operand                |\n",
        "| `>=`        | Check if left operand is greater than or equal to right operand |\n",
        "| `<=`        | Check if left operand is less than or equal to right operand    |\n",
        "\n",
        "The result of a comparison operation is either `True` or `False` (note the uppercase `T` and `F`). These are special keywords in Python. Let's try out some experiments with comparison operators."
      ],
      "metadata": {
        "id": "phZ2MpBWIVbh"
      }
    },
    {
      "cell_type": "code",
      "source": [
        "my_favorite_number = 5\n",
        "\n",
        "my_least_favorite_number = 3\n",
        "\n",
        "a_neutral_number = 6"
      ],
      "metadata": {
        "id": "BHvfC5NhIOm4"
      },
      "execution_count": 19,
      "outputs": []
    },
    {
      "cell_type": "code",
      "source": [
        "# Equality check\n",
        "my_favorite_number == 5"
      ],
      "metadata": {
        "colab": {
          "base_uri": "https://localhost:8080/"
        },
        "id": "jwkfoy_DLbhH",
        "outputId": "c3804b2d-6c98-4599-a2ff-fecdcd8e5395"
      },
      "execution_count": 20,
      "outputs": [
        {
          "output_type": "execute_result",
          "data": {
            "text/plain": [
              "True"
            ]
          },
          "metadata": {},
          "execution_count": 20
        }
      ]
    },
    {
      "cell_type": "code",
      "source": [
        "# Equality check\n",
        "my_favorite_number == a_neutral_number"
      ],
      "metadata": {
        "colab": {
          "base_uri": "https://localhost:8080/"
        },
        "id": "sebdShT2Lh--",
        "outputId": "1c162aec-d611-46fb-dff3-96fec73b06d2"
      },
      "execution_count": 21,
      "outputs": [
        {
          "output_type": "execute_result",
          "data": {
            "text/plain": [
              "False"
            ]
          },
          "metadata": {},
          "execution_count": 21
        }
      ]
    },
    {
      "cell_type": "code",
      "source": [
        "# Not equal check\n",
        "a_neutral_number != 3"
      ],
      "metadata": {
        "colab": {
          "base_uri": "https://localhost:8080/"
        },
        "id": "OfTting6delS",
        "outputId": "ccefefa3-37cc-41a2-ed9d-f117207ae8da"
      },
      "execution_count": 22,
      "outputs": [
        {
          "output_type": "execute_result",
          "data": {
            "text/plain": [
              "True"
            ]
          },
          "metadata": {},
          "execution_count": 22
        }
      ]
    },
    {
      "cell_type": "code",
      "source": [
        "# Less than or equal check\n",
        "3 + 10 <= 13"
      ],
      "metadata": {
        "colab": {
          "base_uri": "https://localhost:8080/"
        },
        "id": "XVeDQrpEdkge",
        "outputId": "20b98769-850a-453f-963c-92096bd357a8"
      },
      "execution_count": 25,
      "outputs": [
        {
          "output_type": "execute_result",
          "data": {
            "text/plain": [
              "True"
            ]
          },
          "metadata": {},
          "execution_count": 25
        }
      ]
    },
    {
      "cell_type": "code",
      "source": [
        "# Less than\n",
        "3 + 10 < 13"
      ],
      "metadata": {
        "colab": {
          "base_uri": "https://localhost:8080/"
        },
        "id": "hfLhh_uYdpjt",
        "outputId": "c32ad79b-6a9c-458e-ff2f-5da69a56a782"
      },
      "execution_count": 24,
      "outputs": [
        {
          "output_type": "execute_result",
          "data": {
            "text/plain": [
              "False"
            ]
          },
          "metadata": {},
          "execution_count": 24
        }
      ]
    },
    {
      "cell_type": "code",
      "source": [
        "# Assign cost of chocolates\n",
        "cost_of_chocolate = 500\n",
        "\n",
        "# Store the result in a boolean variable\n",
        "is_chocolate_expensive = cost_of_chocolate >= 450\n",
        "\n",
        "# Display result\n",
        "print(\"Is the chocolate expensive?: \", is_chocolate_expensive)"
      ],
      "metadata": {
        "colab": {
          "base_uri": "https://localhost:8080/"
        },
        "id": "-bIepwqPrMi7",
        "outputId": "8da3d2a5-1dfb-4f8a-9035-174c3fe2de8a"
      },
      "execution_count": 27,
      "outputs": [
        {
          "output_type": "stream",
          "name": "stdout",
          "text": [
            "Is the chocolate expensive?:  True\n"
          ]
        }
      ]
    },
    {
      "cell_type": "markdown",
      "source": [
        "## Combining conditions with logical operators\n",
        "\n",
        "The logical operators `and`, `or` and `not` operate upon conditions and `True` & `False` values (also known as *booleans*). `and` and `or` operate on two conditions, whereas `not` operates on a single condition.\n",
        "\n",
        "The `and` operator returns `True` when both the conditions evaluate to `True`. Otherwise, it returns `False`.\n",
        "\n",
        "| `a`     | `b`    | `a and b` |\n",
        "|---------|--------|-----------|\n",
        "|  `True` | `True` | `True`    |\n",
        "|  `True` | `False`| `False`   |\n",
        "|  `False`| `True` | `False`   |\n",
        "|  `False`| `False`| `False`   |"
      ],
      "metadata": {
        "id": "yVA-78DfssEM"
      }
    },
    {
      "cell_type": "code",
      "source": [
        "my_favorite_number"
      ],
      "metadata": {
        "colab": {
          "base_uri": "https://localhost:8080/"
        },
        "id": "0EdYo7CIsP0z",
        "outputId": "699f920b-67ee-4121-8472-f052b24ad88b"
      },
      "execution_count": 28,
      "outputs": [
        {
          "output_type": "execute_result",
          "data": {
            "text/plain": [
              "5"
            ]
          },
          "metadata": {},
          "execution_count": 28
        }
      ]
    },
    {
      "cell_type": "code",
      "source": [
        "my_favorite_number > 0 and my_favorite_number <= 3"
      ],
      "metadata": {
        "colab": {
          "base_uri": "https://localhost:8080/"
        },
        "id": "cMzWDc1A5mOH",
        "outputId": "95c29a33-d510-4170-cf57-2ee3b50c31bc"
      },
      "execution_count": 29,
      "outputs": [
        {
          "output_type": "execute_result",
          "data": {
            "text/plain": [
              "False"
            ]
          },
          "metadata": {},
          "execution_count": 29
        }
      ]
    },
    {
      "cell_type": "code",
      "source": [
        "my_favorite_number > 0 and my_favorite_number >= 3"
      ],
      "metadata": {
        "colab": {
          "base_uri": "https://localhost:8080/"
        },
        "id": "oEu0pX6O5rPn",
        "outputId": "57db6e83-a6b9-469e-e162-a3a7366db3e5"
      },
      "execution_count": 30,
      "outputs": [
        {
          "output_type": "execute_result",
          "data": {
            "text/plain": [
              "True"
            ]
          },
          "metadata": {},
          "execution_count": 30
        }
      ]
    },
    {
      "cell_type": "code",
      "source": [
        "False and True"
      ],
      "metadata": {
        "colab": {
          "base_uri": "https://localhost:8080/"
        },
        "id": "L0MjcqiD51L5",
        "outputId": "3d01eedf-b292-4517-c5d0-b370353ddc6c"
      },
      "execution_count": 31,
      "outputs": [
        {
          "output_type": "execute_result",
          "data": {
            "text/plain": [
              "False"
            ]
          },
          "metadata": {},
          "execution_count": 31
        }
      ]
    },
    {
      "cell_type": "markdown",
      "source": [
        "The `or` operator returns `True` if at least one of the conditions evaluates to `True`. It returns `False` only if both conditions are `False`.\n",
        "\n",
        "| `a`     | `b`    | `a or b`  |\n",
        "|---------|--------|-----------|\n",
        "|  `True` | `True` | `True`    |\n",
        "|  `True` | `False`| `True`    |\n",
        "|  `False`| `True` | `True`    |\n",
        "|  `False`| `False`| `False`   |\n"
      ],
      "metadata": {
        "id": "zEdhrc_95-sy"
      }
    },
    {
      "cell_type": "code",
      "source": [
        "a_neutral_number"
      ],
      "metadata": {
        "colab": {
          "base_uri": "https://localhost:8080/"
        },
        "id": "eOg-vMOe59vQ",
        "outputId": "ee27cf97-f0dc-42a9-b9d4-1fae974c3e01"
      },
      "execution_count": 32,
      "outputs": [
        {
          "output_type": "execute_result",
          "data": {
            "text/plain": [
              "6"
            ]
          },
          "metadata": {},
          "execution_count": 32
        }
      ]
    },
    {
      "cell_type": "code",
      "source": [
        "a_neutral_number == 3 or my_favorite_number < 0"
      ],
      "metadata": {
        "colab": {
          "base_uri": "https://localhost:8080/"
        },
        "id": "P2pM7BT-6GmR",
        "outputId": "b7799983-a3eb-499a-e5ef-1557b632c7f5"
      },
      "execution_count": 33,
      "outputs": [
        {
          "output_type": "execute_result",
          "data": {
            "text/plain": [
              "False"
            ]
          },
          "metadata": {},
          "execution_count": 33
        }
      ]
    },
    {
      "cell_type": "code",
      "source": [
        "True or False"
      ],
      "metadata": {
        "colab": {
          "base_uri": "https://localhost:8080/"
        },
        "id": "U4dlKAWU6JqZ",
        "outputId": "6a6ad890-f4ef-404c-ff9b-be945a8f137f"
      },
      "execution_count": 34,
      "outputs": [
        {
          "output_type": "execute_result",
          "data": {
            "text/plain": [
              "True"
            ]
          },
          "metadata": {},
          "execution_count": 34
        }
      ]
    },
    {
      "cell_type": "code",
      "source": [
        "False or False"
      ],
      "metadata": {
        "colab": {
          "base_uri": "https://localhost:8080/"
        },
        "id": "o0fWZHfY6OJb",
        "outputId": "7069e409-dcad-4b71-e1bd-7e27f9361c1f"
      },
      "execution_count": 35,
      "outputs": [
        {
          "output_type": "execute_result",
          "data": {
            "text/plain": [
              "False"
            ]
          },
          "metadata": {},
          "execution_count": 35
        }
      ]
    },
    {
      "cell_type": "code",
      "source": [
        "# Combined\n",
        "\n",
        "(2 > 3 and 4 <= 5) or not (my_favorite_number < 0 and True)"
      ],
      "metadata": {
        "colab": {
          "base_uri": "https://localhost:8080/"
        },
        "id": "LqdIjQSi9lwV",
        "outputId": "077d6756-29c9-403d-e0b2-fe165507b8cc"
      },
      "execution_count": 36,
      "outputs": [
        {
          "output_type": "execute_result",
          "data": {
            "text/plain": [
              "True"
            ]
          },
          "metadata": {},
          "execution_count": 36
        }
      ]
    },
    {
      "cell_type": "markdown",
      "source": [
        "## Part 2 - Variables and Data Types in Python"
      ],
      "metadata": {
        "id": "QtApjjML-QJp"
      }
    },
    {
      "cell_type": "markdown",
      "source": [
        "This tutorial covers the following topics:\n",
        "\n",
        "- Storing information using variables\n",
        "- Primitive data types in Python: Integer, Float, Boolean, None and String\n",
        "- Built-in data structures in Python: List, Tuple and Dictionary\n",
        "- Methods and operators supported by built-in data types"
      ],
      "metadata": {
        "id": "hb1nI4a2-42m"
      }
    },
    {
      "cell_type": "markdown",
      "source": [
        "Lets assign my favourite color to a variable"
      ],
      "metadata": {
        "id": "B3IKGymB_MQk"
      }
    },
    {
      "cell_type": "code",
      "source": [
        "my_favorite_color = \"blue\""
      ],
      "metadata": {
        "id": "LiQd7qUZ9uWV"
      },
      "execution_count": 37,
      "outputs": []
    },
    {
      "cell_type": "markdown",
      "source": [
        "You can check the type of the variables using the **type** keyword"
      ],
      "metadata": {
        "id": "G1bSxsMB_V9k"
      }
    },
    {
      "cell_type": "code",
      "source": [
        "type(my_favorite_color)"
      ],
      "metadata": {
        "colab": {
          "base_uri": "https://localhost:8080/"
        },
        "id": "cZKwAIVz_G1j",
        "outputId": "ad36aa74-a926-4915-9d64-a3b4012f032d"
      },
      "execution_count": 38,
      "outputs": [
        {
          "output_type": "execute_result",
          "data": {
            "text/plain": [
              "str"
            ]
          },
          "metadata": {},
          "execution_count": 38
        }
      ]
    },
    {
      "cell_type": "markdown",
      "source": [
        "**Assigning to multiple variables simultaneously**\n",
        "\n",
        "A variable is created using an assignment statement. It begins with the variable's name, followed by the assignment operator `=` followed by the value to be stored within the variable.  Note that the assignment operator `=` is different from the equality comparison operator `==`.\n",
        "\n",
        "You can also assign values to multiple variables in a single statement by separating the variable names and values with commas."
      ],
      "metadata": {
        "id": "l4zFmrra_sGO"
      }
    },
    {
      "cell_type": "code",
      "source": [
        "animal_1, animal_2 = \"Dog\", \"Cat\""
      ],
      "metadata": {
        "id": "YSSZp5Hy_gaL"
      },
      "execution_count": 41,
      "outputs": []
    },
    {
      "cell_type": "code",
      "source": [
        "animal_1"
      ],
      "metadata": {
        "colab": {
          "base_uri": "https://localhost:8080/",
          "height": 36
        },
        "id": "Fx-zGTpI_kae",
        "outputId": "225c1e90-8736-4f0e-ecb4-7c529aeedd29"
      },
      "execution_count": 42,
      "outputs": [
        {
          "output_type": "execute_result",
          "data": {
            "application/vnd.google.colaboratory.intrinsic+json": {
              "type": "string"
            },
            "text/plain": [
              "'Dog'"
            ]
          },
          "metadata": {},
          "execution_count": 42
        }
      ]
    },
    {
      "cell_type": "markdown",
      "source": [
        "You can assign the same value to multiple variables by chaining multiple assignment operations within a single statement."
      ],
      "metadata": {
        "id": "6FhB_TIrAvxO"
      }
    },
    {
      "cell_type": "code",
      "source": [
        "animal_1 = animal_3 = \"Dog\""
      ],
      "metadata": {
        "id": "FqoqTZhQAlBU"
      },
      "execution_count": 43,
      "outputs": []
    },
    {
      "cell_type": "code",
      "source": [
        "animal_3"
      ],
      "metadata": {
        "colab": {
          "base_uri": "https://localhost:8080/",
          "height": 36
        },
        "id": "PL2sT2qNA-ft",
        "outputId": "74ebcbb0-28e7-41ff-c8ac-207b5665318f"
      },
      "execution_count": 44,
      "outputs": [
        {
          "output_type": "execute_result",
          "data": {
            "application/vnd.google.colaboratory.intrinsic+json": {
              "type": "string"
            },
            "text/plain": [
              "'Dog'"
            ]
          },
          "metadata": {},
          "execution_count": 44
        }
      ]
    },
    {
      "cell_type": "markdown",
      "source": [
        "### Built-in data types in Python\n",
        "\n",
        "Any data or information stored within a Python variable has a *type*. You can view the type of data stored within a variable using the `type` function as said previously.\n",
        "\n",
        "Python has several built-in data types for storing different kinds of information in variables. Following are some commonly used data types:\n",
        "\n",
        "1. Integer\n",
        "2. Float\n",
        "3. Boolean\n",
        "4. None\n",
        "5. String\n",
        "6. List\n",
        "7. Tuple\n",
        "8. Dictionary\n",
        "\n",
        "<img src=\"https://github.com/acmhitk/ACM-Python-Hobby-Class-2022/blob/main/assets/data_type.png?raw=true\" width=\"800\"/>\n",
        "\n",
        "Integer, float, boolean, None, and string are *primitive data types* because they represent a single value. Other data types like list, tuple, and dictionary are often called *data structures* or *containers* because they hold multiple pieces of data together.\n",
        "\n",
        "In this notebook we will take a look at the **first 6** data types"
      ],
      "metadata": {
        "id": "88i81UDDBSMQ"
      }
    },
    {
      "cell_type": "markdown",
      "source": [
        "#### Integer\n",
        "\n",
        "Integers represent positive or negative whole numbers, from negative infinity to infinity. Note that integers should not include decimal points. Integers have the type `int`."
      ],
      "metadata": {
        "id": "VYVFRuwfCR1I"
      }
    },
    {
      "cell_type": "code",
      "source": [
        "number_1 = 85\n",
        "number_2 = 58"
      ],
      "metadata": {
        "id": "qoVATVMpA_hm"
      },
      "execution_count": 47,
      "outputs": []
    },
    {
      "cell_type": "code",
      "source": [
        "-number_1**number_2"
      ],
      "metadata": {
        "colab": {
          "base_uri": "https://localhost:8080/"
        },
        "id": "1vHnsk-5KFea",
        "outputId": "d2f269fa-1e85-4614-8470-3761e946f4d6"
      },
      "execution_count": 49,
      "outputs": [
        {
          "output_type": "execute_result",
          "data": {
            "text/plain": [
              "-8059306850307519511922216673631716148483975480133718775447964899424212505130160622002222226001322269439697265625"
            ]
          },
          "metadata": {},
          "execution_count": 49
        }
      ]
    },
    {
      "cell_type": "markdown",
      "source": [
        "Unlike some other programming languages, integers in Python can be arbitrarily large (or small). There's no lowest or highest value for integers, and there's just one `int` type (as opposed to `short`, `int`, `long`, `long long`, `unsigned int`, etc. in C/C++/Java)."
      ],
      "metadata": {
        "id": "ZzqCUGXwLGi4"
      }
    },
    {
      "cell_type": "markdown",
      "source": [
        "#### Float\n",
        "\n",
        "Floats (or floating-point numbers) are numbers with a decimal point. There are no limits on the value or the number of digits before or after the decimal point. Floating-point numbers have the type `float`."
      ],
      "metadata": {
        "id": "pd2iKfGeLjBy"
      }
    },
    {
      "cell_type": "code",
      "source": [
        "pi = 3.141592653589793238"
      ],
      "metadata": {
        "id": "Hoi9xae3KLhy"
      },
      "execution_count": 51,
      "outputs": []
    },
    {
      "cell_type": "code",
      "source": [
        "100 / pi"
      ],
      "metadata": {
        "colab": {
          "base_uri": "https://localhost:8080/"
        },
        "id": "Spwl4EYcLrnx",
        "outputId": "81f9f081-7b2c-404d-b229-0e525a6c0365"
      },
      "execution_count": 52,
      "outputs": [
        {
          "output_type": "execute_result",
          "data": {
            "text/plain": [
              "31.830988618379067"
            ]
          },
          "metadata": {},
          "execution_count": 52
        }
      ]
    },
    {
      "cell_type": "markdown",
      "source": [
        "Floating point numbers can also be written using the scientific notation with an \"e\" to indicate the power of 10."
      ],
      "metadata": {
        "id": "FStTjwj0MUeo"
      }
    },
    {
      "cell_type": "code",
      "source": [
        "one_hundredth = 1e-2"
      ],
      "metadata": {
        "id": "fJ0S9VOyL0Me"
      },
      "execution_count": 53,
      "outputs": []
    },
    {
      "cell_type": "code",
      "source": [
        "one_hundredth"
      ],
      "metadata": {
        "colab": {
          "base_uri": "https://localhost:8080/"
        },
        "id": "t11AyCIZMYgf",
        "outputId": "f4c1387f-4ea4-4e94-b9f3-d98f262d49fd"
      },
      "execution_count": 54,
      "outputs": [
        {
          "output_type": "execute_result",
          "data": {
            "text/plain": [
              "0.01"
            ]
          },
          "metadata": {},
          "execution_count": 54
        }
      ]
    },
    {
      "cell_type": "markdown",
      "source": [
        "While performing arithmetic operations, integers are automatically converted to `float`s if any of the operands is a `float`. Also, the division operator `/` always returns a `float`, even if both operands are integers. Use the `//` operator if you want the result of the division to be an `int`."
      ],
      "metadata": {
        "id": "6JPs0ZGvTaIS"
      }
    },
    {
      "cell_type": "code",
      "source": [
        "type(10/2)"
      ],
      "metadata": {
        "colab": {
          "base_uri": "https://localhost:8080/"
        },
        "id": "ViphFVe0MbCk",
        "outputId": "a325988a-2fa5-4635-803e-9bd42a41729b"
      },
      "execution_count": 55,
      "outputs": [
        {
          "output_type": "execute_result",
          "data": {
            "text/plain": [
              "float"
            ]
          },
          "metadata": {},
          "execution_count": 55
        }
      ]
    },
    {
      "cell_type": "code",
      "source": [
        "type(10//2)"
      ],
      "metadata": {
        "colab": {
          "base_uri": "https://localhost:8080/"
        },
        "id": "te4DXxVPTqHm",
        "outputId": "a6adbc7f-fbe8-41ed-aa12-81da3a53832f"
      },
      "execution_count": 56,
      "outputs": [
        {
          "output_type": "execute_result",
          "data": {
            "text/plain": [
              "int"
            ]
          },
          "metadata": {},
          "execution_count": 56
        }
      ]
    },
    {
      "cell_type": "markdown",
      "source": [
        "#### Boolean\n",
        "\n",
        "Booleans represent one of 2 values: `True` and `False`. Booleans have the type `bool`.\n",
        "Booleans are generally the result of a comparison operation, e.g., `==`, `>=`, etc."
      ],
      "metadata": {
        "id": "C4nOXnhZUXiC"
      }
    },
    {
      "cell_type": "code",
      "source": [
        "1 < 2"
      ],
      "metadata": {
        "colab": {
          "base_uri": "https://localhost:8080/"
        },
        "id": "2eNh-lijTrgs",
        "outputId": "7acff706-8940-48c9-f075-ec06e926b69a"
      },
      "execution_count": 57,
      "outputs": [
        {
          "output_type": "execute_result",
          "data": {
            "text/plain": [
              "True"
            ]
          },
          "metadata": {},
          "execution_count": 57
        }
      ]
    },
    {
      "cell_type": "markdown",
      "source": [
        "**Important**\n",
        "\n",
        "Any value in Python can be converted to a Boolean using the `bool` function. \n",
        "\n",
        "Only the following values evaluate to `False` (they are often called *falsy* values):\n",
        "\n",
        "1. The value `False` itself\n",
        "2. The integer `0`\n",
        "3. The float `0.0`\n",
        "4. The empty value `None`\n",
        "5. The empty text `\"\"`\n",
        "6. The empty list `[]`\n",
        "7. The empty tuple `()`\n",
        "8. The empty dictionary `{}`\n",
        "9. The empty set `set()`\n",
        "10. The empty range `range(0)`\n",
        "\n",
        "Everything else evaluates to `True` (a value that evaluates to `True` is often called a *truthy* value)."
      ],
      "metadata": {
        "id": "ZIKsOCYhVV-_"
      }
    },
    {
      "cell_type": "code",
      "source": [
        "some_number = 0.0\n",
        "bool(some_number)"
      ],
      "metadata": {
        "colab": {
          "base_uri": "https://localhost:8080/"
        },
        "id": "BSohRrSeUpoI",
        "outputId": "21cf88bd-c3cd-4ec1-ed29-031e91b32a70"
      },
      "execution_count": 58,
      "outputs": [
        {
          "output_type": "execute_result",
          "data": {
            "text/plain": [
              "False"
            ]
          },
          "metadata": {},
          "execution_count": 58
        }
      ]
    },
    {
      "cell_type": "code",
      "source": [
        "bool(True), bool(1), bool(2.0), bool(\"hello\"), bool([1,2]), bool((2,3)), bool(range(10))"
      ],
      "metadata": {
        "colab": {
          "base_uri": "https://localhost:8080/"
        },
        "id": "n7kDtI-dZNBi",
        "outputId": "3675b971-adf8-4ec9-cef9-fb87207619ef"
      },
      "execution_count": 59,
      "outputs": [
        {
          "output_type": "execute_result",
          "data": {
            "text/plain": [
              "(True, True, True, True, True, True, True)"
            ]
          },
          "metadata": {},
          "execution_count": 59
        }
      ]
    },
    {
      "cell_type": "markdown",
      "source": [
        "#### None\n",
        "\n",
        "The None type includes a single value `None`, used to indicate the absence of a value. `None` has the type `NoneType`. It is often used to declare a variable whose value may be assigned later."
      ],
      "metadata": {
        "id": "nWlzMbPlbhhR"
      }
    },
    {
      "cell_type": "code",
      "source": [
        "nothing = None\n",
        "type(nothing)"
      ],
      "metadata": {
        "colab": {
          "base_uri": "https://localhost:8080/"
        },
        "id": "xas0S59zvM08",
        "outputId": "09abdf57-4e37-41df-9fff-3705133d6e51"
      },
      "execution_count": 61,
      "outputs": [
        {
          "output_type": "execute_result",
          "data": {
            "text/plain": [
              "NoneType"
            ]
          },
          "metadata": {},
          "execution_count": 61
        }
      ]
    },
    {
      "cell_type": "markdown",
      "source": [
        "#### String - Basics\n",
        "\n",
        "A string is used to represent text (*a string of characters*) in Python. Strings must be surrounded using quotations (either the single quote `'` or the double quote `\"`). Strings have the type `string`."
      ],
      "metadata": {
        "id": "uSgIKW-dvIPq"
      }
    },
    {
      "cell_type": "code",
      "source": [
        "text = \"Have a nice day!\" "
      ],
      "metadata": {
        "id": "xOYewy2nbFjm"
      },
      "execution_count": 62,
      "outputs": []
    },
    {
      "cell_type": "markdown",
      "source": [
        "To use a double quote within a string written with double quotes, *escape* the inner quotes by prefixing them with the `\\` character."
      ],
      "metadata": {
        "id": "iJHWjpiivjyk"
      }
    },
    {
      "cell_type": "code",
      "source": [
        "another_text = \"He said, \\\"Have a nice day!\\\".\""
      ],
      "metadata": {
        "id": "nkp7CQlDvdCU"
      },
      "execution_count": 64,
      "outputs": []
    },
    {
      "cell_type": "code",
      "source": [
        "another_text"
      ],
      "metadata": {
        "colab": {
          "base_uri": "https://localhost:8080/",
          "height": 36
        },
        "id": "-tCMG7GMvn_c",
        "outputId": "e0a8d855-566a-4df1-8c25-b3f53bee195b"
      },
      "execution_count": 65,
      "outputs": [
        {
          "output_type": "execute_result",
          "data": {
            "application/vnd.google.colaboratory.intrinsic+json": {
              "type": "string"
            },
            "text/plain": [
              "'He said, \"Have a nice day!\".'"
            ]
          },
          "metadata": {},
          "execution_count": 65
        }
      ]
    },
    {
      "cell_type": "markdown",
      "source": [
        "Strings created using single or double quotes must begin and end on the same line. To create multiline strings, use three single quotes `'''` or three double quotes `\"\"\"` to begin and end the string. Line breaks are represented using the newline character `\\n`."
      ],
      "metadata": {
        "id": "QOTLYcqlv9Qt"
      }
    },
    {
      "cell_type": "code",
      "source": [
        "a_music_pun = \"\"\"\n",
        "Two windmills are standing in a field and one asks the other, \n",
        "\"What kind of music do you like?\"  \n",
        "\n",
        "The other says, \n",
        "\"I'm a big metal fan.\"\n",
        "\"\"\""
      ],
      "metadata": {
        "id": "ek99md1CvymH"
      },
      "execution_count": 66,
      "outputs": []
    },
    {
      "cell_type": "code",
      "source": [
        "print(a_music_pun)"
      ],
      "metadata": {
        "colab": {
          "base_uri": "https://localhost:8080/"
        },
        "id": "XS5Cfy5jwCKU",
        "outputId": "dc1d74cd-c58c-435c-ca1d-ad2f15b8c957"
      },
      "execution_count": 67,
      "outputs": [
        {
          "output_type": "stream",
          "name": "stdout",
          "text": [
            "\n",
            "Two windmills are standing in a field and one asks the other, \n",
            "\"What kind of music do you like?\"  \n",
            "\n",
            "The other says, \n",
            "\"I'm a big metal fan.\"\n",
            "\n"
          ]
        }
      ]
    },
    {
      "cell_type": "markdown",
      "source": [
        "You can check the length of a string using the `len` function."
      ],
      "metadata": {
        "id": "Ei9NQVKewMbf"
      }
    },
    {
      "cell_type": "code",
      "source": [
        "len(a_music_pun)"
      ],
      "metadata": {
        "colab": {
          "base_uri": "https://localhost:8080/"
        },
        "id": "FPGlCrChwEFW",
        "outputId": "3c8ed43b-eecc-450b-ccb8-495dcb8c109f"
      },
      "execution_count": 68,
      "outputs": [
        {
          "output_type": "execute_result",
          "data": {
            "text/plain": [
              "141"
            ]
          },
          "metadata": {},
          "execution_count": 68
        }
      ]
    },
    {
      "cell_type": "markdown",
      "source": [
        "A string can be converted into a list of characters using `list` function."
      ],
      "metadata": {
        "id": "HqEZRhuIwZRy"
      }
    },
    {
      "cell_type": "code",
      "source": [
        "text_1 = \"I love chocolates\""
      ],
      "metadata": {
        "id": "JoM3AivZwQqc"
      },
      "execution_count": 70,
      "outputs": []
    },
    {
      "cell_type": "code",
      "source": [
        "mylist = list(text_1.split())"
      ],
      "metadata": {
        "id": "QQJgmSeRwXnb"
      },
      "execution_count": 73,
      "outputs": []
    },
    {
      "cell_type": "code",
      "source": [
        "mylist"
      ],
      "metadata": {
        "colab": {
          "base_uri": "https://localhost:8080/"
        },
        "id": "YaRzIaf9wkDN",
        "outputId": "093a9048-501e-4f71-98b3-a1dd596d9448"
      },
      "execution_count": 74,
      "outputs": [
        {
          "output_type": "execute_result",
          "data": {
            "text/plain": [
              "['I', 'love', 'chocolate']"
            ]
          },
          "metadata": {},
          "execution_count": 74
        }
      ]
    },
    {
      "cell_type": "markdown",
      "source": [
        "Find out on your own, what will happen if you do not use the split()"
      ],
      "metadata": {
        "id": "AK9Zyis8wqWa"
      }
    },
    {
      "cell_type": "markdown",
      "source": [
        "Strings also support several list operations, which are discussed in the next section. We'll look at a couple of examples here.\n",
        "\n",
        "You can access individual characters within a string using the `[]` indexing notation. Note the character indices go from `0` to `n-1`, where `n` is the length of the string."
      ],
      "metadata": {
        "id": "N9-WGl5ixOMi"
      }
    },
    {
      "cell_type": "code",
      "source": [
        "today = \"Saturday\"\n",
        "\n",
        "# S a t u r d a y\n",
        "# 0 1 2 3 4 5 6 7"
      ],
      "metadata": {
        "id": "t3-m8ivLwlWN"
      },
      "execution_count": 75,
      "outputs": []
    },
    {
      "cell_type": "code",
      "source": [
        "today[0]"
      ],
      "metadata": {
        "colab": {
          "base_uri": "https://localhost:8080/",
          "height": 36
        },
        "id": "Cu-62pVPxLp_",
        "outputId": "b413e035-cfb8-4784-f105-0f52ece37131"
      },
      "execution_count": 76,
      "outputs": [
        {
          "output_type": "execute_result",
          "data": {
            "application/vnd.google.colaboratory.intrinsic+json": {
              "type": "string"
            },
            "text/plain": [
              "'S'"
            ]
          },
          "metadata": {},
          "execution_count": 76
        }
      ]
    },
    {
      "cell_type": "code",
      "source": [
        "today[7]"
      ],
      "metadata": {
        "colab": {
          "base_uri": "https://localhost:8080/",
          "height": 36
        },
        "id": "UkeS6RMRxUCm",
        "outputId": "d09e892e-cf47-4828-f5f8-a4de79134174"
      },
      "execution_count": 77,
      "outputs": [
        {
          "output_type": "execute_result",
          "data": {
            "application/vnd.google.colaboratory.intrinsic+json": {
              "type": "string"
            },
            "text/plain": [
              "'y'"
            ]
          },
          "metadata": {},
          "execution_count": 77
        }
      ]
    },
    {
      "cell_type": "markdown",
      "source": [
        "You can access a part of a string using by providing a `start:end` range instead of a single index in `[]`."
      ],
      "metadata": {
        "id": "PoPwyQERxgmy"
      }
    },
    {
      "cell_type": "code",
      "source": [
        "today[5:8]"
      ],
      "metadata": {
        "colab": {
          "base_uri": "https://localhost:8080/",
          "height": 36
        },
        "id": "k4Ye9976xWMf",
        "outputId": "b7831080-2ec6-467a-e502-3257d8fa237b"
      },
      "execution_count": 78,
      "outputs": [
        {
          "output_type": "execute_result",
          "data": {
            "application/vnd.google.colaboratory.intrinsic+json": {
              "type": "string"
            },
            "text/plain": [
              "'day'"
            ]
          },
          "metadata": {},
          "execution_count": 78
        }
      ]
    },
    {
      "cell_type": "markdown",
      "source": [
        "You can also check whether a string contains a some text using the `in` operator. "
      ],
      "metadata": {
        "id": "Q-N0oeqFxvXV"
      }
    },
    {
      "cell_type": "code",
      "source": [
        "'day' in today"
      ],
      "metadata": {
        "colab": {
          "base_uri": "https://localhost:8080/"
        },
        "id": "O-HgMmhFxYzm",
        "outputId": "1b0c0d9a-b336-4fed-fbc3-8e5dacfcc588"
      },
      "execution_count": 79,
      "outputs": [
        {
          "output_type": "execute_result",
          "data": {
            "text/plain": [
              "True"
            ]
          },
          "metadata": {},
          "execution_count": 79
        }
      ]
    },
    {
      "cell_type": "markdown",
      "source": [
        "Two or more strings can be joined or *concatenated* using the `+` operator. Be careful while concatenating strings, sometimes you may need to add a space character `\" \"` between words.\n",
        "\n",
        "You can also create custom functions to pre-process strings.\n",
        "\n",
        "Think of a usecase where you might need to pre-process text"
      ],
      "metadata": {
        "id": "MjiqKvf9x3j9"
      }
    },
    {
      "cell_type": "markdown",
      "source": [
        "Strings in Python have many built-in *methods* that are used to manipulate them. Let's try out some common string methods.\n",
        "\n",
        "> **Methods**: Methods are functions associated with data types and are accessed using the `.` notation e.g. `variable_name.method()` or `\"a string\".method()`. Methods are a powerful technique for associating common operations with values of specific data types.\n",
        "\n",
        "The `.lower()`, `.upper()` and `.capitalize()` methods are used to change the case of the characters."
      ],
      "metadata": {
        "id": "-Mlut_23ypjA"
      }
    },
    {
      "cell_type": "code",
      "source": [
        "# Print the string in upper case\n",
        "\"saturday\".upper()"
      ],
      "metadata": {
        "colab": {
          "base_uri": "https://localhost:8080/",
          "height": 36
        },
        "id": "l89kvUCBxxtr",
        "outputId": "f694d6b5-e7d4-46ee-a4ce-de2f21f4554e"
      },
      "execution_count": 80,
      "outputs": [
        {
          "output_type": "execute_result",
          "data": {
            "application/vnd.google.colaboratory.intrinsic+json": {
              "type": "string"
            },
            "text/plain": [
              "'SATURDAY'"
            ]
          },
          "metadata": {},
          "execution_count": 80
        }
      ]
    },
    {
      "cell_type": "code",
      "source": [
        "\"monday\".capitalize() # changes first character to uppercase"
      ],
      "metadata": {
        "colab": {
          "base_uri": "https://localhost:8080/",
          "height": 36
        },
        "id": "lPSnGN6Myv1E",
        "outputId": "f73e8a08-6e38-413e-d8e3-20b3d2411ab1"
      },
      "execution_count": 81,
      "outputs": [
        {
          "output_type": "execute_result",
          "data": {
            "application/vnd.google.colaboratory.intrinsic+json": {
              "type": "string"
            },
            "text/plain": [
              "'Monday'"
            ]
          },
          "metadata": {},
          "execution_count": 81
        }
      ]
    },
    {
      "cell_type": "markdown",
      "source": [
        "More such functions will be added in the Advanced Version of the Notebook"
      ],
      "metadata": {
        "id": "XpkKlW-ky3li"
      }
    },
    {
      "cell_type": "markdown",
      "source": [
        "#### List - Basics\n",
        "\n",
        "A list in Python is an ordered collection of values. Lists can hold values of different data types and support operations to add, remove, and change values. Lists have the type `list`.\n",
        "\n",
        "To create a list, enclose a sequence of values within square brackets `[` and `]`, separated by commas."
      ],
      "metadata": {
        "id": "DLxw_b9szHnu"
      }
    },
    {
      "cell_type": "code",
      "source": [
        "fruits = ['apple', 'banana', 'cherry']"
      ],
      "metadata": {
        "id": "XmNY4BuKyy_A"
      },
      "execution_count": 82,
      "outputs": []
    },
    {
      "cell_type": "markdown",
      "source": [
        "Let's try creating a list containing values of different data types, including another list.\n",
        "\n",
        "Heterogeneous List"
      ],
      "metadata": {
        "id": "xN0PpgzFzWs3"
      }
    },
    {
      "cell_type": "code",
      "source": [
        "a_list = [23, 'hello', None, 3.14, fruits, 3 <= 5]"
      ],
      "metadata": {
        "id": "EIE_ld9PzNsZ"
      },
      "execution_count": 83,
      "outputs": []
    },
    {
      "cell_type": "code",
      "source": [
        "a_list"
      ],
      "metadata": {
        "colab": {
          "base_uri": "https://localhost:8080/"
        },
        "id": "y0j8xYIEzfpR",
        "outputId": "504fa05d-69fb-4f4b-e049-465dec3ac266"
      },
      "execution_count": 84,
      "outputs": [
        {
          "output_type": "execute_result",
          "data": {
            "text/plain": [
              "[23, 'hello', None, 3.14, ['apple', 'banana', 'cherry'], True]"
            ]
          },
          "metadata": {},
          "execution_count": 84
        }
      ]
    },
    {
      "cell_type": "code",
      "source": [
        "len(a_list)"
      ],
      "metadata": {
        "colab": {
          "base_uri": "https://localhost:8080/"
        },
        "id": "uuzu_nCfzg-Y",
        "outputId": "0aa8aff9-7f6b-42c4-ff9a-f6ea6124ce35"
      },
      "execution_count": 85,
      "outputs": [
        {
          "output_type": "execute_result",
          "data": {
            "text/plain": [
              "6"
            ]
          },
          "metadata": {},
          "execution_count": 85
        }
      ]
    },
    {
      "cell_type": "code",
      "source": [
        "len(a_list[4])"
      ],
      "metadata": {
        "colab": {
          "base_uri": "https://localhost:8080/"
        },
        "id": "pxOwICm5zkow",
        "outputId": "9e89af1b-20e1-4713-c215-479b4d6189bd"
      },
      "execution_count": 88,
      "outputs": [
        {
          "output_type": "execute_result",
          "data": {
            "text/plain": [
              "3"
            ]
          },
          "metadata": {},
          "execution_count": 88
        }
      ]
    },
    {
      "cell_type": "markdown",
      "source": [
        "Remember the fruits list"
      ],
      "metadata": {
        "id": "BTsWqv3M0VJn"
      }
    },
    {
      "cell_type": "code",
      "source": [
        "fruits"
      ],
      "metadata": {
        "colab": {
          "base_uri": "https://localhost:8080/"
        },
        "id": "a6vj8xYuzoyY",
        "outputId": "804a4458-23a1-48c5-98c3-60a3fc531152"
      },
      "execution_count": 89,
      "outputs": [
        {
          "output_type": "execute_result",
          "data": {
            "text/plain": [
              "['apple', 'banana', 'cherry']"
            ]
          },
          "metadata": {},
          "execution_count": 89
        }
      ]
    },
    {
      "cell_type": "code",
      "source": [
        "# Reverse the list\n",
        "# [ <first element to include> : <first element to exclude> : <step> ]\n",
        "fruits[::-1]"
      ],
      "metadata": {
        "colab": {
          "base_uri": "https://localhost:8080/"
        },
        "id": "iik5_Hvb0XlT",
        "outputId": "a3c149e7-be9a-4887-b5d5-2459025a0133"
      },
      "execution_count": 95,
      "outputs": [
        {
          "output_type": "execute_result",
          "data": {
            "text/plain": [
              "['cherry', 'banana', 'apple']"
            ]
          },
          "metadata": {},
          "execution_count": 95
        }
      ]
    },
    {
      "cell_type": "markdown",
      "source": [
        "Amazing right? Just one line!!\n",
        "\n",
        "Try to understand how this works"
      ],
      "metadata": {
        "id": "o6T80iOn0ecm"
      }
    },
    {
      "cell_type": "code",
      "source": [
        "# Python supports negative index\n",
        "\n",
        "\n",
        "# 'apple', 'banana', 'cherry'\n",
        "#    0        1         2\n",
        "#   -3       -2        -1\n",
        "\n",
        "fruits[-1]"
      ],
      "metadata": {
        "colab": {
          "base_uri": "https://localhost:8080/",
          "height": 36
        },
        "id": "94S9ZdUd0c3I",
        "outputId": "3d125be5-3e1c-4cab-8cc2-6a6c7e1e7dbc"
      },
      "execution_count": 94,
      "outputs": [
        {
          "output_type": "execute_result",
          "data": {
            "application/vnd.google.colaboratory.intrinsic+json": {
              "type": "string"
            },
            "text/plain": [
              "'cherry'"
            ]
          },
          "metadata": {},
          "execution_count": 94
        }
      ]
    },
    {
      "cell_type": "markdown",
      "source": [
        "Hope you all enjoyed it!\n",
        "\n",
        "In the upcoming session we will learn advanced usage and functions on String, List, Tuple and Dictionary.\n",
        "\n",
        "We will also explore If-else statements and Loops\n",
        "\n",
        "Thank you so much for reading!\n",
        "\n",
        "![](https://github.com/acmhitk/ACM-Python-Hobby-Class-2022/blob/main/assets/thanks.png?raw=true)"
      ],
      "metadata": {
        "id": "XrIq5ueI19iq"
      }
    },
    {
      "cell_type": "code",
      "source": [
        ""
      ],
      "metadata": {
        "id": "zCuh-EzZ1GE5"
      },
      "execution_count": null,
      "outputs": []
    }
  ]
}