{
  "nbformat": 4,
  "nbformat_minor": 0,
  "metadata": {
    "colab": {
      "name": "004.ipynb",
      "provenance": []
    },
    "kernelspec": {
      "name": "python3",
      "display_name": "Python 3"
    },
    "language_info": {
      "name": "python"
    }
  },
  "cells": [
    {
      "cell_type": "markdown",
      "source": [
        "# ACM Python Hobby - Introduction to Python 004"
      ],
      "metadata": {
        "id": "wojQsfNhQtaM"
      }
    },
    {
      "cell_type": "markdown",
      "source": [
        "## Writing Reusable Code using Functions in Python\n",
        "\n",
        "![](https://github.com/acmhitk/ACM-Python-Hobby-Class-2022/blob/main/assets/functions.png?raw=true)\n",
        "\n",
        "This tutorial covers the following topics:\n",
        "\n",
        "- Creating and using functions in Python\n",
        "- Local variables, return values, and optional arguments\n",
        "- Reusing functions and using Python library functions\n",
        "- Exception handling using `try`-`except` blocks\n",
        "- Documenting functions using docstrings"
      ],
      "metadata": {
        "id": "q5pvnbMsYR0X"
      }
    },
    {
      "cell_type": "markdown",
      "source": [
        "## Creating and using functions\n",
        "\n",
        "A function is a reusable set of instructions that takes one or more inputs, performs some operations, and often returns an output. Python contains many in-built functions like `print`, `len`, etc., and provides the ability to define new ones."
      ],
      "metadata": {
        "id": "3Qz70gJ3cSdE"
      }
    },
    {
      "cell_type": "code",
      "source": [
        "print(\"Anything\")"
      ],
      "metadata": {
        "colab": {
          "base_uri": "https://localhost:8080/"
        },
        "id": "Z8hRfl3xcRSS",
        "outputId": "ca10d6dc-3166-4887-f7d3-a06921d6a1e0"
      },
      "execution_count": null,
      "outputs": [
        {
          "output_type": "stream",
          "name": "stdout",
          "text": [
            "Anything\n"
          ]
        }
      ]
    },
    {
      "cell_type": "code",
      "source": [
        "print(print(\"WhaAAAAAt?............WHYYYYYYYY??\"))"
      ],
      "metadata": {
        "colab": {
          "base_uri": "https://localhost:8080/"
        },
        "id": "D9ex15vvczCo",
        "outputId": "8884b4db-8ddc-4b8f-f0b5-db8d071bf527"
      },
      "execution_count": null,
      "outputs": [
        {
          "output_type": "stream",
          "name": "stdout",
          "text": [
            "WhaAAAAAt?............WHYYYYYYYY??\n",
            "None\n"
          ]
        }
      ]
    },
    {
      "cell_type": "markdown",
      "source": [
        "Because there are two print statements. First is inside function and second is outside function. When a function doesn't return anything, it implicitly returns `None`.\n",
        "\n",
        "Lets dive deeper into this....\n",
        "\n",
        "Lets understand what exactly a function does!\n",
        "\n",
        "![](https://github.com/acmhitk/ACM-Python-Hobby-Class-2022/blob/main/assets/function_def.png?raw=true)"
      ],
      "metadata": {
        "id": "5M_Z99DLdddl"
      }
    },
    {
      "cell_type": "markdown",
      "source": [
        "Lets check parity of a number\n",
        "\n",
        "We will do this without the function first"
      ],
      "metadata": {
        "id": "qpDCfFs1lxrp"
      }
    },
    {
      "cell_type": "code",
      "source": [
        "number = 15\n",
        "\n",
        "parity = number % 2\n",
        "\n",
        "value = \"ODD\" if parity else \"EVEN\"\n",
        "\n",
        "print(value)\n",
        "\n",
        "# we could have also done it in 1 line\n",
        "# print(\"ODD\" if number%2 else \"EVEN\")"
      ],
      "metadata": {
        "colab": {
          "base_uri": "https://localhost:8080/"
        },
        "id": "1XvNLn6sdkY3",
        "outputId": "d84792c1-346c-456d-854e-8e88291415d1"
      },
      "execution_count": null,
      "outputs": [
        {
          "output_type": "stream",
          "name": "stdout",
          "text": [
            "ODD\n"
          ]
        }
      ]
    },
    {
      "cell_type": "markdown",
      "source": [
        "Now lets do the same using a function.\n",
        "\n",
        "You can define a new function using the `def` keyword."
      ],
      "metadata": {
        "id": "Hkez3JlUnscm"
      }
    },
    {
      "cell_type": "code",
      "source": [
        "# Define the function\n",
        "\n",
        "def check_parity(number = 0):\n",
        "    \"\"\"\n",
        "    \n",
        "    This function is responsible to check the PARITY of a number\n",
        "    \n",
        "    ARGUMENTS: An integer value\n",
        "    \n",
        "    RETURN:\n",
        "    \n",
        "    -> \"EVEN\" if even\n",
        "    -> \"ODD\" if odd\n",
        "    \n",
        "    EXAMPLE:\n",
        "    \n",
        "    Input: 5\n",
        "    Return value: 1\n",
        "    \"\"\"\n",
        "    # Function Body\n",
        "    \n",
        "    # Return value\n",
        "    return \"ODD\" if number%2 else \"EVEN\""
      ],
      "metadata": {
        "id": "kOFx_k0Anvm3"
      },
      "execution_count": null,
      "outputs": []
    },
    {
      "cell_type": "markdown",
      "source": [
        "Note the round brackets or parentheses `()` and colon `:` after the function's name. Both are essential parts of the syntax. The function's *body* contains an indented block of statements. The statements inside a function's body are not executed when the function is defined. To execute the statements, we need to *call* or *invoke* the function."
      ],
      "metadata": {
        "id": "FK58KadWppP6"
      }
    },
    {
      "cell_type": "markdown",
      "source": [
        "Lets test it out"
      ],
      "metadata": {
        "id": "JuEOLMb4of2a"
      }
    },
    {
      "cell_type": "code",
      "source": [
        "number = 8\n",
        "print(check_parity(number))"
      ],
      "metadata": {
        "colab": {
          "base_uri": "https://localhost:8080/"
        },
        "id": "FQfxjigRoh7Z",
        "outputId": "fe4fcf8f-0e14-4a86-f408-4fa5891091ff"
      },
      "execution_count": null,
      "outputs": [
        {
          "output_type": "stream",
          "name": "stdout",
          "text": [
            "EVEN\n"
          ]
        }
      ]
    },
    {
      "cell_type": "markdown",
      "source": [
        "We can use ```help()``` to know about the function.\n",
        "\n",
        "The **docstring** is displayed as a result"
      ],
      "metadata": {
        "id": "slvXqRbmn_Ep"
      }
    },
    {
      "cell_type": "code",
      "source": [
        "help(check_parity)"
      ],
      "metadata": {
        "colab": {
          "base_uri": "https://localhost:8080/"
        },
        "id": "VLNeTzBNn-cz",
        "outputId": "7f1efbb5-afee-4582-921a-c9ccf010c747"
      },
      "execution_count": null,
      "outputs": [
        {
          "output_type": "stream",
          "name": "stdout",
          "text": [
            "Help on function check_parity in module __main__:\n",
            "\n",
            "check_parity(number=0)\n",
            "    This function is responsible to check the PARITY of a number\n",
            "    \n",
            "    ARGUMENTS: An integer value\n",
            "    \n",
            "    RETURN:\n",
            "    \n",
            "    -> \"EVEN\" if even\n",
            "    -> \"ODD\" if odd\n",
            "    \n",
            "    EXAMPLE:\n",
            "    \n",
            "    Input: 5\n",
            "    Return value: 1\n",
            "\n"
          ]
        }
      ]
    },
    {
      "cell_type": "markdown",
      "source": [
        "Will a function always need to return something?"
      ],
      "metadata": {
        "id": "AaNtcZDwp3iX"
      }
    },
    {
      "cell_type": "code",
      "source": [
        "def say_hello():\n",
        "    print('Hello there!')\n",
        "    print('How are you?')"
      ],
      "metadata": {
        "id": "az3BWR1Fp6xp"
      },
      "execution_count": null,
      "outputs": []
    },
    {
      "cell_type": "code",
      "source": [
        "say_hello()"
      ],
      "metadata": {
        "colab": {
          "base_uri": "https://localhost:8080/"
        },
        "id": "9X3F88GXp9yT",
        "outputId": "70fd3b95-5a3b-40fb-b808-549b3bb6b333"
      },
      "execution_count": null,
      "outputs": [
        {
          "output_type": "stream",
          "name": "stdout",
          "text": [
            "Hello there!\n",
            "How are you?\n"
          ]
        }
      ]
    },
    {
      "cell_type": "markdown",
      "source": [
        "Nope, we do not need to return always!"
      ],
      "metadata": {
        "id": "qoND8oAXuR3n"
      }
    },
    {
      "cell_type": "markdown",
      "source": [
        "### Function arguments\n",
        "\n",
        "Functions can accept zero or more values as *inputs* (also knows as *arguments* or *parameters*). Arguments help us write flexible functions that can perform the same operations on different values. Further, functions can return a result that can be stored in a variable or used in other expressions.\n",
        "\n",
        "Here's a function that filters out the even numbers from a list and returns a new list using the `return` keyword."
      ],
      "metadata": {
        "id": "b8ASR9CAqOKZ"
      }
    },
    {
      "cell_type": "code",
      "source": [
        "def filter_even(number_list):\n",
        "    \"\"\"\n",
        "    This function is responsible to filter out the even numbers from a list \n",
        "    \n",
        "    ARGUMENTS: A list of numbers\n",
        "    \n",
        "    RETURN: A list which only contains even numbers\n",
        "    \n",
        "    EXAMPLE:\n",
        "    \n",
        "    Input: 5\n",
        "    Return value: 1\n",
        "    \"\"\"\n",
        "\n",
        "    # List comprehension\n",
        "    result_list = [number for number in number_list if number%2==0]\n",
        "\n",
        "    return result_list"
      ],
      "metadata": {
        "id": "RTpOFb2Gp_sW"
      },
      "execution_count": null,
      "outputs": []
    },
    {
      "cell_type": "markdown",
      "source": [
        "Read more about the format of List Comprehension: https://stackoverflow.com/a/4406400/10866028"
      ],
      "metadata": {
        "id": "whR_fxvctrgj"
      }
    },
    {
      "cell_type": "code",
      "source": [
        "even_list = filter_even([1, 2, 3, 4, 5, 6, 7])\n",
        "\n",
        "even_list"
      ],
      "metadata": {
        "colab": {
          "base_uri": "https://localhost:8080/"
        },
        "id": "Q9SaYUKfr1ZQ",
        "outputId": "b11ece61-4e86-4690-c1ee-44fcb6cf35b1"
      },
      "execution_count": null,
      "outputs": [
        {
          "output_type": "execute_result",
          "data": {
            "text/plain": [
              "[2, 4, 6]"
            ]
          },
          "metadata": {},
          "execution_count": 10
        }
      ]
    },
    {
      "cell_type": "markdown",
      "source": [
        "Note that the variable `number_list` defined inside the function is not accessible outside. These are all *local variables* that lie within the *scope* of the function.\n",
        "\n",
        "> **Scope**: Scope refers to the region within the code where a particular variable is visible. Every function (or class definition) defines a scope within Python. Variables defined in this scope are called *local variables*. Variables that are available everywhere are called *global variables*. Scope rules allow you to use the same variable names in different functions without sharing values from one to the other. "
      ],
      "metadata": {
        "id": "ZuS5jJRyxiEK"
      }
    },
    {
      "cell_type": "markdown",
      "source": [
        "Lets explore more about such functions that do not return anything"
      ],
      "metadata": {
        "id": "VXWt7spkuiub"
      }
    },
    {
      "cell_type": "code",
      "source": [
        "def i_do_not_return():\n",
        "  something = 5 + 8"
      ],
      "metadata": {
        "id": "p1jwpxSGtBuZ"
      },
      "execution_count": null,
      "outputs": []
    },
    {
      "cell_type": "markdown",
      "source": [
        "Lets see what happens, when you call the function with no arguments"
      ],
      "metadata": {
        "id": "rFH6clA3u4GE"
      }
    },
    {
      "cell_type": "code",
      "source": [
        "print(i_do_not_return())"
      ],
      "metadata": {
        "colab": {
          "base_uri": "https://localhost:8080/"
        },
        "id": "GDu3tONxu11c",
        "outputId": "630aa5a3-3a6b-4502-cb3c-3ccfca42d21f"
      },
      "execution_count": null,
      "outputs": [
        {
          "output_type": "stream",
          "name": "stdout",
          "text": [
            "None\n"
          ]
        }
      ]
    },
    {
      "cell_type": "markdown",
      "source": [
        "Thus we can understand that if a function returns nothing, it is returning Nothing, which is a keyword called `None` in python"
      ],
      "metadata": {
        "id": "H1IW5vBvvyCi"
      }
    },
    {
      "cell_type": "markdown",
      "source": [
        "Remember about this function?"
      ],
      "metadata": {
        "id": "JgDZGipMwEoN"
      }
    },
    {
      "cell_type": "code",
      "source": [
        "print(print(\"WhaAAAAAt?............WHYYYYYYYY??\"))"
      ],
      "metadata": {
        "colab": {
          "base_uri": "https://localhost:8080/"
        },
        "id": "RZVb30HowC5I",
        "outputId": "8e9cc003-1bac-4b87-e9a3-ce9369a2b2bf"
      },
      "execution_count": null,
      "outputs": [
        {
          "output_type": "stream",
          "name": "stdout",
          "text": [
            "WhaAAAAAt?............WHYYYYYYYY??\n",
            "None\n"
          ]
        }
      ]
    },
    {
      "cell_type": "markdown",
      "source": [
        "```\n",
        "print(\"WhaAAAAAt?............WHYYYYYYYY??\")\n",
        "```\n",
        "\n",
        "is actually prining a text, but `print` itself is a function whose job is to display the specified message to the screen, or other standard output device.\n",
        "\n",
        "But, it returns Nothing, in other words `None`\n",
        "\n",
        "thus \n",
        "```\n",
        "print(\"WhaAAAAAt?............WHYYYYYYYY??\")\n",
        "```\n",
        "returns **None**\n",
        "\n",
        "Thus, printing\n",
        "```\n",
        "print(print(\"WhaAAAAAt?............WHYYYYYYYY??\"))\n",
        "```\n",
        "\n",
        "is equivalent to printing\n",
        "\n",
        "```\n",
        "print(None)\n",
        "```\n"
      ],
      "metadata": {
        "id": "B4ifrLadwNX6"
      }
    },
    {
      "cell_type": "markdown",
      "source": [
        "### Optional arguments\n",
        "\n",
        "Next, let's add another argument to account for the immediate down payment. We'll make this an *optional argument* with a default value of 0."
      ],
      "metadata": {
        "id": "w0mn8DYtymd9"
      }
    },
    {
      "cell_type": "code",
      "source": [
        "def greet(person_1, person_2, person_3 = None):\n",
        "  \"\"\"\n",
        "  Greet Function\n",
        "\n",
        "  Arguments: Person 1, Person 2\n",
        "  Optional Arguments: Person 3\n",
        "\n",
        "  Return: None\n",
        "  \"\"\"\n",
        "  if person_3:\n",
        "    print(\"Hello!!\", person_1, person_2, person_3)\n",
        "  else:\n",
        "    print(\"Hello!!,\", person_1, person_2)"
      ],
      "metadata": {
        "id": "D4a1dIN0wMOh"
      },
      "execution_count": null,
      "outputs": []
    },
    {
      "cell_type": "code",
      "source": [
        "greet(\"Bob\", \"Alex\")"
      ],
      "metadata": {
        "colab": {
          "base_uri": "https://localhost:8080/"
        },
        "id": "yUL66BZJzW96",
        "outputId": "ab1350fa-f2e7-495f-c920-7546dc73f0c6"
      },
      "execution_count": null,
      "outputs": [
        {
          "output_type": "stream",
          "name": "stdout",
          "text": [
            "Hello!!, Bob Alex\n"
          ]
        }
      ]
    },
    {
      "cell_type": "code",
      "source": [
        "greet(\"Bob\", \"Alex\", \"Bean\")"
      ],
      "metadata": {
        "colab": {
          "base_uri": "https://localhost:8080/"
        },
        "id": "Fz8LaNj5zamZ",
        "outputId": "67c9beeb-a28d-4801-d4c9-b3f6c29c535c"
      },
      "execution_count": null,
      "outputs": [
        {
          "output_type": "stream",
          "name": "stdout",
          "text": [
            "Hello!! Bob Alex Bean\n"
          ]
        }
      ]
    },
    {
      "cell_type": "code",
      "source": [
        "greet(\"Bob\")"
      ],
      "metadata": {
        "colab": {
          "base_uri": "https://localhost:8080/",
          "height": 177
        },
        "id": "DCqHUlWZzlZF",
        "outputId": "2f6d1352-3e6e-4a85-900a-89d433cd54ad"
      },
      "execution_count": null,
      "outputs": [
        {
          "output_type": "error",
          "ename": "TypeError",
          "evalue": "ignored",
          "traceback": [
            "\u001b[0;31m---------------------------------------------------------------------------\u001b[0m",
            "\u001b[0;31mTypeError\u001b[0m                                 Traceback (most recent call last)",
            "\u001b[0;32m<ipython-input-17-1a1ebfc35c6c>\u001b[0m in \u001b[0;36m<module>\u001b[0;34m()\u001b[0m\n\u001b[0;32m----> 1\u001b[0;31m \u001b[0mgreet\u001b[0m\u001b[0;34m(\u001b[0m\u001b[0;34m\"Bob\"\u001b[0m\u001b[0;34m)\u001b[0m\u001b[0;34m\u001b[0m\u001b[0;34m\u001b[0m\u001b[0m\n\u001b[0m",
            "\u001b[0;31mTypeError\u001b[0m: greet() missing 1 required positional argument: 'person_2'"
          ]
        }
      ]
    },
    {
      "cell_type": "code",
      "source": [
        "greet(\"Bob\", \"Alex\", \"Mark\", \"Linda\")"
      ],
      "metadata": {
        "colab": {
          "base_uri": "https://localhost:8080/",
          "height": 177
        },
        "id": "pKX8X9x-8dq3",
        "outputId": "8c29810e-7646-4235-ff23-9ba7ffef6ddf"
      },
      "execution_count": null,
      "outputs": [
        {
          "output_type": "error",
          "ename": "TypeError",
          "evalue": "ignored",
          "traceback": [
            "\u001b[0;31m---------------------------------------------------------------------------\u001b[0m",
            "\u001b[0;31mTypeError\u001b[0m                                 Traceback (most recent call last)",
            "\u001b[0;32m<ipython-input-18-fbacabea1684>\u001b[0m in \u001b[0;36m<module>\u001b[0;34m()\u001b[0m\n\u001b[0;32m----> 1\u001b[0;31m \u001b[0mgreet\u001b[0m\u001b[0;34m(\u001b[0m\u001b[0;34m\"Bob\"\u001b[0m\u001b[0;34m,\u001b[0m \u001b[0;34m\"Alex\"\u001b[0m\u001b[0;34m,\u001b[0m \u001b[0;34m\"Mark\"\u001b[0m\u001b[0;34m,\u001b[0m \u001b[0;34m\"Linda\"\u001b[0m\u001b[0;34m)\u001b[0m\u001b[0;34m\u001b[0m\u001b[0;34m\u001b[0m\u001b[0m\n\u001b[0m",
            "\u001b[0;31mTypeError\u001b[0m: greet() takes from 2 to 3 positional arguments but 4 were given"
          ]
        }
      ]
    },
    {
      "cell_type": "markdown",
      "source": [
        "### Exceptions and `try`-`except`\n",
        "\n",
        "\n",
        "> **Exception**: Even if a statement or expression is syntactically correct, it may cause an error when the Python interpreter tries to execute it. Errors detected during execution are called exceptions. Exceptions typically stop further execution of the program unless handled within the program using `try`-`except` statements.\n",
        "\n",
        "You can use the `try` and `except` statements to *handle* an exception. Here's an example:"
      ],
      "metadata": {
        "id": "otE474qE8GO_"
      }
    },
    {
      "cell_type": "code",
      "source": [
        "def division(numerator, denominator):\n",
        "  \"\"\"\n",
        "  A simple function to Divide\n",
        "\n",
        "  Arguments: numerator, denominator\n",
        "\n",
        "  Return: numerator / denominator\n",
        "  \"\"\"\n",
        "  try:\n",
        "    return numerator / denominator\n",
        "  except:\n",
        "    print(\"Failed to compute result because you were trying to divide by zero\")"
      ],
      "metadata": {
        "id": "fbtOX_SSznw4"
      },
      "execution_count": null,
      "outputs": []
    },
    {
      "cell_type": "code",
      "source": [
        "division(15, 7)"
      ],
      "metadata": {
        "colab": {
          "base_uri": "https://localhost:8080/"
        },
        "id": "2o7GslNz8l_S",
        "outputId": "b6d316db-b2d8-4387-8ed2-a453d7b2c012"
      },
      "execution_count": null,
      "outputs": [
        {
          "output_type": "execute_result",
          "data": {
            "text/plain": [
              "2.142857142857143"
            ]
          },
          "metadata": {},
          "execution_count": 20
        }
      ]
    },
    {
      "cell_type": "code",
      "source": [
        "division(15, 0)"
      ],
      "metadata": {
        "colab": {
          "base_uri": "https://localhost:8080/"
        },
        "id": "rA_3qq0KA-SI",
        "outputId": "b5f85c8d-6aca-48ed-f40b-e9b4af8ad407"
      },
      "execution_count": null,
      "outputs": [
        {
          "output_type": "stream",
          "name": "stdout",
          "text": [
            "Failed to compute result because you were trying to divide by zero\n"
          ]
        }
      ]
    },
    {
      "cell_type": "markdown",
      "source": [
        "When an exception occurs inside a `try` block, the block's remaining statements are skipped. The `except` block is executed if the type of exception thrown matches that of the exception being handled. After executing the `except` block, the program execution returns to the normal flow.\n",
        "\n",
        "You can also handle more than one type of exception using multiple `except` statements. Learn more about exceptions here: https://www.w3schools.com/python/python_try_except.asp ."
      ],
      "metadata": {
        "id": "T7_rq63Hisqu"
      }
    },
    {
      "cell_type": "markdown",
      "source": [
        "### Use case of Functions\n",
        "\n",
        "Lets make a function that extracts important keywords from a few reviews.\n",
        "\n",
        "R1: I loved the new smartphone, cool features!\n",
        "\n",
        "R2: Worst smartphone ever.\n",
        "\n",
        "R3: Beast phone! Feature rich\n",
        "\n",
        "R4: Amazing display and cool specifications!"
      ],
      "metadata": {
        "id": "U1OpG4k5jGwF"
      }
    },
    {
      "cell_type": "code",
      "source": [
        "reviews = [\n",
        "            \"I loved the new phone, cool features!\",\n",
        "            \"Worst phone ever.\",\n",
        "            \"Beast phone! Feature rich\",\n",
        "            \"Amazing display and cool specifications!\"\n",
        "           ]"
      ],
      "metadata": {
        "id": "VxxnkwNjBB47"
      },
      "execution_count": 15,
      "outputs": []
    },
    {
      "cell_type": "markdown",
      "source": [
        "We will be defining various funtions to extract the important keywords.\n",
        "\n",
        "We will be defining the following functions:\n",
        "\n",
        "1. remove_punctuations() - To remove all puntuations\n",
        "2. remove_unwanted() - To remove stopwords/ useless words and return important words\n",
        "3. generate_dictionary() - To generate frequency dictionary"
      ],
      "metadata": {
        "id": "KXSlYLY_p_0z"
      }
    },
    {
      "cell_type": "code",
      "source": [
        "# Lets remove puncuations\n",
        "\n",
        "def remove_punctuations(reviews):\n",
        "  \"\"\"\n",
        "  Remove Punctuation Function\n",
        "\n",
        "  Argument: list of reviews\n",
        "\n",
        "  Return: list of reviews (punctuations removed)\n",
        "  \"\"\"\n",
        "\n",
        "  import string\n",
        "\n",
        "  # String of punctuations:\"!\"#$%&'()*+, -./:;<=>?@[\\]^_`{|}~\"\n",
        "  punctuation = string.punctuation\n",
        "\n",
        "  # Return a list\n",
        "  ans = []\n",
        "\n",
        "  for review in reviews:\n",
        "    ans.append(''.join(ch for ch in review if ch not in punctuation))\n",
        "\n",
        "  return ans\n",
        "\n",
        "remove_punctuations(reviews)"
      ],
      "metadata": {
        "colab": {
          "base_uri": "https://localhost:8080/"
        },
        "id": "N4-a7ONep6Dt",
        "outputId": "a00667be-d094-4e15-df1f-8abf63c6823f"
      },
      "execution_count": 16,
      "outputs": [
        {
          "output_type": "execute_result",
          "data": {
            "text/plain": [
              "['I loved the new phone cool features',\n",
              " 'Worst phone ever',\n",
              " 'Beast phone Feature rich',\n",
              " 'Amazing display and cool specifications']"
            ]
          },
          "metadata": {},
          "execution_count": 16
        }
      ]
    },
    {
      "cell_type": "markdown",
      "source": [
        "Now we can remove all the unwanted words\n",
        "\n",
        "Read more here (Stopwords): https://en.wikipedia.org/wiki/Stop_word"
      ],
      "metadata": {
        "id": "QEhhW4iKthvO"
      }
    },
    {
      "cell_type": "code",
      "source": [
        "# Lets remove unwanted words\n",
        "\n",
        "def remove_unwanted(reviews):\n",
        "  \"\"\"\n",
        "  Remove Unwanted Function\n",
        "\n",
        "  Argument: list of reviews (After removing punctuation)\n",
        "\n",
        "  Return: list of useful words\n",
        "  \"\"\"\n",
        "\n",
        "  unwanted_words = [\"i\", \"he\", \"she\", \"the\", \"for\", \"its\", \"and\", \"him\", \"them\", \"ever\"]\n",
        "\n",
        "  # Return a list of required keywords\n",
        "  ans = []\n",
        "\n",
        "  for review in reviews:\n",
        "    # Tokenize each of the word\n",
        "    words = review.split()\n",
        "    # Convert all to lowercase\n",
        "    words = [word.lower() for word in words]\n",
        "\n",
        "    # Append useful words\n",
        "    for word in words:\n",
        "      if word not in unwanted_words:\n",
        "        ans.append(word)\n",
        "\n",
        "    \n",
        "\n",
        "  return ans\n",
        "\n",
        "remove_unwanted(remove_punctuations(reviews))"
      ],
      "metadata": {
        "colab": {
          "base_uri": "https://localhost:8080/"
        },
        "id": "44GJrI59smdD",
        "outputId": "6d9aec76-adf0-489a-d7eb-c0f19bf7812a"
      },
      "execution_count": 17,
      "outputs": [
        {
          "output_type": "execute_result",
          "data": {
            "text/plain": [
              "['loved',\n",
              " 'new',\n",
              " 'phone',\n",
              " 'cool',\n",
              " 'features',\n",
              " 'worst',\n",
              " 'phone',\n",
              " 'beast',\n",
              " 'phone',\n",
              " 'feature',\n",
              " 'rich',\n",
              " 'amazing',\n",
              " 'display',\n",
              " 'cool',\n",
              " 'specifications']"
            ]
          },
          "metadata": {},
          "execution_count": 17
        }
      ]
    },
    {
      "cell_type": "markdown",
      "source": [
        "Lets generate the frequency dictionary"
      ],
      "metadata": {
        "id": "s402_DMK1tNc"
      }
    },
    {
      "cell_type": "code",
      "source": [
        "# Lets generate the freq dict\n",
        "\n",
        "def generate_freq(words):\n",
        "  \"\"\"\n",
        "  To generate a frequency dictionary\n",
        "\n",
        "  Argument: list of words\n",
        "\n",
        "  Return: frequency dictionary\n",
        "  \"\"\"\n",
        "\n",
        "  # Return a freq dictionary\n",
        "  ans = {}\n",
        "\n",
        "  for word in words:\n",
        "    if word not in ans:\n",
        "      ans[word] = 1\n",
        "    else:\n",
        "      ans[word] += 1\n",
        "\n",
        "  return ans\n",
        "\n",
        "generate_freq(remove_unwanted(remove_punctuations(reviews)))"
      ],
      "metadata": {
        "colab": {
          "base_uri": "https://localhost:8080/"
        },
        "id": "7ULNvoWG1euA",
        "outputId": "8421de97-601e-492a-bc82-3214380d4adc"
      },
      "execution_count": 18,
      "outputs": [
        {
          "output_type": "execute_result",
          "data": {
            "text/plain": [
              "{'amazing': 1,\n",
              " 'beast': 1,\n",
              " 'cool': 2,\n",
              " 'display': 1,\n",
              " 'feature': 1,\n",
              " 'features': 1,\n",
              " 'loved': 1,\n",
              " 'new': 1,\n",
              " 'phone': 3,\n",
              " 'rich': 1,\n",
              " 'specifications': 1,\n",
              " 'worst': 1}"
            ]
          },
          "metadata": {},
          "execution_count": 18
        }
      ]
    },
    {
      "cell_type": "code",
      "source": [
        "reviews = [\n",
        "            \"I loved the new phone, cool features!\",\n",
        "            \"Worst phone ever.\",\n",
        "            \"Beast phone! Feature rich\",\n",
        "            \"Amazing display and cool specifications!\"\n",
        "           ]\n",
        "\n",
        "\n",
        "# Remove punctuations\n",
        "remove_punc_list = remove_punctuations(reviews)\n",
        "\n",
        "# Fetch important words\n",
        "imp_words = remove_unwanted(remove_punc_list)\n",
        "\n",
        "# Generate freq dictionary\n",
        "required_dictionary = generate_freq(imp_words)\n",
        "\n",
        "required_dictionary\n"
      ],
      "metadata": {
        "colab": {
          "base_uri": "https://localhost:8080/"
        },
        "id": "2W1ufrlk34C-",
        "outputId": "c00d7c72-fa4a-4967-832b-c792f2c6848d"
      },
      "execution_count": 19,
      "outputs": [
        {
          "output_type": "execute_result",
          "data": {
            "text/plain": [
              "{'amazing': 1,\n",
              " 'beast': 1,\n",
              " 'cool': 2,\n",
              " 'display': 1,\n",
              " 'feature': 1,\n",
              " 'features': 1,\n",
              " 'loved': 1,\n",
              " 'new': 1,\n",
              " 'phone': 3,\n",
              " 'rich': 1,\n",
              " 'specifications': 1,\n",
              " 'worst': 1}"
            ]
          },
          "metadata": {},
          "execution_count": 19
        }
      ]
    },
    {
      "cell_type": "markdown",
      "source": [
        "Finally, we extracted and counted the important words!\n",
        "We could do much more very easily with functions"
      ],
      "metadata": {
        "id": "GVwx_zm43sQq"
      }
    },
    {
      "cell_type": "markdown",
      "source": [
        "Hope you all enjoyed it!\n",
        "\n",
        "In the upcoming session we will explore File handling and advanced concepts in python.\n",
        "\n",
        "Thank you so much for reading!\n",
        "\n",
        "Hope you all enjoyed it!\n",
        "\n",
        "![](https://github.com/acmhitk/ACM-Python-Hobby-Class-2022/blob/main/assets/thanks.png?raw=true)"
      ],
      "metadata": {
        "id": "_ouV3TTG3FQ_"
      }
    },
    {
      "cell_type": "code",
      "source": [
        ""
      ],
      "metadata": {
        "id": "gUQ2hgMF3nEd"
      },
      "execution_count": null,
      "outputs": []
    }
  ]
}