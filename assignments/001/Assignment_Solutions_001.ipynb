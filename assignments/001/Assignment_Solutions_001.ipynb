{
  "nbformat": 4,
  "nbformat_minor": 0,
  "metadata": {
    "colab": {
      "name": "Assignment_Solutions_001.ipynb",
      "provenance": []
    },
    "kernelspec": {
      "name": "python3",
      "display_name": "Python 3"
    },
    "language_info": {
      "name": "python"
    }
  },
  "cells": [
    {
      "cell_type": "markdown",
      "source": [
        "# ACM Python Hobby - Introduction to Python 001 Assignment Solutions"
      ],
      "metadata": {
        "id": "kZuHqlQ6d6xj"
      }
    },
    {
      "cell_type": "markdown",
      "source": [
        "### Solution 1\n",
        "\n",
        "Explanation: You need to minimize the steps, thus you need the maximum possible progress. It is given that the maximum progresss can be 5. You will need to divide the given value by 5 to obtain the minimum steps. After that,the remaining progress value should be less than 5 (0-4). If the progress value is not zero then you need to add 1 more step.\n",
        "\n",
        "**Example:**\n",
        "````\n",
        "n = 50\n",
        "Minimum steps: 50/5 = 10 (Progress value remaining is 0)\n",
        "\n",
        "n = 53\n",
        "Minimum steps: 53/5 = 10 (Progress value remaining is 3) so you need one more step to cover it.\n",
        "Thus answer is 10 + 1 = 11\n",
        "```` "
      ],
      "metadata": {
        "id": "0hTIY32dgnwa"
      }
    },
    {
      "cell_type": "code",
      "execution_count": 3,
      "metadata": {
        "colab": {
          "base_uri": "https://localhost:8080/"
        },
        "id": "mADMrIIPdzTq",
        "outputId": "2ce723df-8c6f-4c41-c45b-1544699ad139"
      },
      "outputs": [
        {
          "output_type": "stream",
          "name": "stdout",
          "text": [
            "14\n",
            "3\n"
          ]
        }
      ],
      "source": [
        "# Input\n",
        "n = int(input())\n",
        "\n",
        "# Output\n",
        "ans = n // 5 + ((n % 5) != 0)\n",
        "\n",
        "# Note: ((n % 5) != 0) evaluates to 1 if prgrees value remaining is not 0\n",
        "\n",
        "print(ans)"
      ]
    },
    {
      "cell_type": "markdown",
      "source": [
        "### Solution 2"
      ],
      "metadata": {
        "id": "Syi45XRLk3PC"
      }
    },
    {
      "cell_type": "code",
      "source": [
        "# Radian = Degree*(pi/180)\n",
        "pi = 22/7\n",
        "degree = float(input(\"Input degrees: \"))\n",
        "radian = degree*(pi/180)\n",
        "print(radian)"
      ],
      "metadata": {
        "colab": {
          "base_uri": "https://localhost:8080/"
        },
        "id": "mlP839dxhls1",
        "outputId": "52b12808-55b4-4370-dbcd-71987b1b3919"
      },
      "execution_count": 4,
      "outputs": [
        {
          "output_type": "stream",
          "name": "stdout",
          "text": [
            "Input degrees: 90\n",
            "1.5714285714285714\n"
          ]
        }
      ]
    },
    {
      "cell_type": "markdown",
      "source": [
        "### Solution 3"
      ],
      "metadata": {
        "id": "FvlZQ1TFlS4n"
      }
    },
    {
      "cell_type": "code",
      "source": [
        "my_list = [1, 2, 3, 4, 5]\n",
        "\n",
        "print(my_list[::-1])"
      ],
      "metadata": {
        "colab": {
          "base_uri": "https://localhost:8080/"
        },
        "id": "D2DTmlTXlJDF",
        "outputId": "2d952f2c-e30b-47d1-aa28-a87390042905"
      },
      "execution_count": 5,
      "outputs": [
        {
          "output_type": "stream",
          "name": "stdout",
          "text": [
            "[5, 4, 3, 2, 1]\n"
          ]
        }
      ]
    },
    {
      "cell_type": "markdown",
      "source": [
        "### Solution 4\n",
        "\n",
        "Note: Email IDs are of the form \n",
        "\n",
        "````\n",
        "[username] @ [domain]\n",
        "0th index     1st index\n",
        "````\n",
        "\n",
        "Thus we will be using split() and use [1] index to get the domain"
      ],
      "metadata": {
        "id": "STII5lxsl-4M"
      }
    },
    {
      "cell_type": "code",
      "source": [
        "email = input()\n",
        "print(email.split('@')[1])"
      ],
      "metadata": {
        "colab": {
          "base_uri": "https://localhost:8080/"
        },
        "id": "yDLMzhT_lbse",
        "outputId": "62fae4bc-9955-41d9-8180-74d5ce8ac3b3"
      },
      "execution_count": 8,
      "outputs": [
        {
          "output_type": "stream",
          "name": "stdout",
          "text": [
            "acmhitk.studentchapter@gmail.com\n",
            "gmail.com\n"
          ]
        }
      ]
    },
    {
      "cell_type": "markdown",
      "source": [
        "### Solution 5\n",
        "\n",
        "Split the sentence into word tokens. Grab the [0] th and the [-1] th index"
      ],
      "metadata": {
        "id": "iq207GHJoV5G"
      }
    },
    {
      "cell_type": "code",
      "source": [
        "sentence = input()\n",
        "tokens = sentence.split()\n",
        "print(tokens[0], tokens[-1])"
      ],
      "metadata": {
        "colab": {
          "base_uri": "https://localhost:8080/"
        },
        "id": "QHMbkM9amW2y",
        "outputId": "1b8ffb03-0e44-4a1d-f69f-b68030187a62"
      },
      "execution_count": 9,
      "outputs": [
        {
          "output_type": "stream",
          "name": "stdout",
          "text": [
            "I love to go to the park\n",
            "I park\n"
          ]
        }
      ]
    },
    {
      "cell_type": "code",
      "source": [
        ""
      ],
      "metadata": {
        "id": "iK-fkmdUoxKL"
      },
      "execution_count": null,
      "outputs": []
    }
  ]
}