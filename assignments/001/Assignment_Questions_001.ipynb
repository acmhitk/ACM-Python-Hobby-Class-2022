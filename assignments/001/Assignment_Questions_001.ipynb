{
  "nbformat": 4,
  "nbformat_minor": 0,
  "metadata": {
    "colab": {
      "name": "Assignment_Questions_001.ipynb",
      "provenance": [],
      "collapsed_sections": []
    },
    "kernelspec": {
      "name": "python3",
      "display_name": "Python 3"
    },
    "language_info": {
      "name": "python"
    }
  },
  "cells": [
    {
      "cell_type": "markdown",
      "source": [
        "# ACM Python Hobby - Introduction to Python 001 Assignment Questions\n",
        "\n",
        "\n",
        "\n"
      ],
      "metadata": {
        "id": "td_r1weFTWs0"
      }
    },
    {
      "cell_type": "markdown",
      "source": [
        "### Question 1\n",
        "\n",
        "An ant decided to find its food. It turned out that the ant's starting location is at point 0, and its food is at point x(x > 0) of the coordinate line. In **one step**, the ant can move 1, 2, 3, 4, or 5 positions forward. Determine, what is the **minimum** number of steps it needs to get to his friend's house.\n",
        "\n",
        "**SAMPLE TEST CASE 1:**\n",
        "\n",
        "````\n",
        "INPUT: 5\n",
        "OUTPUT: 1\n",
        "````\n",
        "\n",
        "**SAMPLE TEST CASE 2:**\n",
        "\n",
        "````\n",
        "INPUT: 12\n",
        "OUTPUT: 3\n",
        "````"
      ],
      "metadata": {
        "id": "NvHNxqz1Tg-_"
      }
    },
    {
      "cell_type": "markdown",
      "source": [
        "### Question 2\n",
        "\n",
        "Write a Python program to convert degree to radian.\n",
        "\n",
        "Note : The radian is the standard unit of angular measure, used in many areas of mathematics. An angle's measurement in radians is numerically equal to the length of a corresponding arc of a unit circle; one radian is just under 57.3 degrees (when the arc length is equal to the radius).\n",
        "\n",
        "\n",
        "\n",
        "**SAMPLE TEST CASE 1:**\n",
        "\n",
        "````\n",
        "INPUT: 15\n",
        "OUTPUT: 0.2619047619047619\n",
        "\n",
        "\n",
        "````"
      ],
      "metadata": {
        "id": "adZ4tIkLXAhE"
      }
    },
    {
      "cell_type": "markdown",
      "source": [
        "### Question 3\n",
        "\n",
        "Write a Python program to reverse a list\n",
        "\n",
        "\n",
        "**SAMPLE TEST CASE 1:**\n",
        "\n",
        "````\n",
        "INPUT: [1, 2, 3, 4, 5]\n",
        "OUTPUT: [5, 4, 3, 2, 1]\n",
        "\n",
        "\n",
        "````"
      ],
      "metadata": {
        "id": "c_GTtX91b3zW"
      }
    },
    {
      "cell_type": "markdown",
      "source": [
        "### Question 4\n",
        "\n",
        "Write a Python program to get the domain of the email.\n",
        "\n",
        "Note: an email domain is the part of the address that comes after the @ symbol\n",
        "\n",
        "\n",
        "**SAMPLE TEST CASE 1:**\n",
        "\n",
        "````\n",
        "INPUT: \"acmhitk.studentchapter@gmail.com\"\n",
        "OUTPUT: gmail.com\n",
        "\n",
        "````"
      ],
      "metadata": {
        "id": "Y3ZcCDJRcZWB"
      }
    },
    {
      "cell_type": "markdown",
      "source": [
        "### Question 5\n",
        "\n",
        "Write a Python program to display the first and last word of the sentence. (Given: Length of sentence >= 2)\n",
        "\n",
        "\n",
        "**SAMPLE TEST CASE 1:**\n",
        "\n",
        "````\n",
        "INPUT: \"I love to go to the park\"\n",
        "OUTPUT: I park\n",
        "\n",
        "````"
      ],
      "metadata": {
        "id": "31mQ0zUCnQWS"
      }
    }
  ]
}