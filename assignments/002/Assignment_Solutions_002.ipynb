{
  "nbformat": 4,
  "nbformat_minor": 0,
  "metadata": {
    "colab": {
      "name": "Assignment_Solutions_002.ipynb",
      "provenance": []
    },
    "kernelspec": {
      "name": "python3",
      "display_name": "Python 3"
    },
    "language_info": {
      "name": "python"
    }
  },
  "cells": [
    {
      "cell_type": "markdown",
      "source": [
        "# ACM Python Hobby - Introduction to Python 002 Assignment Solutions"
      ],
      "metadata": {
        "id": "GZvMowQCu_bm"
      }
    },
    {
      "cell_type": "markdown",
      "source": [
        "### Solution 1\n",
        "\n",
        "Approach 1: Using if else logic\n",
        "\n",
        "Approcah 2: Sort the list and print the [-2]nd element"
      ],
      "metadata": {
        "id": "4a43QZYh2Nse"
      }
    },
    {
      "cell_type": "code",
      "execution_count": 3,
      "metadata": {
        "colab": {
          "base_uri": "https://localhost:8080/"
        },
        "id": "UCbdVB0Ru1B1",
        "outputId": "9923cbab-2a93-44e7-98d9-e96b5f19e17f"
      },
      "outputs": [
        {
          "output_type": "stream",
          "name": "stdout",
          "text": [
            "1 2 5 4 3\n",
            "4\n"
          ]
        }
      ],
      "source": [
        "# Initialize list or take the list as input\n",
        "# my_list = [1, 2, 5, 4, 3]\n",
        "\n",
        "# To take a list as input: list(map(int input.split()))\n",
        "# This kind of format is used to take input in Competitive programming\n",
        "\n",
        "my_list = list(map(int, input().split()))\n",
        "\n",
        "# Sort\n",
        "my_list.sort()\n",
        "\n",
        "print(my_list[-2])"
      ]
    },
    {
      "cell_type": "markdown",
      "source": [
        "### Solution 2\n",
        "\n",
        "Convert the list to Set. Then use Set intersection() Method."
      ],
      "metadata": {
        "id": "OSdp5Qa230Ie"
      }
    },
    {
      "cell_type": "code",
      "source": [
        "list_1 = [1, 2, 5, 4, 3]\n",
        "list_2 = [7, 6, 5, 4, 8]\n",
        "\n",
        "set_1 = set(list_1)\n",
        "set_2 = set(list_2)\n",
        "\n",
        "print(list(set_1.intersection(set_2)))"
      ],
      "metadata": {
        "colab": {
          "base_uri": "https://localhost:8080/"
        },
        "id": "6-zTcCqb23_U",
        "outputId": "b8804211-63d9-45d7-e887-f228acd07875"
      },
      "execution_count": 5,
      "outputs": [
        {
          "output_type": "stream",
          "name": "stdout",
          "text": [
            "[4, 5]\n"
          ]
        }
      ]
    },
    {
      "cell_type": "markdown",
      "source": [
        "### Solution 3\n",
        "\n",
        "Fetch all the values first, then apply capitalize()"
      ],
      "metadata": {
        "id": "B3CpAEpq4oFd"
      }
    },
    {
      "cell_type": "code",
      "source": [
        "mydict = {\n",
        "  \"a\": \"apple\",\n",
        "  \"b\": \"banana\",\n",
        "  \"d\": \"dog\",\n",
        "  \"e\": \"egg\",\n",
        "  \"c\": \"cat\"\n",
        "}\n",
        "\n",
        "dict_values = mydict.values()\n",
        "tokens = list(dict_values)\n",
        "\n",
        "# Once you get the tokens use loops / list comprehension / lambda function to capitalize it\n",
        "\n",
        "for token in tokens:\n",
        "  print(token.capitalize(), end=\" \")"
      ],
      "metadata": {
        "colab": {
          "base_uri": "https://localhost:8080/"
        },
        "id": "VkvAiavD4ZWi",
        "outputId": "afd3b105-ed8a-49a0-9508-47500383a797"
      },
      "execution_count": 14,
      "outputs": [
        {
          "output_type": "stream",
          "name": "stdout",
          "text": [
            "Apple Banana Dog Egg Cat "
          ]
        }
      ]
    }
  ]
}