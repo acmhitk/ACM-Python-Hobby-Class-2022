{
  "nbformat": 4,
  "nbformat_minor": 0,
  "metadata": {
    "colab": {
      "name": "Assignment_Questions_002.ipynb",
      "provenance": [],
      "collapsed_sections": []
    },
    "kernelspec": {
      "name": "python3",
      "display_name": "Python 3"
    },
    "language_info": {
      "name": "python"
    }
  },
  "cells": [
    {
      "cell_type": "markdown",
      "source": [
        "# ACM Python Hobby - Introduction to Python 002 Assignment Questions"
      ],
      "metadata": {
        "id": "0WYzmAa2upcW"
      }
    },
    {
      "cell_type": "markdown",
      "source": [
        "### Question 1\n",
        "\n",
        "Find the second largest in the list\n",
        "\n",
        "**SAMPLE TEST CASE 1:**\n",
        "\n",
        "````\n",
        "INPUT: [1, 2, 5, 4, 3]\n",
        "OUTPUT: 4\n",
        "\n",
        "````"
      ],
      "metadata": {
        "id": "OxJWwxP6vHXT"
      }
    },
    {
      "cell_type": "markdown",
      "source": [
        "### Question 2\n",
        "\n",
        "Given 2 list of unique elements, find the common elements in both the list.\n",
        "\n",
        "**SAMPLE TEST CASE 1:**\n",
        "\n",
        "````\n",
        "List 1: [1, 2, 5, 4, 3]\n",
        "List 2: [7, 6, 5, 4, 8]\n",
        "OUTPUT: 4 5\n",
        "\n",
        "````"
      ],
      "metadata": {
        "id": "SHRdggtwwves"
      }
    },
    {
      "cell_type": "markdown",
      "source": [
        "### Question 3\n",
        "\n",
        "Print all the values(order does not matter) in the dictionary. (All the values should be in Title case)\n",
        "\n",
        "Note: Title case means first charcater will be in Upper case, rest lower case (Ex: Apple, Banana)\n",
        "\n",
        "**SAMPLE TEST CASE 1:**\n",
        "\n",
        "````\n",
        "Dictionary: \n",
        "mydict = {\n",
        "  \"a\": \"apple\",\n",
        "  \"b\": \"banana\",\n",
        "  \"d\": \"dog\",\n",
        "  \"e\": \"egg\",\n",
        "  \"c\": \"cat\"\n",
        "}\n",
        "OUTPUT: Apple Banana Dog Egg Cat\n",
        "\n",
        "````"
      ],
      "metadata": {
        "id": "p6nhkvmgyHgN"
      }
    },
    {
      "cell_type": "code",
      "source": [
        ""
      ],
      "metadata": {
        "id": "hotpJSv_6VV_"
      },
      "execution_count": null,
      "outputs": []
    }
  ]
}