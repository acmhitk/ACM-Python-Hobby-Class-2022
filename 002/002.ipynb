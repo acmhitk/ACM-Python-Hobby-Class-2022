{
  "cells": [
    {
      "cell_type": "markdown",
      "source": [
        "# ACM Python Hobby - Introduction to Python 002"
      ],
      "metadata": {
        "id": "tAONqpevqj_S"
      }
    },
    {
      "cell_type": "markdown",
      "source": [
        "## Advanced usage and functions on String, List, Tuple and Dictionary\n",
        "\n",
        "- Strings `\"Hello\"` `'Hi'`\n",
        "- List `[a, b, c, d, e, a]`\n",
        "- Set & Tuple `[a, b, c, d, e]` `(1, 2)`\n",
        "- Dictionary `{\n",
        "  \"brand\": \"Ford\",\n",
        "  \"model\": \"Mustang\",\n",
        "  \"year\": 1964\n",
        "}`"
      ],
      "metadata": {
        "id": "2aGvSCTkxKkf"
      }
    },
    {
      "cell_type": "markdown",
      "source": [
        "This tutorial covers the following topics:\n",
        "\n",
        "- Commonly used Python String Methods\n",
        "- Commonly used Python List Methods\n",
        "- Commonly used Python Set Methods\n",
        "- Commonly used Python Dictionary Methods"
      ],
      "metadata": {
        "id": "raBgkCSeyy6R"
      }
    },
    {
      "cell_type": "markdown",
      "source": [
        "### Commonly used Python String Methods\n",
        "\n",
        "![](https://github.com/acmhitk/ACM-Python-Hobby-Class-2022/blob/main/assets/string_func.png?raw=true)\n",
        "\n",
        "**Note: All string methods returns new values. They do not change the original string.**\n",
        "\n",
        "Learn more here: https://www.w3schools.com/python/python_strings_methods.asp"
      ],
      "metadata": {
        "id": "ZgJC2Uyw2nRX"
      }
    },
    {
      "cell_type": "code",
      "source": [
        "s = \"apple\""
      ],
      "metadata": {
        "id": "ctx4vNNyT7D7"
      },
      "execution_count": 1,
      "outputs": []
    },
    {
      "cell_type": "markdown",
      "source": [
        "#### 1. len()\n",
        "\n",
        "Returns the length of the string"
      ],
      "metadata": {
        "id": "YWSPdBEM48kF"
      }
    },
    {
      "cell_type": "code",
      "source": [
        "len(s)"
      ],
      "metadata": {
        "colab": {
          "base_uri": "https://localhost:8080/"
        },
        "id": "30TXPF9CUESE",
        "outputId": "0b8225e9-05de-420f-b95f-635cef20c808"
      },
      "execution_count": 2,
      "outputs": [
        {
          "output_type": "execute_result",
          "data": {
            "text/plain": [
              "5"
            ]
          },
          "metadata": {},
          "execution_count": 2
        }
      ]
    },
    {
      "cell_type": "markdown",
      "source": [
        "#### 2. capitalize()\n",
        "\n",
        "Converts the first letter to Upper Case"
      ],
      "metadata": {
        "id": "Ib8pQp0RUJjj"
      }
    },
    {
      "cell_type": "code",
      "source": [
        "s.capitalize()"
      ],
      "metadata": {
        "colab": {
          "base_uri": "https://localhost:8080/",
          "height": 36
        },
        "id": "Pm49KV3aUF9l",
        "outputId": "be2e6248-7349-462a-c5a3-f43719ed2a5c"
      },
      "execution_count": 7,
      "outputs": [
        {
          "output_type": "execute_result",
          "data": {
            "text/plain": [
              "'Apple'"
            ],
            "application/vnd.google.colaboratory.intrinsic+json": {
              "type": "string"
            }
          },
          "metadata": {},
          "execution_count": 7
        }
      ]
    },
    {
      "cell_type": "markdown",
      "source": [
        "#### 3. count()\n",
        "\n",
        "Returns the count of the specific value in the string"
      ],
      "metadata": {
        "id": "FoCqmnPNU2Gy"
      }
    },
    {
      "cell_type": "code",
      "source": [
        "s.count('p')"
      ],
      "metadata": {
        "colab": {
          "base_uri": "https://localhost:8080/"
        },
        "id": "i_V9sIv-UGFS",
        "outputId": "e9a44953-99d2-4a36-94a7-dfe98879161a"
      },
      "execution_count": 11,
      "outputs": [
        {
          "output_type": "execute_result",
          "data": {
            "text/plain": [
              "2"
            ]
          },
          "metadata": {},
          "execution_count": 11
        }
      ]
    },
    {
      "cell_type": "markdown",
      "source": [
        "#### 4. index()\n",
        "\n",
        "Searches the string for a specified value and returns the first position of where it was found"
      ],
      "metadata": {
        "id": "T5MaG9Q9VrfK"
      }
    },
    {
      "cell_type": "code",
      "source": [
        "s.index('p')"
      ],
      "metadata": {
        "colab": {
          "base_uri": "https://localhost:8080/"
        },
        "id": "eM9FyZD6UGK8",
        "outputId": "0cd88cc1-0afb-474e-c5e6-e983c75c2f65"
      },
      "execution_count": 12,
      "outputs": [
        {
          "output_type": "execute_result",
          "data": {
            "text/plain": [
              "1"
            ]
          },
          "metadata": {},
          "execution_count": 12
        }
      ]
    },
    {
      "cell_type": "markdown",
      "source": [
        "#### 5. isalpha()\n",
        "\n",
        "Returns True if all characters in the string are in the alphabet"
      ],
      "metadata": {
        "id": "1-Rax6rVWMun"
      }
    },
    {
      "cell_type": "code",
      "source": [
        "s.isalpha()"
      ],
      "metadata": {
        "colab": {
          "base_uri": "https://localhost:8080/"
        },
        "id": "DZrJ7HzlUGPD",
        "outputId": "130e1874-9d0e-41d1-f444-13bdc0f34ca9"
      },
      "execution_count": 13,
      "outputs": [
        {
          "output_type": "execute_result",
          "data": {
            "text/plain": [
              "True"
            ]
          },
          "metadata": {},
          "execution_count": 13
        }
      ]
    },
    {
      "cell_type": "markdown",
      "source": [
        "#### Using various combination of functions to clean text\n",
        "\n",
        "Functions used:\n",
        "- lower() - Makes the string lowercase\n",
        "- join() - Converts the elements of an iterable into a string\n",
        "- capitalize() - Converts the first character to upper case\n",
        "- split()\t- Splits the string at the specified separator, and returns a list\n",
        "- strip()\t- Returns a trimmed version of the string"
      ],
      "metadata": {
        "id": "i32gxJ-dWOex"
      }
    },
    {
      "cell_type": "code",
      "source": [
        "text = \"          Hey I need yOu TO FIx this sTRINg        \""
      ],
      "metadata": {
        "id": "4zmQh8jQUGSZ"
      },
      "execution_count": 22,
      "outputs": []
    },
    {
      "cell_type": "code",
      "source": [
        "text = text.lower()\n",
        "text"
      ],
      "metadata": {
        "colab": {
          "base_uri": "https://localhost:8080/",
          "height": 36
        },
        "id": "pwgOqjzmUGVQ",
        "outputId": "c02668c9-e670-4d72-b78f-aed4f02a77c5"
      },
      "execution_count": 23,
      "outputs": [
        {
          "output_type": "execute_result",
          "data": {
            "text/plain": [
              "'          hey i need you to fix this string        '"
            ],
            "application/vnd.google.colaboratory.intrinsic+json": {
              "type": "string"
            }
          },
          "metadata": {},
          "execution_count": 23
        }
      ]
    },
    {
      "cell_type": "code",
      "source": [
        "text = text.strip()\n",
        "text"
      ],
      "metadata": {
        "colab": {
          "base_uri": "https://localhost:8080/",
          "height": 36
        },
        "id": "8eSKjY0fYuDB",
        "outputId": "bc4ab9df-e3bc-44f5-a306-57b28d548087"
      },
      "execution_count": 24,
      "outputs": [
        {
          "output_type": "execute_result",
          "data": {
            "text/plain": [
              "'hey i need you to fix this string'"
            ],
            "application/vnd.google.colaboratory.intrinsic+json": {
              "type": "string"
            }
          },
          "metadata": {},
          "execution_count": 24
        }
      ]
    },
    {
      "cell_type": "code",
      "source": [
        "text = text.split()\n",
        "text"
      ],
      "metadata": {
        "colab": {
          "base_uri": "https://localhost:8080/"
        },
        "id": "PbJCyx8AY9mN",
        "outputId": "2cb50de8-8a92-46a0-b895-bad70299cd7d"
      },
      "execution_count": 25,
      "outputs": [
        {
          "output_type": "execute_result",
          "data": {
            "text/plain": [
              "['hey', 'i', 'need', 'you', 'to', 'fix', 'this', 'string']"
            ]
          },
          "metadata": {},
          "execution_count": 25
        }
      ]
    },
    {
      "cell_type": "code",
      "source": [
        "text[0] = text[0].capitalize()\n",
        "text"
      ],
      "metadata": {
        "colab": {
          "base_uri": "https://localhost:8080/"
        },
        "id": "h7FcKls7ZMTp",
        "outputId": "f67d306d-c05f-40fa-9371-39601c2a1215"
      },
      "execution_count": 26,
      "outputs": [
        {
          "output_type": "execute_result",
          "data": {
            "text/plain": [
              "['Hey', 'i', 'need', 'you', 'to', 'fix', 'this', 'string']"
            ]
          },
          "metadata": {},
          "execution_count": 26
        }
      ]
    },
    {
      "cell_type": "code",
      "source": [
        "text = ' '.join(text)\n",
        "text"
      ],
      "metadata": {
        "colab": {
          "base_uri": "https://localhost:8080/",
          "height": 36
        },
        "id": "SrAAJi7RZaBc",
        "outputId": "af8900bd-0bf7-46ae-940d-58739c4e3337"
      },
      "execution_count": 28,
      "outputs": [
        {
          "output_type": "execute_result",
          "data": {
            "text/plain": [
              "'Hey i need you to fix this string'"
            ],
            "application/vnd.google.colaboratory.intrinsic+json": {
              "type": "string"
            }
          },
          "metadata": {},
          "execution_count": 28
        }
      ]
    },
    {
      "cell_type": "markdown",
      "source": [
        "### Commonly used Python List Methods\n",
        "\n",
        "![](https://github.com/acmhitk/ACM-Python-Hobby-Class-2022/blob/main/assets/train_list.png?raw=true)\n",
        "\n",
        "Read more here: https://www.w3schools.com/python/python_lists_methods.asp"
      ],
      "metadata": {
        "id": "UMvsDH9xaWap"
      }
    },
    {
      "cell_type": "code",
      "source": [
        "train = ['orange', 'teal', 'red', 'blue', 'green', 'violet']"
      ],
      "metadata": {
        "id": "2TZXOtXhxtU4"
      },
      "execution_count": 29,
      "outputs": []
    },
    {
      "cell_type": "markdown",
      "source": [
        "#### 1. len()\n",
        "\n",
        "Returns the length of the list"
      ],
      "metadata": {
        "id": "VrZjtDJxyEFJ"
      }
    },
    {
      "cell_type": "code",
      "source": [
        "len(train)"
      ],
      "metadata": {
        "colab": {
          "base_uri": "https://localhost:8080/"
        },
        "id": "X-ykObUsyGKh",
        "outputId": "23f6a68c-b667-45f0-9a28-9833be5e8f1e"
      },
      "execution_count": 30,
      "outputs": [
        {
          "output_type": "execute_result",
          "data": {
            "text/plain": [
              "6"
            ]
          },
          "metadata": {},
          "execution_count": 30
        }
      ]
    },
    {
      "cell_type": "markdown",
      "source": [
        "#### 2. append()\n",
        "\n",
        "Add an element at the end of the list"
      ],
      "metadata": {
        "id": "vl6JBTqXygUc"
      }
    },
    {
      "cell_type": "code",
      "source": [
        "train.append('yellow')\n",
        "train"
      ],
      "metadata": {
        "colab": {
          "base_uri": "https://localhost:8080/"
        },
        "id": "idgwNTYiyobT",
        "outputId": "1cc8eea8-5310-49e3-9c78-2db0c02f706a"
      },
      "execution_count": 31,
      "outputs": [
        {
          "output_type": "execute_result",
          "data": {
            "text/plain": [
              "['orange', 'teal', 'red', 'blue', 'green', 'violet', 'yellow']"
            ]
          },
          "metadata": {},
          "execution_count": 31
        }
      ]
    },
    {
      "cell_type": "markdown",
      "source": [
        "#### 3. pop()\n",
        "\n",
        "Removes an element from the specified position"
      ],
      "metadata": {
        "id": "9z_VJH6C0jDi"
      }
    },
    {
      "cell_type": "code",
      "source": [
        "train.pop(1)\n",
        "train"
      ],
      "metadata": {
        "colab": {
          "base_uri": "https://localhost:8080/"
        },
        "id": "3Cexmw4R0wR_",
        "outputId": "9a2b7a1f-ad28-4d65-c79a-4b935dba57a3"
      },
      "execution_count": 32,
      "outputs": [
        {
          "output_type": "execute_result",
          "data": {
            "text/plain": [
              "['orange', 'red', 'blue', 'green', 'violet', 'yellow']"
            ]
          },
          "metadata": {},
          "execution_count": 32
        }
      ]
    },
    {
      "cell_type": "markdown",
      "source": [
        "#### 4. insert(pos, value)\n",
        "\n",
        "Adds an element at the specified position"
      ],
      "metadata": {
        "id": "S5uI81Qb03LP"
      }
    },
    {
      "cell_type": "code",
      "source": [
        "train.insert(2, 'brown')\n",
        "train"
      ],
      "metadata": {
        "colab": {
          "base_uri": "https://localhost:8080/"
        },
        "id": "nkdZ3Inj1GGM",
        "outputId": "a5a48abe-8695-42ec-d4dd-68d37b635fc7"
      },
      "execution_count": 34,
      "outputs": [
        {
          "output_type": "execute_result",
          "data": {
            "text/plain": [
              "['orange', 'red', 'brown', 'blue', 'green', 'violet', 'yellow']"
            ]
          },
          "metadata": {},
          "execution_count": 34
        }
      ]
    },
    {
      "cell_type": "markdown",
      "source": [
        "#### 5. sort()\n",
        "\n",
        "Sorts the list"
      ],
      "metadata": {
        "id": "wDcgvPsr1oZB"
      }
    },
    {
      "cell_type": "code",
      "source": [
        "train.sort()\n",
        "train"
      ],
      "metadata": {
        "colab": {
          "base_uri": "https://localhost:8080/"
        },
        "id": "BzbmNtrZ12_b",
        "outputId": "6359f06a-8cfb-4bb9-d03d-bcfe8cec5485"
      },
      "execution_count": 35,
      "outputs": [
        {
          "output_type": "execute_result",
          "data": {
            "text/plain": [
              "['blue', 'brown', 'green', 'orange', 'red', 'violet', 'yellow']"
            ]
          },
          "metadata": {},
          "execution_count": 35
        }
      ]
    },
    {
      "cell_type": "markdown",
      "source": [
        "### Commonly used Python set Methods\n",
        "\n",
        "A set is a collection which is unordered(from python 3.7+ its ordered), unchangeable*, and unindexed.\n",
        "Sets are written with curly brackets.\n",
        "\n",
        "Note: Set items are unchangeable, but you can remove items and add new items.\n",
        "\n",
        "![](https://github.com/acmhitk/ACM-Python-Hobby-Class-2022/blob/main/assets/set.png?raw=true)\n",
        "\n",
        "Read more here: https://www.w3schools.com/python/python_sets_methods.asp"
      ],
      "metadata": {
        "id": "NeqNcEgU4PZi"
      }
    },
    {
      "cell_type": "code",
      "source": [
        "bag1 = {'pen', 'book', 'bottle'}\n",
        "bag2 = {'pen', 'pencil', 'laptop'}"
      ],
      "metadata": {
        "id": "Hh3hIgbx5-F1"
      },
      "execution_count": 42,
      "outputs": []
    },
    {
      "cell_type": "markdown",
      "source": [
        "#### 1. len()\n",
        "\n",
        "Returns the length of the set"
      ],
      "metadata": {
        "id": "X5h0hqXe_Wrl"
      }
    },
    {
      "cell_type": "code",
      "source": [
        "len(bag1)"
      ],
      "metadata": {
        "colab": {
          "base_uri": "https://localhost:8080/"
        },
        "id": "6-hup_T0_bol",
        "outputId": "21984e08-159a-43cd-9335-d75aa56193d4"
      },
      "execution_count": 43,
      "outputs": [
        {
          "output_type": "execute_result",
          "data": {
            "text/plain": [
              "3"
            ]
          },
          "metadata": {},
          "execution_count": 43
        }
      ]
    },
    {
      "cell_type": "markdown",
      "source": [
        "#### 2. add()\n",
        "\n",
        "Adds an element to the set"
      ],
      "metadata": {
        "id": "v299YYuq-RdR"
      }
    },
    {
      "cell_type": "code",
      "source": [
        "bag1.add('wallet')\n",
        "bag1"
      ],
      "metadata": {
        "colab": {
          "base_uri": "https://localhost:8080/"
        },
        "id": "2uFvtJdL916R",
        "outputId": "46a5fcac-f0b8-41b7-9238-3f2ee8dfa2ff"
      },
      "execution_count": 44,
      "outputs": [
        {
          "output_type": "execute_result",
          "data": {
            "text/plain": [
              "{'book', 'bottle', 'pen', 'wallet'}"
            ]
          },
          "metadata": {},
          "execution_count": 44
        }
      ]
    },
    {
      "cell_type": "markdown",
      "source": [
        "#### 3. difference()\n",
        "\n",
        "Returns a set containing the difference between two or more sets"
      ],
      "metadata": {
        "id": "kdKT6YC2_8SP"
      }
    },
    {
      "cell_type": "code",
      "source": [
        "bag1.difference(bag2)"
      ],
      "metadata": {
        "colab": {
          "base_uri": "https://localhost:8080/"
        },
        "id": "CePvtki3AH4X",
        "outputId": "e4791217-a29f-4465-fa6d-61f8bad1ab55"
      },
      "execution_count": 45,
      "outputs": [
        {
          "output_type": "execute_result",
          "data": {
            "text/plain": [
              "{'book', 'bottle', 'wallet'}"
            ]
          },
          "metadata": {},
          "execution_count": 45
        }
      ]
    },
    {
      "cell_type": "markdown",
      "source": [
        "#### 4. union()\t\n",
        "\n",
        "Return a set containing the union of sets"
      ],
      "metadata": {
        "id": "Fg7aMu7UBNhk"
      }
    },
    {
      "cell_type": "code",
      "source": [
        "bag1.union(bag2)"
      ],
      "metadata": {
        "colab": {
          "base_uri": "https://localhost:8080/"
        },
        "id": "muWm64npBTAs",
        "outputId": "d37b988f-90e9-4e31-8724-9d2f02c40000"
      },
      "execution_count": 46,
      "outputs": [
        {
          "output_type": "execute_result",
          "data": {
            "text/plain": [
              "{'book', 'bottle', 'laptop', 'pen', 'pencil', 'wallet'}"
            ]
          },
          "metadata": {},
          "execution_count": 46
        }
      ]
    },
    {
      "cell_type": "markdown",
      "source": [
        "### Commonly used Python dictionary Methods\n",
        "\n",
        "![](https://github.com/acmhitk/ACM-Python-Hobby-Class-2022/blob/main/assets/dict.png?raw=true)\n",
        "\n",
        "Read more here: https://www.w3schools.com/python/python_dictionaries_methods.asp"
      ],
      "metadata": {
        "id": "xRUNnC-zHTHt"
      }
    },
    {
      "cell_type": "code",
      "source": [
        "mydict = {\n",
        "  \"a\": \"apple\",\n",
        "  \"b\": \"banana\",\n",
        "  \"d\": \"dog\",\n",
        "  \"e\": \"egg\",\n",
        "  \"c\": \"cat\"\n",
        "}"
      ],
      "metadata": {
        "id": "UYX_gwlZLSEI"
      },
      "execution_count": 49,
      "outputs": []
    },
    {
      "cell_type": "code",
      "source": [
        "mydict"
      ],
      "metadata": {
        "colab": {
          "base_uri": "https://localhost:8080/"
        },
        "id": "M0avxIVqLs8V",
        "outputId": "b71a833e-ebf3-44cb-9494-a18095b5bc16"
      },
      "execution_count": 50,
      "outputs": [
        {
          "output_type": "execute_result",
          "data": {
            "text/plain": [
              "{'a': 'apple', 'b': 'banana', 'c': 'cat', 'd': 'dog', 'e': 'egg'}"
            ]
          },
          "metadata": {},
          "execution_count": 50
        }
      ]
    },
    {
      "cell_type": "markdown",
      "source": [
        "#### 1. len()\n",
        "\n",
        "Returns the length of the dictionary"
      ],
      "metadata": {
        "id": "w4OF5UYwOyq8"
      }
    },
    {
      "cell_type": "code",
      "source": [
        "len(mydict)"
      ],
      "metadata": {
        "colab": {
          "base_uri": "https://localhost:8080/"
        },
        "id": "DPKqLyz1QFyY",
        "outputId": "31337697-87bf-4b11-b614-608dc9019de5"
      },
      "execution_count": 51,
      "outputs": [
        {
          "output_type": "execute_result",
          "data": {
            "text/plain": [
              "5"
            ]
          },
          "metadata": {},
          "execution_count": 51
        }
      ]
    },
    {
      "cell_type": "markdown",
      "source": [
        "#### 2. get()\t\n",
        "Returns the value of the specified key"
      ],
      "metadata": {
        "id": "Go5OuLGFQNxy"
      }
    },
    {
      "cell_type": "code",
      "source": [
        "mydict.get('b')"
      ],
      "metadata": {
        "colab": {
          "base_uri": "https://localhost:8080/",
          "height": 36
        },
        "id": "7hjouOKlQNmg",
        "outputId": "008da9ef-3441-40f3-89e1-e6a2332828c7"
      },
      "execution_count": 52,
      "outputs": [
        {
          "output_type": "execute_result",
          "data": {
            "text/plain": [
              "'banana'"
            ],
            "application/vnd.google.colaboratory.intrinsic+json": {
              "type": "string"
            }
          },
          "metadata": {},
          "execution_count": 52
        }
      ]
    },
    {
      "cell_type": "markdown",
      "source": [
        "#### 3. items()\t\n",
        "Returns a list containing a tuple for each key value pair"
      ],
      "metadata": {
        "id": "eRfxGsIIQYPf"
      }
    },
    {
      "cell_type": "code",
      "source": [
        "mydict.items()"
      ],
      "metadata": {
        "colab": {
          "base_uri": "https://localhost:8080/"
        },
        "id": "Gp4YrQ88QIAH",
        "outputId": "7eba40e7-3a3a-4ae7-8503-6dca0895a484"
      },
      "execution_count": 53,
      "outputs": [
        {
          "output_type": "execute_result",
          "data": {
            "text/plain": [
              "dict_items([('a', 'apple'), ('b', 'banana'), ('d', 'dog'), ('e', 'egg'), ('c', 'cat')])"
            ]
          },
          "metadata": {},
          "execution_count": 53
        }
      ]
    },
    {
      "cell_type": "markdown",
      "source": [
        "#### 4. keys()\t\n",
        "Returns a list containing the dictionary's keys"
      ],
      "metadata": {
        "id": "ntacr15GRlgw"
      }
    },
    {
      "cell_type": "code",
      "source": [
        "mydict.keys()"
      ],
      "metadata": {
        "colab": {
          "base_uri": "https://localhost:8080/"
        },
        "id": "m5llm_13QhHQ",
        "outputId": "6d42cb77-ea6b-417f-e1a1-875dd7c56474"
      },
      "execution_count": 54,
      "outputs": [
        {
          "output_type": "execute_result",
          "data": {
            "text/plain": [
              "dict_keys(['a', 'b', 'd', 'e', 'c'])"
            ]
          },
          "metadata": {},
          "execution_count": 54
        }
      ]
    },
    {
      "cell_type": "markdown",
      "source": [
        "#### 5. pop()\t\n",
        "Removes the element with the specified key"
      ],
      "metadata": {
        "id": "YQ7SnvaKRy7U"
      }
    },
    {
      "cell_type": "code",
      "source": [
        "mydict.pop('c')\n",
        "mydict"
      ],
      "metadata": {
        "colab": {
          "base_uri": "https://localhost:8080/"
        },
        "id": "9cE2JfkYRozk",
        "outputId": "e5826fd3-0f3a-438b-95fe-77f47b93d0ed"
      },
      "execution_count": 55,
      "outputs": [
        {
          "output_type": "execute_result",
          "data": {
            "text/plain": [
              "{'a': 'apple', 'b': 'banana', 'd': 'dog', 'e': 'egg'}"
            ]
          },
          "metadata": {},
          "execution_count": 55
        }
      ]
    },
    {
      "cell_type": "markdown",
      "source": [
        "#### 6. values()\t\n",
        "Returns a list of all the values in the dictionary"
      ],
      "metadata": {
        "id": "capynLxdR-NR"
      }
    },
    {
      "cell_type": "code",
      "source": [
        "mydict.values()"
      ],
      "metadata": {
        "colab": {
          "base_uri": "https://localhost:8080/"
        },
        "id": "uhvj6mGyR4_v",
        "outputId": "929896a6-5c03-4205-dd47-37dfcc85cba3"
      },
      "execution_count": 56,
      "outputs": [
        {
          "output_type": "execute_result",
          "data": {
            "text/plain": [
              "dict_values(['apple', 'banana', 'dog', 'egg'])"
            ]
          },
          "metadata": {},
          "execution_count": 56
        }
      ]
    },
    {
      "cell_type": "markdown",
      "source": [
        "Hope you all enjoyed it!\n",
        "\n",
        "In the upcoming session we will explore If-else statements and Loops.\n",
        "\n",
        "Thank you so much for reading!\n",
        "\n",
        "Hope you all enjoyed it!\n",
        "\n",
        "![](https://github.com/acmhitk/ACM-Python-Hobby-Class-2022/blob/main/assets/thanks.png?raw=true)"
      ],
      "metadata": {
        "id": "iRQNBVLNSEDX"
      }
    }
  ],
  "metadata": {
    "kernelspec": {
      "display_name": "Python 3 (ipykernel)",
      "language": "python",
      "name": "python3"
    },
    "language_info": {
      "codemirror_mode": {
        "name": "ipython",
        "version": 3
      },
      "file_extension": ".py",
      "mimetype": "text/x-python",
      "name": "python",
      "nbconvert_exporter": "python",
      "pygments_lexer": "ipython3",
      "version": "3.9.6"
    },
    "colab": {
      "name": "002.ipynb",
      "provenance": []
    }
  },
  "nbformat": 4,
  "nbformat_minor": 0
}